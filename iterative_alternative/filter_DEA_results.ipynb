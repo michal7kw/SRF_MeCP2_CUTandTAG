{
 "cells": [
  {
   "cell_type": "code",
   "execution_count": 1,
   "metadata": {},
   "outputs": [],
   "source": [
    "import pandas as pd\n",
    "import glob\n",
    "import numpy as np\n",
    "import os\n",
    "import matplotlib.pyplot as plt\n",
    "\n",
    "# Set working directory\n",
    "os.chdir(f'/beegfs/scratch/ric.broccoli/kubacki.michal/SRF_CUTandTAG/iterative_alternative')"
   ]
  },
  {
   "cell_type": "code",
   "execution_count": 3,
   "metadata": {},
   "outputs": [],
   "source": [
    "# Load differential expression analysis results\n",
    "dea_nsc = pd.read_csv('../DATA/DEA_NSC.csv')\n",
    "dea_neu = pd.read_csv('../DATA/DEA_NEU.csv')"
   ]
  },
  {
   "cell_type": "code",
   "execution_count": 4,
   "metadata": {},
   "outputs": [
    {
     "name": "stdout",
     "output_type": "stream",
     "text": [
      "(14245, 7)\n"
     ]
    },
    {
     "data": {
      "text/html": [
       "<div>\n",
       "<style scoped>\n",
       "    .dataframe tbody tr th:only-of-type {\n",
       "        vertical-align: middle;\n",
       "    }\n",
       "\n",
       "    .dataframe tbody tr th {\n",
       "        vertical-align: top;\n",
       "    }\n",
       "\n",
       "    .dataframe thead th {\n",
       "        text-align: right;\n",
       "    }\n",
       "</style>\n",
       "<table border=\"1\" class=\"dataframe\">\n",
       "  <thead>\n",
       "    <tr style=\"text-align: right;\">\n",
       "      <th></th>\n",
       "      <th>gene</th>\n",
       "      <th>baseMean</th>\n",
       "      <th>log2FoldChange</th>\n",
       "      <th>lfcSE</th>\n",
       "      <th>stat</th>\n",
       "      <th>pvalue</th>\n",
       "      <th>padj</th>\n",
       "    </tr>\n",
       "  </thead>\n",
       "  <tbody>\n",
       "    <tr>\n",
       "      <th>0</th>\n",
       "      <td>Mir5125</td>\n",
       "      <td>128.824113</td>\n",
       "      <td>0.000073</td>\n",
       "      <td>0.189117</td>\n",
       "      <td>0.000383</td>\n",
       "      <td>0.999694</td>\n",
       "      <td>0.999694</td>\n",
       "    </tr>\n",
       "    <tr>\n",
       "      <th>1</th>\n",
       "      <td>Trim68</td>\n",
       "      <td>98.639563</td>\n",
       "      <td>0.000133</td>\n",
       "      <td>0.215486</td>\n",
       "      <td>0.000617</td>\n",
       "      <td>0.999508</td>\n",
       "      <td>0.999614</td>\n",
       "    </tr>\n",
       "    <tr>\n",
       "      <th>2</th>\n",
       "      <td>Frrs1</td>\n",
       "      <td>442.946120</td>\n",
       "      <td>0.000097</td>\n",
       "      <td>0.109825</td>\n",
       "      <td>0.000883</td>\n",
       "      <td>0.999295</td>\n",
       "      <td>0.999556</td>\n",
       "    </tr>\n",
       "    <tr>\n",
       "      <th>3</th>\n",
       "      <td>Notch4</td>\n",
       "      <td>60.968185</td>\n",
       "      <td>0.000246</td>\n",
       "      <td>0.266300</td>\n",
       "      <td>0.000925</td>\n",
       "      <td>0.999262</td>\n",
       "      <td>0.999556</td>\n",
       "    </tr>\n",
       "    <tr>\n",
       "      <th>4</th>\n",
       "      <td>Ano6</td>\n",
       "      <td>5982.860518</td>\n",
       "      <td>0.000074</td>\n",
       "      <td>0.070708</td>\n",
       "      <td>0.001043</td>\n",
       "      <td>0.999168</td>\n",
       "      <td>0.999503</td>\n",
       "    </tr>\n",
       "  </tbody>\n",
       "</table>\n",
       "</div>"
      ],
      "text/plain": [
       "      gene     baseMean  log2FoldChange     lfcSE      stat    pvalue  \\\n",
       "0  Mir5125   128.824113        0.000073  0.189117  0.000383  0.999694   \n",
       "1   Trim68    98.639563        0.000133  0.215486  0.000617  0.999508   \n",
       "2    Frrs1   442.946120        0.000097  0.109825  0.000883  0.999295   \n",
       "3   Notch4    60.968185        0.000246  0.266300  0.000925  0.999262   \n",
       "4     Ano6  5982.860518        0.000074  0.070708  0.001043  0.999168   \n",
       "\n",
       "       padj  \n",
       "0  0.999694  \n",
       "1  0.999614  \n",
       "2  0.999556  \n",
       "3  0.999556  \n",
       "4  0.999503  "
      ]
     },
     "execution_count": 4,
     "metadata": {},
     "output_type": "execute_result"
    }
   ],
   "source": [
    "print(dea_nsc.shape)\n",
    "dea_nsc.head()"
   ]
  },
  {
   "cell_type": "code",
   "execution_count": 5,
   "metadata": {},
   "outputs": [
    {
     "name": "stdout",
     "output_type": "stream",
     "text": [
      "(12945, 7)\n"
     ]
    },
    {
     "data": {
      "text/html": [
       "<div>\n",
       "<style scoped>\n",
       "    .dataframe tbody tr th:only-of-type {\n",
       "        vertical-align: middle;\n",
       "    }\n",
       "\n",
       "    .dataframe tbody tr th {\n",
       "        vertical-align: top;\n",
       "    }\n",
       "\n",
       "    .dataframe thead th {\n",
       "        text-align: right;\n",
       "    }\n",
       "</style>\n",
       "<table border=\"1\" class=\"dataframe\">\n",
       "  <thead>\n",
       "    <tr style=\"text-align: right;\">\n",
       "      <th></th>\n",
       "      <th>gene</th>\n",
       "      <th>baseMean</th>\n",
       "      <th>log2FoldChange</th>\n",
       "      <th>lfcSE</th>\n",
       "      <th>stat</th>\n",
       "      <th>pvalue</th>\n",
       "      <th>padj</th>\n",
       "    </tr>\n",
       "  </thead>\n",
       "  <tbody>\n",
       "    <tr>\n",
       "      <th>0</th>\n",
       "      <td>H2afy2</td>\n",
       "      <td>898.006083</td>\n",
       "      <td>-0.000002</td>\n",
       "      <td>0.096164</td>\n",
       "      <td>-0.000017</td>\n",
       "      <td>0.999986</td>\n",
       "      <td>0.999986</td>\n",
       "    </tr>\n",
       "    <tr>\n",
       "      <th>1</th>\n",
       "      <td>Lurap1l</td>\n",
       "      <td>248.853019</td>\n",
       "      <td>0.000021</td>\n",
       "      <td>0.175418</td>\n",
       "      <td>0.000119</td>\n",
       "      <td>0.999905</td>\n",
       "      <td>0.999970</td>\n",
       "    </tr>\n",
       "    <tr>\n",
       "      <th>2</th>\n",
       "      <td>Tcea1</td>\n",
       "      <td>1680.603269</td>\n",
       "      <td>0.000090</td>\n",
       "      <td>0.088197</td>\n",
       "      <td>0.001019</td>\n",
       "      <td>0.999187</td>\n",
       "      <td>0.999963</td>\n",
       "    </tr>\n",
       "    <tr>\n",
       "      <th>3</th>\n",
       "      <td>Igdcc4</td>\n",
       "      <td>872.289717</td>\n",
       "      <td>0.000126</td>\n",
       "      <td>0.100337</td>\n",
       "      <td>0.001255</td>\n",
       "      <td>0.998999</td>\n",
       "      <td>0.999963</td>\n",
       "    </tr>\n",
       "    <tr>\n",
       "      <th>4</th>\n",
       "      <td>Kdm6a</td>\n",
       "      <td>792.508606</td>\n",
       "      <td>-0.000035</td>\n",
       "      <td>0.108607</td>\n",
       "      <td>-0.000325</td>\n",
       "      <td>0.999741</td>\n",
       "      <td>0.999963</td>\n",
       "    </tr>\n",
       "  </tbody>\n",
       "</table>\n",
       "</div>"
      ],
      "text/plain": [
       "      gene     baseMean  log2FoldChange     lfcSE      stat    pvalue  \\\n",
       "0   H2afy2   898.006083       -0.000002  0.096164 -0.000017  0.999986   \n",
       "1  Lurap1l   248.853019        0.000021  0.175418  0.000119  0.999905   \n",
       "2    Tcea1  1680.603269        0.000090  0.088197  0.001019  0.999187   \n",
       "3   Igdcc4   872.289717        0.000126  0.100337  0.001255  0.998999   \n",
       "4    Kdm6a   792.508606       -0.000035  0.108607 -0.000325  0.999741   \n",
       "\n",
       "       padj  \n",
       "0  0.999986  \n",
       "1  0.999970  \n",
       "2  0.999963  \n",
       "3  0.999963  \n",
       "4  0.999963  "
      ]
     },
     "execution_count": 5,
     "metadata": {},
     "output_type": "execute_result"
    }
   ],
   "source": [
    "print(dea_neu.shape)\n",
    "dea_neu.head()"
   ]
  },
  {
   "cell_type": "code",
   "execution_count": 6,
   "metadata": {},
   "outputs": [
    {
     "name": "stdout",
     "output_type": "stream",
     "text": [
      "(8908, 7)\n",
      "(2115, 7)\n"
     ]
    }
   ],
   "source": [
    "dea_nsc = dea_nsc[dea_nsc['padj'] < 0.05]\n",
    "print(dea_nsc.shape)\n",
    "\n",
    "dea_neu = dea_neu[dea_neu['padj'] < 0.05]\n",
    "print(dea_neu.shape)"
   ]
  },
  {
   "cell_type": "code",
   "execution_count": 7,
   "metadata": {},
   "outputs": [
    {
     "name": "stdout",
     "output_type": "stream",
     "text": [
      "60.457748287200005\n",
      "83.6236023872\n"
     ]
    }
   ],
   "source": [
    "expression_threshold = dea_nsc['baseMean'].quantile(0.02)\n",
    "print(expression_threshold)\n",
    "\n",
    "expression_threshold = dea_neu['baseMean'].quantile(0.02)\n",
    "print(expression_threshold)"
   ]
  },
  {
   "cell_type": "code",
   "execution_count": 8,
   "metadata": {},
   "outputs": [
    {
     "name": "stdout",
     "output_type": "stream",
     "text": [
      "(8378, 7)\n",
      "(2072, 7)\n"
     ]
    }
   ],
   "source": [
    "dea_nsc = dea_nsc[dea_nsc['baseMean'] > expression_threshold]\n",
    "print(dea_nsc.shape)\n",
    "\n",
    "dea_neu = dea_neu[dea_neu['baseMean'] > expression_threshold]\n",
    "print(dea_neu.shape)"
   ]
  },
  {
   "cell_type": "code",
   "execution_count": 9,
   "metadata": {},
   "outputs": [],
   "source": [
    "dea_nsc.to_csv(f'/beegfs/scratch/ric.broccoli/kubacki.michal/SRF_CUTandTAG/iterative_alternative/DATA/DEA_NSC_filtered.csv', index=False)\n",
    "dea_neu.to_csv(f'/beegfs/scratch/ric.broccoli/kubacki.michal/SRF_CUTandTAG/iterative_alternative/DATA/DEA_NEU_filtered.csv', index=False)"
   ]
  }
 ],
 "metadata": {
  "kernelspec": {
   "display_name": "Python (snakemake)",
   "language": "python",
   "name": "snakemake"
  },
  "language_info": {
   "codemirror_mode": {
    "name": "ipython",
    "version": 3
   },
   "file_extension": ".py",
   "mimetype": "text/x-python",
   "name": "python",
   "nbconvert_exporter": "python",
   "pygments_lexer": "ipython3",
   "version": "3.11.11"
  }
 },
 "nbformat": 4,
 "nbformat_minor": 2
}
