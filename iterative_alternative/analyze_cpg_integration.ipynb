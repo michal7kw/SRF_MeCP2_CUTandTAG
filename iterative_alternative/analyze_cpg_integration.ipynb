{
 "cells": [
  {
   "cell_type": "code",
   "execution_count": 1,
   "metadata": {},
   "outputs": [],
   "source": [
    "import pandas as pd\n",
    "import glob\n",
    "import numpy as np\n",
    "import os\n",
    "import matplotlib.pyplot as plt\n",
    "import seaborn as sns\n",
    "\n",
    "EXPERIMENT=\"align2_005\"\n",
    "\n",
    "# Set working directory\n",
    "os.chdir(f'/beegfs/scratch/ric.broccoli/kubacki.michal/SRF_CUTandTAG/iterative_alternative/analyze_mecp2_cpg_enrichment_{EXPERIMENT}')"
   ]
  },
  {
   "cell_type": "markdown",
   "metadata": {},
   "source": [
    "# Integrate"
   ]
  },
  {
   "cell_type": "code",
   "execution_count": 2,
   "metadata": {},
   "outputs": [],
   "source": [
    "# Load the integrated results\n",
    "results_dir = \"integrated/\"\n",
    "df = pd.read_csv(f\"{results_dir}/mecp2_enriched_genes.csv\")"
   ]
  },
  {
   "cell_type": "code",
   "execution_count": 3,
   "metadata": {},
   "outputs": [
    {
     "name": "stdout",
     "output_type": "stream",
     "text": [
      "(12004, 12)\n"
     ]
    },
    {
     "data": {
      "text/html": [
       "<div>\n",
       "<style scoped>\n",
       "    .dataframe tbody tr th:only-of-type {\n",
       "        vertical-align: middle;\n",
       "    }\n",
       "\n",
       "    .dataframe tbody tr th {\n",
       "        vertical-align: top;\n",
       "    }\n",
       "\n",
       "    .dataframe thead th {\n",
       "        text-align: right;\n",
       "    }\n",
       "</style>\n",
       "<table border=\"1\" class=\"dataframe\">\n",
       "  <thead>\n",
       "    <tr style=\"text-align: right;\">\n",
       "      <th></th>\n",
       "      <th>gene</th>\n",
       "      <th>chr</th>\n",
       "      <th>cpg_start</th>\n",
       "      <th>cpg_end</th>\n",
       "      <th>mecp2_enrichment</th>\n",
       "      <th>exo_signal</th>\n",
       "      <th>endo_signal</th>\n",
       "      <th>binding_type</th>\n",
       "      <th>distance_to_gene</th>\n",
       "      <th>baseMean</th>\n",
       "      <th>log2FoldChange</th>\n",
       "      <th>padj</th>\n",
       "    </tr>\n",
       "  </thead>\n",
       "  <tbody>\n",
       "    <tr>\n",
       "      <th>0</th>\n",
       "      <td>0610009B22Rik</td>\n",
       "      <td>chr11</td>\n",
       "      <td>51688626</td>\n",
       "      <td>51689166</td>\n",
       "      <td>0.927207</td>\n",
       "      <td>2775.264257</td>\n",
       "      <td>2993.145475</td>\n",
       "      <td>both</td>\n",
       "      <td>292</td>\n",
       "      <td>NaN</td>\n",
       "      <td>NaN</td>\n",
       "      <td>NaN</td>\n",
       "    </tr>\n",
       "    <tr>\n",
       "      <th>1</th>\n",
       "      <td>0610010F05Rik</td>\n",
       "      <td>chr11</td>\n",
       "      <td>23633135</td>\n",
       "      <td>23633766</td>\n",
       "      <td>2.544609</td>\n",
       "      <td>633.626135</td>\n",
       "      <td>249.007293</td>\n",
       "      <td>both</td>\n",
       "      <td>127</td>\n",
       "      <td>NaN</td>\n",
       "      <td>NaN</td>\n",
       "      <td>NaN</td>\n",
       "    </tr>\n",
       "    <tr>\n",
       "      <th>2</th>\n",
       "      <td>0610010K14Rik</td>\n",
       "      <td>chr11</td>\n",
       "      <td>70237525</td>\n",
       "      <td>70238413</td>\n",
       "      <td>1.138274</td>\n",
       "      <td>432.391788</td>\n",
       "      <td>379.866033</td>\n",
       "      <td>both</td>\n",
       "      <td>499</td>\n",
       "      <td>NaN</td>\n",
       "      <td>NaN</td>\n",
       "      <td>NaN</td>\n",
       "    </tr>\n",
       "    <tr>\n",
       "      <th>3</th>\n",
       "      <td>0610011F06Rik</td>\n",
       "      <td>chr17</td>\n",
       "      <td>25875044</td>\n",
       "      <td>25875794</td>\n",
       "      <td>1.247181</td>\n",
       "      <td>675.105061</td>\n",
       "      <td>541.304633</td>\n",
       "      <td>both</td>\n",
       "      <td>420</td>\n",
       "      <td>NaN</td>\n",
       "      <td>NaN</td>\n",
       "      <td>NaN</td>\n",
       "    </tr>\n",
       "    <tr>\n",
       "      <th>4</th>\n",
       "      <td>0610012G03Rik</td>\n",
       "      <td>chr16</td>\n",
       "      <td>31948044</td>\n",
       "      <td>31948757</td>\n",
       "      <td>2.163532</td>\n",
       "      <td>77.034992</td>\n",
       "      <td>35.606118</td>\n",
       "      <td>both</td>\n",
       "      <td>263</td>\n",
       "      <td>1483.241219</td>\n",
       "      <td>0.327138</td>\n",
       "      <td>0.018344</td>\n",
       "    </tr>\n",
       "  </tbody>\n",
       "</table>\n",
       "</div>"
      ],
      "text/plain": [
       "            gene    chr  cpg_start   cpg_end  mecp2_enrichment   exo_signal  \\\n",
       "0  0610009B22Rik  chr11   51688626  51689166          0.927207  2775.264257   \n",
       "1  0610010F05Rik  chr11   23633135  23633766          2.544609   633.626135   \n",
       "2  0610010K14Rik  chr11   70237525  70238413          1.138274   432.391788   \n",
       "3  0610011F06Rik  chr17   25875044  25875794          1.247181   675.105061   \n",
       "4  0610012G03Rik  chr16   31948044  31948757          2.163532    77.034992   \n",
       "\n",
       "   endo_signal binding_type  distance_to_gene     baseMean  log2FoldChange  \\\n",
       "0  2993.145475         both               292          NaN             NaN   \n",
       "1   249.007293         both               127          NaN             NaN   \n",
       "2   379.866033         both               499          NaN             NaN   \n",
       "3   541.304633         both               420          NaN             NaN   \n",
       "4    35.606118         both               263  1483.241219        0.327138   \n",
       "\n",
       "       padj  \n",
       "0       NaN  \n",
       "1       NaN  \n",
       "2       NaN  \n",
       "3       NaN  \n",
       "4  0.018344  "
      ]
     },
     "execution_count": 3,
     "metadata": {},
     "output_type": "execute_result"
    }
   ],
   "source": [
    "print(df.shape)\n",
    "df.head()"
   ]
  },
  {
   "cell_type": "code",
   "execution_count": 4,
   "metadata": {},
   "outputs": [
    {
     "name": "stdout",
     "output_type": "stream",
     "text": [
      "(1553, 12)\n"
     ]
    },
    {
     "data": {
      "text/html": [
       "<div>\n",
       "<style scoped>\n",
       "    .dataframe tbody tr th:only-of-type {\n",
       "        vertical-align: middle;\n",
       "    }\n",
       "\n",
       "    .dataframe tbody tr th {\n",
       "        vertical-align: top;\n",
       "    }\n",
       "\n",
       "    .dataframe thead th {\n",
       "        text-align: right;\n",
       "    }\n",
       "</style>\n",
       "<table border=\"1\" class=\"dataframe\">\n",
       "  <thead>\n",
       "    <tr style=\"text-align: right;\">\n",
       "      <th></th>\n",
       "      <th>gene</th>\n",
       "      <th>chr</th>\n",
       "      <th>cpg_start</th>\n",
       "      <th>cpg_end</th>\n",
       "      <th>mecp2_enrichment</th>\n",
       "      <th>exo_signal</th>\n",
       "      <th>endo_signal</th>\n",
       "      <th>binding_type</th>\n",
       "      <th>distance_to_gene</th>\n",
       "      <th>baseMean</th>\n",
       "      <th>log2FoldChange</th>\n",
       "      <th>padj</th>\n",
       "    </tr>\n",
       "  </thead>\n",
       "  <tbody>\n",
       "    <tr>\n",
       "      <th>4</th>\n",
       "      <td>0610012G03Rik</td>\n",
       "      <td>chr16</td>\n",
       "      <td>31948044</td>\n",
       "      <td>31948757</td>\n",
       "      <td>2.163532</td>\n",
       "      <td>77.034992</td>\n",
       "      <td>35.606118</td>\n",
       "      <td>both</td>\n",
       "      <td>263</td>\n",
       "      <td>1483.241219</td>\n",
       "      <td>0.327138</td>\n",
       "      <td>0.018344</td>\n",
       "    </tr>\n",
       "    <tr>\n",
       "      <th>14</th>\n",
       "      <td>1110008P14Rik</td>\n",
       "      <td>chr2</td>\n",
       "      <td>32381502</td>\n",
       "      <td>32382189</td>\n",
       "      <td>0.871850</td>\n",
       "      <td>156.051024</td>\n",
       "      <td>178.988456</td>\n",
       "      <td>both</td>\n",
       "      <td>251</td>\n",
       "      <td>1256.617818</td>\n",
       "      <td>0.326418</td>\n",
       "      <td>0.010881</td>\n",
       "    </tr>\n",
       "    <tr>\n",
       "      <th>22</th>\n",
       "      <td>1110065P20Rik</td>\n",
       "      <td>chr4</td>\n",
       "      <td>124850233</td>\n",
       "      <td>124851474</td>\n",
       "      <td>0.532049</td>\n",
       "      <td>96.266398</td>\n",
       "      <td>180.935138</td>\n",
       "      <td>both</td>\n",
       "      <td>278</td>\n",
       "      <td>716.898761</td>\n",
       "      <td>0.496807</td>\n",
       "      <td>0.001177</td>\n",
       "    </tr>\n",
       "    <tr>\n",
       "      <th>62</th>\n",
       "      <td>1700025G04Rik</td>\n",
       "      <td>chr1</td>\n",
       "      <td>152089616</td>\n",
       "      <td>152090328</td>\n",
       "      <td>1.892529</td>\n",
       "      <td>359.393629</td>\n",
       "      <td>189.901261</td>\n",
       "      <td>both</td>\n",
       "      <td>203</td>\n",
       "      <td>2187.147601</td>\n",
       "      <td>-0.277303</td>\n",
       "      <td>0.013851</td>\n",
       "    </tr>\n",
       "    <tr>\n",
       "      <th>101</th>\n",
       "      <td>1810010H24Rik</td>\n",
       "      <td>chr11</td>\n",
       "      <td>107027745</td>\n",
       "      <td>107028594</td>\n",
       "      <td>0.513738</td>\n",
       "      <td>152.056720</td>\n",
       "      <td>295.981148</td>\n",
       "      <td>both</td>\n",
       "      <td>1849</td>\n",
       "      <td>255.436932</td>\n",
       "      <td>0.930793</td>\n",
       "      <td>0.000047</td>\n",
       "    </tr>\n",
       "  </tbody>\n",
       "</table>\n",
       "</div>"
      ],
      "text/plain": [
       "              gene    chr  cpg_start    cpg_end  mecp2_enrichment  exo_signal  \\\n",
       "4    0610012G03Rik  chr16   31948044   31948757          2.163532   77.034992   \n",
       "14   1110008P14Rik   chr2   32381502   32382189          0.871850  156.051024   \n",
       "22   1110065P20Rik   chr4  124850233  124851474          0.532049   96.266398   \n",
       "62   1700025G04Rik   chr1  152089616  152090328          1.892529  359.393629   \n",
       "101  1810010H24Rik  chr11  107027745  107028594          0.513738  152.056720   \n",
       "\n",
       "     endo_signal binding_type  distance_to_gene     baseMean  log2FoldChange  \\\n",
       "4      35.606118         both               263  1483.241219        0.327138   \n",
       "14    178.988456         both               251  1256.617818        0.326418   \n",
       "22    180.935138         both               278   716.898761        0.496807   \n",
       "62    189.901261         both               203  2187.147601       -0.277303   \n",
       "101   295.981148         both              1849   255.436932        0.930793   \n",
       "\n",
       "         padj  \n",
       "4    0.018344  \n",
       "14   0.010881  \n",
       "22   0.001177  \n",
       "62   0.013851  \n",
       "101  0.000047  "
      ]
     },
     "execution_count": 4,
     "metadata": {},
     "output_type": "execute_result"
    }
   ],
   "source": [
    "df = df[df['baseMean'].isna() == False]\n",
    "print(df.shape)\n",
    "df.head()"
   ]
  },
  {
   "cell_type": "code",
   "execution_count": 5,
   "metadata": {},
   "outputs": [
    {
     "data": {
      "text/plain": [
       "binding_type\n",
       "both        1486\n",
       "exo_only      67\n",
       "Name: count, dtype: int64"
      ]
     },
     "execution_count": 5,
     "metadata": {},
     "output_type": "execute_result"
    }
   ],
   "source": [
    "df.binding_type.value_counts()"
   ]
  },
  {
   "cell_type": "code",
   "execution_count": 6,
   "metadata": {},
   "outputs": [],
   "source": [
    "df = df[df['binding_type'] == 'both']"
   ]
  },
  {
   "cell_type": "code",
   "execution_count": 7,
   "metadata": {},
   "outputs": [],
   "source": [
    "# Define gene categories based on RNA-seq data\n",
    "def categorize_gene(row, fc_threshold=0.5, padj_threshold=0.05):\n",
    "    if pd.isna(row['log2FoldChange']) or pd.isna(row['padj']):\n",
    "        return 'non-deregulated'\n",
    "    elif row['padj'] > padj_threshold:\n",
    "        return 'non-deregulated'\n",
    "    elif row['log2FoldChange'] >= fc_threshold:\n",
    "        return 'up-regulated'\n",
    "    elif row['log2FoldChange'] <= -fc_threshold:\n",
    "        return 'down-regulated'\n",
    "    else:\n",
    "        return 'non-deregulated'"
   ]
  },
  {
   "cell_type": "code",
   "execution_count": 8,
   "metadata": {},
   "outputs": [],
   "source": [
    "# Add category column\n",
    "df['category'] = df.apply(categorize_gene, axis=1)\n"
   ]
  },
  {
   "cell_type": "code",
   "execution_count": 9,
   "metadata": {},
   "outputs": [
    {
     "data": {
      "text/plain": [
       "category\n",
       "non-deregulated    1156\n",
       "down-regulated      207\n",
       "up-regulated        123\n",
       "Name: count, dtype: int64"
      ]
     },
     "execution_count": 9,
     "metadata": {},
     "output_type": "execute_result"
    }
   ],
   "source": [
    "df['category'].value_counts()"
   ]
  },
  {
   "cell_type": "code",
   "execution_count": 10,
   "metadata": {},
   "outputs": [
    {
     "name": "stdout",
     "output_type": "stream",
     "text": [
      "\n",
      "non-deregulated:\n",
      "Number of genes: 1156\n",
      "Mean enrichment: 2.30\n",
      "Median enrichment: 1.69\n",
      "\n",
      "up-regulated:\n",
      "Number of genes: 123\n",
      "Mean enrichment: 2.22\n",
      "Median enrichment: 1.74\n",
      "\n",
      "down-regulated:\n",
      "Number of genes: 207\n",
      "Mean enrichment: 2.37\n",
      "Median enrichment: 1.54\n"
     ]
    }
   ],
   "source": [
    "# Create the density plot\n",
    "plt.figure(figsize=(12, 8))\n",
    "\n",
    "# Plot density for each category\n",
    "for category, color in zip(['non-deregulated', 'up-regulated', 'down-regulated'], \n",
    "                         ['blue', 'orange', 'green']):\n",
    "    subset = df[df['category'] == category]\n",
    "    if len(subset) > 0:\n",
    "        sns.kdeplot(data=subset['mecp2_enrichment'], \n",
    "                   label=category,\n",
    "                   color=color)\n",
    "\n",
    "plt.title('Mecp2 Enrichment Distribution by Gene Category')\n",
    "plt.xlabel('Enrichment (Exo/Endo)')\n",
    "plt.ylabel('Density')\n",
    "plt.xlim(0, 8)  \n",
    "plt.ylim(0, 1.2)\n",
    "plt.legend()\n",
    "\n",
    "# Add some statistics\n",
    "for category in ['non-deregulated', 'up-regulated', 'down-regulated']:\n",
    "    subset = df[df['category'] == category]\n",
    "    print(f\"\\n{category}:\")\n",
    "    print(f\"Number of genes: {len(subset)}\")\n",
    "    print(f\"Mean enrichment: {subset['mecp2_enrichment'].mean():.2f}\")\n",
    "    print(f\"Median enrichment: {subset['mecp2_enrichment'].median():.2f}\")\n",
    "\n",
    "# Save the plot\n",
    "plt.savefig(f\"{results_dir}/mecp2_enrichment_by_expression.pdf\", \n",
    "            bbox_inches='tight', dpi=300)\n",
    "plt.close()"
   ]
  }
 ],
 "metadata": {
  "kernelspec": {
   "display_name": "Python (snakemake)",
   "language": "python",
   "name": "snakemake"
  },
  "language_info": {
   "codemirror_mode": {
    "name": "ipython",
    "version": 3
   },
   "file_extension": ".py",
   "mimetype": "text/x-python",
   "name": "python",
   "nbconvert_exporter": "python",
   "pygments_lexer": "ipython3",
   "version": "3.11.11"
  }
 },
 "nbformat": 4,
 "nbformat_minor": 2
}
