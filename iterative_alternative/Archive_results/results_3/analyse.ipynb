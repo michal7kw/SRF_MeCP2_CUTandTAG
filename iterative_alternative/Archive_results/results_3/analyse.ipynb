{
 "cells": [
  {
   "cell_type": "code",
   "execution_count": 1,
   "metadata": {},
   "outputs": [],
   "source": [
    "import pandas as pd\n",
    "\n",
    "import os\n",
    "\n",
    "# Set working directory\n",
    "os.chdir('/beegfs/scratch/ric.broccoli/kubacki.michal/SRF_CUTandTAG/iterative_alternative/results_3')\n"
   ]
  },
  {
   "cell_type": "code",
   "execution_count": 2,
   "metadata": {},
   "outputs": [],
   "source": [
    "# Load the MeCP2 enrichment data\n",
    "mecp2_enrichment = pd.read_csv('cpg_enrichment_NSC.csv')\n",
    "\n",
    "# Sort by enrichment column in descending order\n",
    "mecp2_enrichment_sorted = mecp2_enrichment.sort_values('enrichment', ascending=False)\n"
   ]
  },
  {
   "cell_type": "code",
   "execution_count": 3,
   "metadata": {},
   "outputs": [
    {
     "data": {
      "text/html": [
       "<div>\n",
       "<style scoped>\n",
       "    .dataframe tbody tr th:only-of-type {\n",
       "        vertical-align: middle;\n",
       "    }\n",
       "\n",
       "    .dataframe tbody tr th {\n",
       "        vertical-align: top;\n",
       "    }\n",
       "\n",
       "    .dataframe thead th {\n",
       "        text-align: right;\n",
       "    }\n",
       "</style>\n",
       "<table border=\"1\" class=\"dataframe\">\n",
       "  <thead>\n",
       "    <tr style=\"text-align: right;\">\n",
       "      <th></th>\n",
       "      <th>chr</th>\n",
       "      <th>start</th>\n",
       "      <th>end</th>\n",
       "      <th>exo_signal</th>\n",
       "      <th>endo_signal</th>\n",
       "      <th>enrichment</th>\n",
       "    </tr>\n",
       "  </thead>\n",
       "  <tbody>\n",
       "    <tr>\n",
       "      <th>9195</th>\n",
       "      <td>chr3</td>\n",
       "      <td>65392275</td>\n",
       "      <td>65392745</td>\n",
       "      <td>2.977576</td>\n",
       "      <td>0.777422</td>\n",
       "      <td>2.977576</td>\n",
       "    </tr>\n",
       "    <tr>\n",
       "      <th>3823</th>\n",
       "      <td>chr13</td>\n",
       "      <td>48261040</td>\n",
       "      <td>48262467</td>\n",
       "      <td>2.693956</td>\n",
       "      <td>0.787132</td>\n",
       "      <td>2.693956</td>\n",
       "    </tr>\n",
       "    <tr>\n",
       "      <th>5784</th>\n",
       "      <td>chr16</td>\n",
       "      <td>57121467</td>\n",
       "      <td>57122311</td>\n",
       "      <td>2.587147</td>\n",
       "      <td>1.002178</td>\n",
       "      <td>2.581524</td>\n",
       "    </tr>\n",
       "    <tr>\n",
       "      <th>10850</th>\n",
       "      <td>chr5</td>\n",
       "      <td>21425051</td>\n",
       "      <td>21425567</td>\n",
       "      <td>4.951914</td>\n",
       "      <td>2.073839</td>\n",
       "      <td>2.387800</td>\n",
       "    </tr>\n",
       "    <tr>\n",
       "      <th>365</th>\n",
       "      <td>chr1</td>\n",
       "      <td>86582144</td>\n",
       "      <td>86582638</td>\n",
       "      <td>2.655673</td>\n",
       "      <td>1.115081</td>\n",
       "      <td>2.381596</td>\n",
       "    </tr>\n",
       "    <tr>\n",
       "      <th>7379</th>\n",
       "      <td>chr19</td>\n",
       "      <td>16955885</td>\n",
       "      <td>16956227</td>\n",
       "      <td>2.298362</td>\n",
       "      <td>0.672713</td>\n",
       "      <td>2.298362</td>\n",
       "    </tr>\n",
       "    <tr>\n",
       "      <th>6685</th>\n",
       "      <td>chr17</td>\n",
       "      <td>87672359</td>\n",
       "      <td>87672989</td>\n",
       "      <td>2.271040</td>\n",
       "      <td>0.760955</td>\n",
       "      <td>2.271040</td>\n",
       "    </tr>\n",
       "    <tr>\n",
       "      <th>12648</th>\n",
       "      <td>chr7</td>\n",
       "      <td>6696357</td>\n",
       "      <td>6696642</td>\n",
       "      <td>2.234541</td>\n",
       "      <td>0.531469</td>\n",
       "      <td>2.234541</td>\n",
       "    </tr>\n",
       "    <tr>\n",
       "      <th>3137</th>\n",
       "      <td>chr12</td>\n",
       "      <td>38778640</td>\n",
       "      <td>38779114</td>\n",
       "      <td>2.184231</td>\n",
       "      <td>0.472011</td>\n",
       "      <td>2.184231</td>\n",
       "    </tr>\n",
       "    <tr>\n",
       "      <th>12061</th>\n",
       "      <td>chr6</td>\n",
       "      <td>52012222</td>\n",
       "      <td>52012799</td>\n",
       "      <td>2.355975</td>\n",
       "      <td>1.100268</td>\n",
       "      <td>2.141274</td>\n",
       "    </tr>\n",
       "  </tbody>\n",
       "</table>\n",
       "</div>"
      ],
      "text/plain": [
       "         chr     start       end  exo_signal  endo_signal  enrichment\n",
       "9195    chr3  65392275  65392745    2.977576     0.777422    2.977576\n",
       "3823   chr13  48261040  48262467    2.693956     0.787132    2.693956\n",
       "5784   chr16  57121467  57122311    2.587147     1.002178    2.581524\n",
       "10850   chr5  21425051  21425567    4.951914     2.073839    2.387800\n",
       "365     chr1  86582144  86582638    2.655673     1.115081    2.381596\n",
       "7379   chr19  16955885  16956227    2.298362     0.672713    2.298362\n",
       "6685   chr17  87672359  87672989    2.271040     0.760955    2.271040\n",
       "12648   chr7   6696357   6696642    2.234541     0.531469    2.234541\n",
       "3137   chr12  38778640  38779114    2.184231     0.472011    2.184231\n",
       "12061   chr6  52012222  52012799    2.355975     1.100268    2.141274"
      ]
     },
     "execution_count": 3,
     "metadata": {},
     "output_type": "execute_result"
    }
   ],
   "source": [
    "mecp2_enrichment_sorted.head(10)"
   ]
  },
  {
   "cell_type": "code",
   "execution_count": 4,
   "metadata": {},
   "outputs": [],
   "source": [
    "mecp2_exo_sorted = mecp2_enrichment.sort_values('exo_signal', ascending=False)"
   ]
  },
  {
   "cell_type": "code",
   "execution_count": 11,
   "metadata": {},
   "outputs": [
    {
     "data": {
      "text/plain": [
       "array([False])"
      ]
     },
     "execution_count": 11,
     "metadata": {},
     "output_type": "execute_result"
    }
   ],
   "source": [
    "mecp2_exo_sorted['significant'].unique()"
   ]
  },
  {
   "cell_type": "code",
   "execution_count": 10,
   "metadata": {},
   "outputs": [
    {
     "data": {
      "text/html": [
       "<div>\n",
       "<style scoped>\n",
       "    .dataframe tbody tr th:only-of-type {\n",
       "        vertical-align: middle;\n",
       "    }\n",
       "\n",
       "    .dataframe tbody tr th {\n",
       "        vertical-align: top;\n",
       "    }\n",
       "\n",
       "    .dataframe thead th {\n",
       "        text-align: right;\n",
       "    }\n",
       "</style>\n",
       "<table border=\"1\" class=\"dataframe\">\n",
       "  <thead>\n",
       "    <tr style=\"text-align: right;\">\n",
       "      <th></th>\n",
       "      <th>chr</th>\n",
       "      <th>start</th>\n",
       "      <th>end</th>\n",
       "      <th>exo_signal</th>\n",
       "      <th>endo_signal</th>\n",
       "      <th>enrichment</th>\n",
       "      <th>exo_qValue</th>\n",
       "      <th>endo_qValue</th>\n",
       "      <th>significant</th>\n",
       "    </tr>\n",
       "  </thead>\n",
       "  <tbody>\n",
       "  </tbody>\n",
       "</table>\n",
       "</div>"
      ],
      "text/plain": [
       "Empty DataFrame\n",
       "Columns: [chr, start, end, exo_signal, endo_signal, enrichment, exo_qValue, endo_qValue, significant]\n",
       "Index: []"
      ]
     },
     "execution_count": 10,
     "metadata": {},
     "output_type": "execute_result"
    }
   ],
   "source": [
    "mecp2_exo_sorted[mecp2_exo_sorted['significant'] == True].head(10)"
   ]
  },
  {
   "cell_type": "code",
   "execution_count": null,
   "metadata": {},
   "outputs": [],
   "source": [
    "mecp2_binding_down_regulated.csv\n",
    "mecp2_binding_non_deregulated.csv\n",
    "mecp2_binding_up_regulated.csv\n",
    "mecp2_enrichment_independent.csv"
   ]
  }
 ],
 "metadata": {
  "kernelspec": {
   "display_name": "Python (snakemake)",
   "language": "python",
   "name": "snakemake"
  }
 },
 "nbformat": 4,
 "nbformat_minor": 2
}
