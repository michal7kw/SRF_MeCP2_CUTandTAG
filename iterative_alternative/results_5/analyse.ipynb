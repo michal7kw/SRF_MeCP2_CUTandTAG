{
 "cells": [
  {
   "cell_type": "code",
   "execution_count": null,
   "metadata": {},
   "outputs": [],
   "source": [
    "import pandas as pd\n",
    "\n",
    "# Load the MeCP2 enrichment data\n",
    "mecp2_enrichment = pd.read_csv('mecp2_enrichment_independent.csv')\n",
    "\n",
    "# Sort by enrichment column in descending order\n",
    "mecp2_enrichment_sorted = mecp2_enrichment.sort_values('enrichment', ascending=False)\n"
   ]
  }
 ],
 "metadata": {
  "language_info": {
   "name": "python"
  }
 },
 "nbformat": 4,
 "nbformat_minor": 2
}
