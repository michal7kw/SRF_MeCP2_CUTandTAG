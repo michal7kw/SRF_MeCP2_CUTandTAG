{
 "cells": [
  {
   "cell_type": "code",
   "execution_count": 27,
   "metadata": {},
   "outputs": [],
   "source": [
    "import pandas as pd\n",
    "import pybedtools\n",
    "import os"
   ]
  },
  {
   "cell_type": "markdown",
   "metadata": {},
   "source": [
    "# Not integrated"
   ]
  },
  {
   "cell_type": "markdown",
   "metadata": {},
   "source": [
    "## Align2"
   ]
  },
  {
   "cell_type": "markdown",
   "metadata": {},
   "source": [
    "### analyze_mecp2_cpg_enrichment_align2_005"
   ]
  },
  {
   "cell_type": "code",
   "execution_count": 38,
   "metadata": {},
   "outputs": [
    {
     "name": "stdout",
     "output_type": "stream",
     "text": [
      "analyze_mecp2_cpg_enrichment:\n",
      "Total number of peaks: 13713\n",
      "Saved both peaks (9361 rows) to mecp2_cpg_enrichment_parallel_both.csv\n",
      "Saved exo_only peaks (3500 rows) to mecp2_cpg_enrichment_parallel_exo_only.csv\n",
      "Saved endo_only peaks (852 rows) to mecp2_cpg_enrichment_parallel_endo_only.csv\n"
     ]
    }
   ],
   "source": [
    "os.chdir('/beegfs/scratch/ric.broccoli/kubacki.michal/SRF_MeCP2_CUTandTAG/iterative_alternative/analyze_mecp2_cpg_enrichment_align2_005/NSC/mecp2_cpg_enrichment_parallel')\n",
    "\n",
    "# Read the CSV file\n",
    "df = pd.read_csv('mecp2_cpg_enrichment_parallel.csv')\n",
    "\n",
    "# Create three dataframes based on binding_type\n",
    "binding_types_df = {\n",
    "    'both': df[df['binding_type'] == 'both'],\n",
    "    'exo_only': df[df['binding_type'] == 'exo_only'],\n",
    "    'endo_only': df[df['binding_type'] == 'endo_only']\n",
    "}\n",
    "\n",
    "print(\"analyze_mecp2_cpg_enrichment:\")\n",
    "print(f\"Total number of peaks: {len(df)}\")\n",
    "# Save each dataframe\n",
    "for binding_type, df_subset in binding_types_df.items():\n",
    "    output_file = f\"mecp2_cpg_enrichment_parallel_{binding_type}.csv\"\n",
    "    df_subset.to_csv(output_file, index=False)\n",
    "    print(f\"Saved {binding_type} peaks ({len(df_subset)} rows) to {output_file}\")"
   ]
  },
  {
   "cell_type": "code",
   "execution_count": 39,
   "metadata": {},
   "outputs": [
    {
     "name": "stdout",
     "output_type": "stream",
     "text": [
      "CpG islands analysis:\n",
      "Total number of peaks overlapping CpG islands: 13713\n",
      "Saved both CpG peaks (9361 rows) to mecp2_cpg_enrichment_parallel_both_CpG.csv\n",
      "Saved exo_only CpG peaks (3500 rows) to mecp2_cpg_enrichment_parallel_exo_only_CpG.csv\n",
      "Saved endo_only CpG peaks (852 rows) to mecp2_cpg_enrichment_parallel_endo_only_CpG.csv\n"
     ]
    }
   ],
   "source": [
    "# Convert DataFrame to BED format\n",
    "peaks_bed = pybedtools.BedTool.from_dataframe(df[['chr', 'start', 'end']])\n",
    "\n",
    "# Read CpG islands file\n",
    "cpg_islands = pybedtools.BedTool('../../../../DATA/cpg_islands.bed')\n",
    "\n",
    "# Find overlaps between peaks and CpG islands\n",
    "# Using -wo to get all fields from both files and the amount of overlap\n",
    "overlaps = peaks_bed.intersect(cpg_islands, wa=True, wb=True).to_dataframe(\n",
    "    names=['peak_chr', 'peak_start', 'peak_end',\n",
    "           'cpg_chr', 'cpg_start', 'cpg_end', 'cpg_id', 'cpg_label', 'cpg_number'])\n",
    "\n",
    "# Clean up the CpG number (remove \"CpG:\" prefix)\n",
    "overlaps['cpg_number'] = overlaps['cpg_number'].astype(str).str.extract('(\\d+)').astype(int)\n",
    "\n",
    "# Merge with original dataframe to get all peak information\n",
    "df_cpg = df.merge(\n",
    "    overlaps[['peak_chr', 'peak_start', 'peak_end', 'cpg_start', 'cpg_end', 'cpg_number']], \n",
    "    left_on=['chr', 'start', 'end'],\n",
    "    right_on=['peak_chr', 'peak_start', 'peak_end']\n",
    ").drop(['peak_chr', 'peak_start', 'peak_end'], axis=1)\n",
    "\n",
    "# Create three dataframes based on binding_type (only CpG overlapping peaks)\n",
    "binding_types_df = {\n",
    "    'both': df_cpg[df_cpg['binding_type'] == 'both'],\n",
    "    'exo_only': df_cpg[df_cpg['binding_type'] == 'exo_only'],\n",
    "    'endo_only': df_cpg[df_cpg['binding_type'] == 'endo_only']\n",
    "}\n",
    "\n",
    "print(\"CpG islands analysis:\")\n",
    "print(f\"Total number of peaks overlapping CpG islands: {len(df_cpg)}\")\n",
    "\n",
    "# Save each dataframe with CpG suffix\n",
    "for binding_type, df_subset in binding_types_df.items():\n",
    "    output_file = f\"mecp2_cpg_enrichment_parallel_{binding_type}_CpG.csv\"\n",
    "    df_subset.to_csv(output_file, index=False)\n",
    "    print(f\"Saved {binding_type} CpG peaks ({len(df_subset)} rows) to {output_file}\")"
   ]
  },
  {
   "cell_type": "code",
   "execution_count": 40,
   "metadata": {},
   "outputs": [
    {
     "data": {
      "text/html": [
       "<div>\n",
       "<style scoped>\n",
       "    .dataframe tbody tr th:only-of-type {\n",
       "        vertical-align: middle;\n",
       "    }\n",
       "\n",
       "    .dataframe tbody tr th {\n",
       "        vertical-align: top;\n",
       "    }\n",
       "\n",
       "    .dataframe thead th {\n",
       "        text-align: right;\n",
       "    }\n",
       "</style>\n",
       "<table border=\"1\" class=\"dataframe\">\n",
       "  <thead>\n",
       "    <tr style=\"text-align: right;\">\n",
       "      <th></th>\n",
       "      <th>chr</th>\n",
       "      <th>start</th>\n",
       "      <th>end</th>\n",
       "      <th>exo_signal</th>\n",
       "      <th>endo_signal</th>\n",
       "      <th>enrichment</th>\n",
       "      <th>pvalue</th>\n",
       "      <th>binding_type</th>\n",
       "      <th>peak_width_exo</th>\n",
       "      <th>peak_width_endo</th>\n",
       "      <th>significant</th>\n",
       "      <th>cpg_start</th>\n",
       "      <th>cpg_end</th>\n",
       "      <th>cpg_number</th>\n",
       "    </tr>\n",
       "  </thead>\n",
       "  <tbody>\n",
       "    <tr>\n",
       "      <th>0</th>\n",
       "      <td>chr1</td>\n",
       "      <td>3670619</td>\n",
       "      <td>3671074</td>\n",
       "      <td>14.040878</td>\n",
       "      <td>0.0</td>\n",
       "      <td>inf</td>\n",
       "      <td>1.0</td>\n",
       "      <td>exo_only</td>\n",
       "      <td>681.000000</td>\n",
       "      <td>0.0</td>\n",
       "      <td>False</td>\n",
       "      <td>3670619</td>\n",
       "      <td>3671074</td>\n",
       "      <td>34</td>\n",
       "    </tr>\n",
       "    <tr>\n",
       "      <th>1</th>\n",
       "      <td>chr1</td>\n",
       "      <td>4571641</td>\n",
       "      <td>4572075</td>\n",
       "      <td>50.997745</td>\n",
       "      <td>0.0</td>\n",
       "      <td>inf</td>\n",
       "      <td>1.0</td>\n",
       "      <td>exo_only</td>\n",
       "      <td>447.333333</td>\n",
       "      <td>0.0</td>\n",
       "      <td>False</td>\n",
       "      <td>4571641</td>\n",
       "      <td>4572075</td>\n",
       "      <td>44</td>\n",
       "    </tr>\n",
       "    <tr>\n",
       "      <th>2</th>\n",
       "      <td>chr1</td>\n",
       "      <td>4689184</td>\n",
       "      <td>4689397</td>\n",
       "      <td>77.713614</td>\n",
       "      <td>0.0</td>\n",
       "      <td>inf</td>\n",
       "      <td>1.0</td>\n",
       "      <td>exo_only</td>\n",
       "      <td>2094.000000</td>\n",
       "      <td>0.0</td>\n",
       "      <td>False</td>\n",
       "      <td>4689184</td>\n",
       "      <td>4689397</td>\n",
       "      <td>24</td>\n",
       "    </tr>\n",
       "    <tr>\n",
       "      <th>3</th>\n",
       "      <td>chr1</td>\n",
       "      <td>4785376</td>\n",
       "      <td>4785814</td>\n",
       "      <td>135.213609</td>\n",
       "      <td>0.0</td>\n",
       "      <td>inf</td>\n",
       "      <td>1.0</td>\n",
       "      <td>exo_only</td>\n",
       "      <td>808.200000</td>\n",
       "      <td>0.0</td>\n",
       "      <td>False</td>\n",
       "      <td>4785376</td>\n",
       "      <td>4785814</td>\n",
       "      <td>49</td>\n",
       "    </tr>\n",
       "    <tr>\n",
       "      <th>4</th>\n",
       "      <td>chr1</td>\n",
       "      <td>4807559</td>\n",
       "      <td>4808103</td>\n",
       "      <td>205.420074</td>\n",
       "      <td>0.0</td>\n",
       "      <td>inf</td>\n",
       "      <td>1.0</td>\n",
       "      <td>exo_only</td>\n",
       "      <td>949.800000</td>\n",
       "      <td>0.0</td>\n",
       "      <td>False</td>\n",
       "      <td>4807559</td>\n",
       "      <td>4808103</td>\n",
       "      <td>73</td>\n",
       "    </tr>\n",
       "  </tbody>\n",
       "</table>\n",
       "</div>"
      ],
      "text/plain": [
       "    chr    start      end  exo_signal  endo_signal  enrichment  pvalue  \\\n",
       "0  chr1  3670619  3671074   14.040878          0.0         inf     1.0   \n",
       "1  chr1  4571641  4572075   50.997745          0.0         inf     1.0   \n",
       "2  chr1  4689184  4689397   77.713614          0.0         inf     1.0   \n",
       "3  chr1  4785376  4785814  135.213609          0.0         inf     1.0   \n",
       "4  chr1  4807559  4808103  205.420074          0.0         inf     1.0   \n",
       "\n",
       "  binding_type  peak_width_exo  peak_width_endo  significant  cpg_start  \\\n",
       "0     exo_only      681.000000              0.0        False    3670619   \n",
       "1     exo_only      447.333333              0.0        False    4571641   \n",
       "2     exo_only     2094.000000              0.0        False    4689184   \n",
       "3     exo_only      808.200000              0.0        False    4785376   \n",
       "4     exo_only      949.800000              0.0        False    4807559   \n",
       "\n",
       "   cpg_end  cpg_number  \n",
       "0  3671074          34  \n",
       "1  4572075          44  \n",
       "2  4689397          24  \n",
       "3  4785814          49  \n",
       "4  4808103          73  "
      ]
     },
     "execution_count": 40,
     "metadata": {},
     "output_type": "execute_result"
    }
   ],
   "source": [
    "df_cpg.head()"
   ]
  },
  {
   "cell_type": "markdown",
   "metadata": {},
   "source": [
    "### analyze_mecp2_cpg_enrichment_align2_005_consistent_peaks"
   ]
  },
  {
   "cell_type": "code",
   "execution_count": 41,
   "metadata": {},
   "outputs": [
    {
     "name": "stdout",
     "output_type": "stream",
     "text": [
      "analyze_mecp2_cpg_enrichment_only_consistent_peaks\n",
      "Total number of peaks: 13626\n",
      "Saved both peaks (10348 rows) to mecp2_cpg_enrichment_parallel_both.csv\n",
      "Saved exo_only peaks (2361 rows) to mecp2_cpg_enrichment_parallel_exo_only.csv\n",
      "Saved endo_only peaks (917 rows) to mecp2_cpg_enrichment_parallel_endo_only.csv\n"
     ]
    }
   ],
   "source": [
    "os.chdir('/beegfs/scratch/ric.broccoli/kubacki.michal/SRF_MeCP2_CUTandTAG/iterative_alternative/analyze_mecp2_cpg_enrichment_align2_005_consistent_peaks/NSC/mecp2_cpg_enrichment_parallel')\n",
    "\n",
    "# Read the CSV file\n",
    "df = pd.read_csv('mecp2_cpg_enrichment_parallel.csv')\n",
    "\n",
    "# Create three dataframes based on binding_type\n",
    "binding_types_df = {\n",
    "    'both': df[df['binding_type'] == 'both'],\n",
    "    'exo_only': df[df['binding_type'] == 'exo_only'],\n",
    "    'endo_only': df[df['binding_type'] == 'endo_only']\n",
    "}\n",
    "\n",
    "print(\"analyze_mecp2_cpg_enrichment_only_consistent_peaks\")\n",
    "print(f\"Total number of peaks: {len(df)}\")\n",
    "# Save each dataframe\n",
    "for binding_type, df_subset in binding_types_df.items():\n",
    "    output_file = f\"mecp2_cpg_enrichment_parallel_{binding_type}.csv\"\n",
    "    df_subset.to_csv(output_file, index=False)\n",
    "    print(f\"Saved {binding_type} peaks ({len(df_subset)} rows) to {output_file}\")"
   ]
  },
  {
   "cell_type": "code",
   "execution_count": 42,
   "metadata": {},
   "outputs": [
    {
     "name": "stdout",
     "output_type": "stream",
     "text": [
      "CpG islands analysis:\n",
      "Total number of peaks overlapping CpG islands: 13626\n",
      "Saved both CpG peaks (10348 rows) to mecp2_cpg_enrichment_parallel_both_CpG.csv\n",
      "Saved exo_only CpG peaks (2361 rows) to mecp2_cpg_enrichment_parallel_exo_only_CpG.csv\n",
      "Saved endo_only CpG peaks (917 rows) to mecp2_cpg_enrichment_parallel_endo_only_CpG.csv\n"
     ]
    }
   ],
   "source": [
    "# Convert DataFrame to BED format\n",
    "peaks_bed = pybedtools.BedTool.from_dataframe(df[['chr', 'start', 'end']])\n",
    "\n",
    "# Read CpG islands file\n",
    "cpg_islands = pybedtools.BedTool('../../../../DATA/cpg_islands.bed')\n",
    "\n",
    "# Find overlaps between peaks and CpG islands\n",
    "# Using -wo to get all fields from both files and the amount of overlap\n",
    "overlaps = peaks_bed.intersect(cpg_islands, wa=True, wb=True).to_dataframe(\n",
    "    names=['peak_chr', 'peak_start', 'peak_end',\n",
    "           'cpg_chr', 'cpg_start', 'cpg_end', 'cpg_id', 'cpg_label', 'cpg_number'])\n",
    "\n",
    "# Clean up the CpG number (remove \"CpG:\" prefix)\n",
    "overlaps['cpg_number'] = overlaps['cpg_number'].astype(str).str.extract('(\\d+)').astype(int)\n",
    "\n",
    "# Merge with original dataframe to get all peak information\n",
    "df_cpg = df.merge(\n",
    "    overlaps[['peak_chr', 'peak_start', 'peak_end', 'cpg_start', 'cpg_end', 'cpg_number']], \n",
    "    left_on=['chr', 'start', 'end'],\n",
    "    right_on=['peak_chr', 'peak_start', 'peak_end']\n",
    ").drop(['peak_chr', 'peak_start', 'peak_end'], axis=1)\n",
    "\n",
    "# Create three dataframes based on binding_type (only CpG overlapping peaks)\n",
    "binding_types_df = {\n",
    "    'both': df_cpg[df_cpg['binding_type'] == 'both'],\n",
    "    'exo_only': df_cpg[df_cpg['binding_type'] == 'exo_only'],\n",
    "    'endo_only': df_cpg[df_cpg['binding_type'] == 'endo_only']\n",
    "}\n",
    "\n",
    "print(\"CpG islands analysis:\")\n",
    "print(f\"Total number of peaks overlapping CpG islands: {len(df_cpg)}\")\n",
    "\n",
    "# Save each dataframe with CpG suffix\n",
    "for binding_type, df_subset in binding_types_df.items():\n",
    "    output_file = f\"mecp2_cpg_enrichment_parallel_{binding_type}_CpG.csv\"\n",
    "    df_subset.to_csv(output_file, index=False)\n",
    "    print(f\"Saved {binding_type} CpG peaks ({len(df_subset)} rows) to {output_file}\")"
   ]
  },
  {
   "cell_type": "markdown",
   "metadata": {},
   "source": [
    "## Align1"
   ]
  },
  {
   "cell_type": "markdown",
   "metadata": {},
   "source": [
    "### analyze_mecp2_cpg_enrichment_align1_005"
   ]
  },
  {
   "cell_type": "code",
   "execution_count": 43,
   "metadata": {},
   "outputs": [
    {
     "name": "stdout",
     "output_type": "stream",
     "text": [
      "analyze_mecp2_cpg_enrichment:\n",
      "Total number of peaks: 14649\n",
      "Saved both peaks (12425 rows) to mecp2_cpg_enrichment_parallel_both.csv\n",
      "Saved exo_only peaks (1123 rows) to mecp2_cpg_enrichment_parallel_exo_only.csv\n",
      "Saved endo_only peaks (1101 rows) to mecp2_cpg_enrichment_parallel_endo_only.csv\n"
     ]
    }
   ],
   "source": [
    "os.chdir('/beegfs/scratch/ric.broccoli/kubacki.michal/SRF_MeCP2_CUTandTAG/iterative_alternative/analyze_mecp2_cpg_enrichment_align1_005/NSC/mecp2_cpg_enrichment_parallel')\n",
    "\n",
    "# Read the CSV file\n",
    "df = pd.read_csv('mecp2_cpg_enrichment_parallel.csv')\n",
    "\n",
    "# Create three dataframes based on binding_type\n",
    "binding_types_df = {\n",
    "    'both': df[df['binding_type'] == 'both'],\n",
    "    'exo_only': df[df['binding_type'] == 'exo_only'],\n",
    "    'endo_only': df[df['binding_type'] == 'endo_only']\n",
    "}\n",
    "\n",
    "print(\"analyze_mecp2_cpg_enrichment:\")\n",
    "print(f\"Total number of peaks: {len(df)}\")\n",
    "# Save each dataframe\n",
    "for binding_type, df_subset in binding_types_df.items():\n",
    "    output_file = f\"mecp2_cpg_enrichment_parallel_{binding_type}.csv\"\n",
    "    df_subset.to_csv(output_file, index=False)\n",
    "    print(f\"Saved {binding_type} peaks ({len(df_subset)} rows) to {output_file}\")"
   ]
  },
  {
   "cell_type": "code",
   "execution_count": 44,
   "metadata": {},
   "outputs": [
    {
     "name": "stdout",
     "output_type": "stream",
     "text": [
      "CpG islands analysis:\n",
      "Total number of peaks overlapping CpG islands: 14649\n",
      "Saved both CpG peaks (12425 rows) to mecp2_cpg_enrichment_parallel_both_CpG.csv\n",
      "Saved exo_only CpG peaks (1123 rows) to mecp2_cpg_enrichment_parallel_exo_only_CpG.csv\n",
      "Saved endo_only CpG peaks (1101 rows) to mecp2_cpg_enrichment_parallel_endo_only_CpG.csv\n"
     ]
    }
   ],
   "source": [
    "# Convert DataFrame to BED format\n",
    "peaks_bed = pybedtools.BedTool.from_dataframe(df[['chr', 'start', 'end']])\n",
    "\n",
    "# Read CpG islands file\n",
    "cpg_islands = pybedtools.BedTool('../../../../DATA/cpg_islands.bed')\n",
    "\n",
    "# Find overlaps between peaks and CpG islands\n",
    "# Using -wo to get all fields from both files and the amount of overlap\n",
    "overlaps = peaks_bed.intersect(cpg_islands, wa=True, wb=True).to_dataframe(\n",
    "    names=['peak_chr', 'peak_start', 'peak_end',\n",
    "           'cpg_chr', 'cpg_start', 'cpg_end', 'cpg_id', 'cpg_label', 'cpg_number'])\n",
    "\n",
    "# Clean up the CpG number (remove \"CpG:\" prefix)\n",
    "overlaps['cpg_number'] = overlaps['cpg_number'].astype(str).str.extract('(\\d+)').astype(int)\n",
    "\n",
    "# Merge with original dataframe to get all peak information\n",
    "df_cpg = df.merge(\n",
    "    overlaps[['peak_chr', 'peak_start', 'peak_end', 'cpg_start', 'cpg_end', 'cpg_number']], \n",
    "    left_on=['chr', 'start', 'end'],\n",
    "    right_on=['peak_chr', 'peak_start', 'peak_end']\n",
    ").drop(['peak_chr', 'peak_start', 'peak_end'], axis=1)\n",
    "\n",
    "# Create three dataframes based on binding_type (only CpG overlapping peaks)\n",
    "binding_types_df = {\n",
    "    'both': df_cpg[df_cpg['binding_type'] == 'both'],\n",
    "    'exo_only': df_cpg[df_cpg['binding_type'] == 'exo_only'],\n",
    "    'endo_only': df_cpg[df_cpg['binding_type'] == 'endo_only']\n",
    "}\n",
    "\n",
    "print(\"CpG islands analysis:\")\n",
    "print(f\"Total number of peaks overlapping CpG islands: {len(df_cpg)}\")\n",
    "\n",
    "# Save each dataframe with CpG suffix\n",
    "for binding_type, df_subset in binding_types_df.items():\n",
    "    output_file = f\"mecp2_cpg_enrichment_parallel_{binding_type}_CpG.csv\"\n",
    "    df_subset.to_csv(output_file, index=False)\n",
    "    print(f\"Saved {binding_type} CpG peaks ({len(df_subset)} rows) to {output_file}\")"
   ]
  },
  {
   "cell_type": "markdown",
   "metadata": {},
   "source": [
    "### analyze_mecp2_cpg_enrichment_align1_005_consistent_peaks"
   ]
  },
  {
   "cell_type": "code",
   "execution_count": 45,
   "metadata": {},
   "outputs": [
    {
     "name": "stdout",
     "output_type": "stream",
     "text": [
      "analyze_mecp2_cpg_enrichment_only_consistent_peaks\n",
      "Total number of peaks: 14467\n",
      "Saved both peaks (12337 rows) to mecp2_cpg_enrichment_parallel_both.csv\n",
      "Saved exo_only peaks (1343 rows) to mecp2_cpg_enrichment_parallel_exo_only.csv\n",
      "Saved endo_only peaks (787 rows) to mecp2_cpg_enrichment_parallel_endo_only.csv\n"
     ]
    }
   ],
   "source": [
    "os.chdir('/beegfs/scratch/ric.broccoli/kubacki.michal/SRF_MeCP2_CUTandTAG/iterative_alternative/analyze_mecp2_cpg_enrichment_align1_005_consistent_peaks/NSC/mecp2_cpg_enrichment_parallel')\n",
    "\n",
    "# Read the CSV file\n",
    "df = pd.read_csv('mecp2_cpg_enrichment_parallel.csv')\n",
    "\n",
    "# Create three dataframes based on binding_type\n",
    "binding_types_df = {\n",
    "    'both': df[df['binding_type'] == 'both'],\n",
    "    'exo_only': df[df['binding_type'] == 'exo_only'],\n",
    "    'endo_only': df[df['binding_type'] == 'endo_only']\n",
    "}\n",
    "\n",
    "print(\"analyze_mecp2_cpg_enrichment_only_consistent_peaks\")\n",
    "print(f\"Total number of peaks: {len(df)}\")\n",
    "# Save each dataframe\n",
    "for binding_type, df_subset in binding_types_df.items():\n",
    "    output_file = f\"mecp2_cpg_enrichment_parallel_{binding_type}.csv\"\n",
    "    df_subset.to_csv(output_file, index=False)\n",
    "    print(f\"Saved {binding_type} peaks ({len(df_subset)} rows) to {output_file}\")"
   ]
  },
  {
   "cell_type": "code",
   "execution_count": 46,
   "metadata": {},
   "outputs": [
    {
     "name": "stdout",
     "output_type": "stream",
     "text": [
      "CpG islands analysis:\n",
      "Total number of peaks overlapping CpG islands: 14467\n",
      "Saved both CpG peaks (12337 rows) to mecp2_cpg_enrichment_parallel_both_CpG.csv\n",
      "Saved exo_only CpG peaks (1343 rows) to mecp2_cpg_enrichment_parallel_exo_only_CpG.csv\n",
      "Saved endo_only CpG peaks (787 rows) to mecp2_cpg_enrichment_parallel_endo_only_CpG.csv\n"
     ]
    }
   ],
   "source": [
    "# Convert DataFrame to BED format\n",
    "peaks_bed = pybedtools.BedTool.from_dataframe(df[['chr', 'start', 'end']])\n",
    "\n",
    "# Read CpG islands file\n",
    "cpg_islands = pybedtools.BedTool('../../../../DATA/cpg_islands.bed')\n",
    "\n",
    "# Find overlaps between peaks and CpG islands\n",
    "# Using -wo to get all fields from both files and the amount of overlap\n",
    "overlaps = peaks_bed.intersect(cpg_islands, wa=True, wb=True).to_dataframe(\n",
    "    names=['peak_chr', 'peak_start', 'peak_end',\n",
    "           'cpg_chr', 'cpg_start', 'cpg_end', 'cpg_id', 'cpg_label', 'cpg_number'])\n",
    "\n",
    "# Clean up the CpG number (remove \"CpG:\" prefix)\n",
    "overlaps['cpg_number'] = overlaps['cpg_number'].astype(str).str.extract('(\\d+)').astype(int)\n",
    "\n",
    "# Merge with original dataframe to get all peak information\n",
    "df_cpg = df.merge(\n",
    "    overlaps[['peak_chr', 'peak_start', 'peak_end', 'cpg_start', 'cpg_end', 'cpg_number']], \n",
    "    left_on=['chr', 'start', 'end'],\n",
    "    right_on=['peak_chr', 'peak_start', 'peak_end']\n",
    ").drop(['peak_chr', 'peak_start', 'peak_end'], axis=1)\n",
    "\n",
    "# Create three dataframes based on binding_type (only CpG overlapping peaks)\n",
    "binding_types_df = {\n",
    "    'both': df_cpg[df_cpg['binding_type'] == 'both'],\n",
    "    'exo_only': df_cpg[df_cpg['binding_type'] == 'exo_only'],\n",
    "    'endo_only': df_cpg[df_cpg['binding_type'] == 'endo_only']\n",
    "}\n",
    "\n",
    "print(\"CpG islands analysis:\")\n",
    "print(f\"Total number of peaks overlapping CpG islands: {len(df_cpg)}\")\n",
    "\n",
    "# Save each dataframe with CpG suffix\n",
    "for binding_type, df_subset in binding_types_df.items():\n",
    "    output_file = f\"mecp2_cpg_enrichment_parallel_{binding_type}_CpG.csv\"\n",
    "    df_subset.to_csv(output_file, index=False)\n",
    "    print(f\"Saved {binding_type} CpG peaks ({len(df_subset)} rows) to {output_file}\")"
   ]
  },
  {
   "cell_type": "markdown",
   "metadata": {},
   "source": [
    "# Integrated"
   ]
  },
  {
   "cell_type": "code",
   "execution_count": 7,
   "metadata": {},
   "outputs": [
    {
     "name": "stdout",
     "output_type": "stream",
     "text": [
      "Saved both peaks (1607 rows) to mecp2_enriched_genes_both.csv\n",
      "Saved exo_only peaks (0 rows) to mecp2_enriched_genes_exo_only.csv\n",
      "Saved endo_only peaks (0 rows) to mecp2_enriched_genes_endo_only.csv\n"
     ]
    }
   ],
   "source": [
    "os.chdir('/beegfs/scratch/ric.broccoli/kubacki.michal/SRF_MeCP2_CUTandTAG/iterative_alternative/analyze_mecp2_cpg_enrichment_align2_005_consistent_peaks/NSC/integrated')\n",
    "\n",
    "\n",
    "# Read the CSV file\n",
    "df = pd.read_csv('mecp2_enriched_genes.csv')\n",
    "\n",
    "# Create three dataframes based on binding_type\n",
    "binding_types_df = {\n",
    "    'both': df[df['binding_type'] == 'both'],\n",
    "    'exo_only': df[df['binding_type'] == 'exo_only'],\n",
    "    'endo_only': df[df['binding_type'] == 'endo_only']\n",
    "}\n",
    "\n",
    "# Save each dataframe\n",
    "for binding_type, df_subset in binding_types_df.items():\n",
    "    output_file = f\"mecp2_enriched_genes_{binding_type}.csv\"\n",
    "    df_subset.to_csv(output_file, index=False)\n",
    "    print(f\"Saved {binding_type} peaks ({len(df_subset)} rows) to {output_file}\")"
   ]
  },
  {
   "cell_type": "code",
   "execution_count": null,
   "metadata": {},
   "outputs": [],
   "source": []
  }
 ],
 "metadata": {
  "kernelspec": {
   "display_name": "Python (snakemake)",
   "language": "python",
   "name": "snakemake"
  },
  "language_info": {
   "codemirror_mode": {
    "name": "ipython",
    "version": 3
   },
   "file_extension": ".py",
   "mimetype": "text/x-python",
   "name": "python",
   "nbconvert_exporter": "python",
   "pygments_lexer": "ipython3",
   "version": "3.11.11"
  }
 },
 "nbformat": 4,
 "nbformat_minor": 2
}
