{
 "cells": [
  {
   "cell_type": "code",
   "execution_count": 24,
   "metadata": {},
   "outputs": [],
   "source": [
    "import pandas as pd\n",
    "import glob\n",
    "import numpy as np\n",
    "import os\n",
    "import matplotlib.pyplot as plt\n",
    "\n",
    "EXPERIMENT=\"align2_005\"\n",
    "\n",
    "# Set working directory\n",
    "os.chdir(f'/beegfs/scratch/ric.broccoli/kubacki.michal/SRF_CUTandTAG/iterative_alternative/analyze_mecp2_cpg_enrichment_{EXPERIMENT}')"
   ]
  },
  {
   "cell_type": "markdown",
   "metadata": {},
   "source": [
    "# Parallel\n"
   ]
  },
  {
   "cell_type": "code",
   "execution_count": 25,
   "metadata": {},
   "outputs": [
    {
     "name": "stdout",
     "output_type": "stream",
     "text": [
      "(14245, 7)\n"
     ]
    },
    {
     "data": {
      "text/html": [
       "<div>\n",
       "<style scoped>\n",
       "    .dataframe tbody tr th:only-of-type {\n",
       "        vertical-align: middle;\n",
       "    }\n",
       "\n",
       "    .dataframe tbody tr th {\n",
       "        vertical-align: top;\n",
       "    }\n",
       "\n",
       "    .dataframe thead th {\n",
       "        text-align: right;\n",
       "    }\n",
       "</style>\n",
       "<table border=\"1\" class=\"dataframe\">\n",
       "  <thead>\n",
       "    <tr style=\"text-align: right;\">\n",
       "      <th></th>\n",
       "      <th>gene</th>\n",
       "      <th>baseMean</th>\n",
       "      <th>log2FoldChange</th>\n",
       "      <th>lfcSE</th>\n",
       "      <th>stat</th>\n",
       "      <th>pvalue</th>\n",
       "      <th>padj</th>\n",
       "    </tr>\n",
       "  </thead>\n",
       "  <tbody>\n",
       "    <tr>\n",
       "      <th>0</th>\n",
       "      <td>Mir5125</td>\n",
       "      <td>128.824113</td>\n",
       "      <td>0.000073</td>\n",
       "      <td>0.189117</td>\n",
       "      <td>0.000383</td>\n",
       "      <td>0.999694</td>\n",
       "      <td>0.999694</td>\n",
       "    </tr>\n",
       "    <tr>\n",
       "      <th>1</th>\n",
       "      <td>Trim68</td>\n",
       "      <td>98.639563</td>\n",
       "      <td>0.000133</td>\n",
       "      <td>0.215486</td>\n",
       "      <td>0.000617</td>\n",
       "      <td>0.999508</td>\n",
       "      <td>0.999614</td>\n",
       "    </tr>\n",
       "    <tr>\n",
       "      <th>2</th>\n",
       "      <td>Frrs1</td>\n",
       "      <td>442.946120</td>\n",
       "      <td>0.000097</td>\n",
       "      <td>0.109825</td>\n",
       "      <td>0.000883</td>\n",
       "      <td>0.999295</td>\n",
       "      <td>0.999556</td>\n",
       "    </tr>\n",
       "    <tr>\n",
       "      <th>3</th>\n",
       "      <td>Notch4</td>\n",
       "      <td>60.968185</td>\n",
       "      <td>0.000246</td>\n",
       "      <td>0.266300</td>\n",
       "      <td>0.000925</td>\n",
       "      <td>0.999262</td>\n",
       "      <td>0.999556</td>\n",
       "    </tr>\n",
       "    <tr>\n",
       "      <th>4</th>\n",
       "      <td>Ano6</td>\n",
       "      <td>5982.860518</td>\n",
       "      <td>0.000074</td>\n",
       "      <td>0.070708</td>\n",
       "      <td>0.001043</td>\n",
       "      <td>0.999168</td>\n",
       "      <td>0.999503</td>\n",
       "    </tr>\n",
       "  </tbody>\n",
       "</table>\n",
       "</div>"
      ],
      "text/plain": [
       "      gene     baseMean  log2FoldChange     lfcSE      stat    pvalue  \\\n",
       "0  Mir5125   128.824113        0.000073  0.189117  0.000383  0.999694   \n",
       "1   Trim68    98.639563        0.000133  0.215486  0.000617  0.999508   \n",
       "2    Frrs1   442.946120        0.000097  0.109825  0.000883  0.999295   \n",
       "3   Notch4    60.968185        0.000246  0.266300  0.000925  0.999262   \n",
       "4     Ano6  5982.860518        0.000074  0.070708  0.001043  0.999168   \n",
       "\n",
       "       padj  \n",
       "0  0.999694  \n",
       "1  0.999614  \n",
       "2  0.999556  \n",
       "3  0.999556  \n",
       "4  0.999503  "
      ]
     },
     "execution_count": 25,
     "metadata": {},
     "output_type": "execute_result"
    }
   ],
   "source": [
    "# Load differential expression analysis results\n",
    "dea_nsc = pd.read_csv('../../DATA/DEA_NSC.csv')\n",
    "print(dea_nsc.shape)\n",
    "dea_nsc.head()"
   ]
  },
  {
   "cell_type": "code",
   "execution_count": 26,
   "metadata": {},
   "outputs": [
    {
     "data": {
      "text/plain": [
       "(8908, 7)"
      ]
     },
     "execution_count": 26,
     "metadata": {},
     "output_type": "execute_result"
    }
   ],
   "source": [
    "dea_nsc = dea_nsc[dea_nsc['padj'] < 0.05]\n",
    "dea_nsc.shape"
   ]
  },
  {
   "cell_type": "code",
   "execution_count": 27,
   "metadata": {},
   "outputs": [
    {
     "name": "stdout",
     "output_type": "stream",
     "text": [
      "60.457748287200005\n"
     ]
    }
   ],
   "source": [
    "expression_threshold = dea_nsc['baseMean'].quantile(0.02)\n",
    "print(expression_threshold)"
   ]
  },
  {
   "cell_type": "code",
   "execution_count": 28,
   "metadata": {},
   "outputs": [
    {
     "data": {
      "text/plain": [
       "(8729, 7)"
      ]
     },
     "execution_count": 28,
     "metadata": {},
     "output_type": "execute_result"
    }
   ],
   "source": [
    "dea_nsc = dea_nsc[dea_nsc['baseMean'] > expression_threshold]\n",
    "dea_nsc.shape"
   ]
  },
  {
   "cell_type": "code",
   "execution_count": 29,
   "metadata": {},
   "outputs": [],
   "source": [
    "dea_nsc.to_csv(f'/beegfs/scratch/ric.broccoli/kubacki.michal/SRF_CUTandTAG/iterative_alternative/DATA/DEA_NSC_filtered.csv', index=False)"
   ]
  },
  {
   "cell_type": "code",
   "execution_count": 30,
   "metadata": {},
   "outputs": [
    {
     "name": "stdout",
     "output_type": "stream",
     "text": [
      "(17017, 6)\n"
     ]
    },
    {
     "data": {
      "text/html": [
       "<div>\n",
       "<style scoped>\n",
       "    .dataframe tbody tr th:only-of-type {\n",
       "        vertical-align: middle;\n",
       "    }\n",
       "\n",
       "    .dataframe tbody tr th {\n",
       "        vertical-align: top;\n",
       "    }\n",
       "\n",
       "    .dataframe thead th {\n",
       "        text-align: right;\n",
       "    }\n",
       "</style>\n",
       "<table border=\"1\" class=\"dataframe\">\n",
       "  <thead>\n",
       "    <tr style=\"text-align: right;\">\n",
       "      <th></th>\n",
       "      <th>chr</th>\n",
       "      <th>start</th>\n",
       "      <th>end</th>\n",
       "      <th>id</th>\n",
       "      <th>cpg_label</th>\n",
       "      <th>cpg_count</th>\n",
       "    </tr>\n",
       "  </thead>\n",
       "  <tbody>\n",
       "    <tr>\n",
       "      <th>0</th>\n",
       "      <td>chr1</td>\n",
       "      <td>3531624</td>\n",
       "      <td>3531843</td>\n",
       "      <td>611</td>\n",
       "      <td></td>\n",
       "      <td>27</td>\n",
       "    </tr>\n",
       "    <tr>\n",
       "      <th>1</th>\n",
       "      <td>chr1</td>\n",
       "      <td>3670619</td>\n",
       "      <td>3671074</td>\n",
       "      <td>613</td>\n",
       "      <td></td>\n",
       "      <td>34</td>\n",
       "    </tr>\n",
       "    <tr>\n",
       "      <th>2</th>\n",
       "      <td>chr1</td>\n",
       "      <td>3671654</td>\n",
       "      <td>3672156</td>\n",
       "      <td>613</td>\n",
       "      <td></td>\n",
       "      <td>45</td>\n",
       "    </tr>\n",
       "    <tr>\n",
       "      <th>3</th>\n",
       "      <td>chr1</td>\n",
       "      <td>4491701</td>\n",
       "      <td>4493673</td>\n",
       "      <td>619</td>\n",
       "      <td></td>\n",
       "      <td>165</td>\n",
       "    </tr>\n",
       "    <tr>\n",
       "      <th>4</th>\n",
       "      <td>chr1</td>\n",
       "      <td>4496947</td>\n",
       "      <td>4497608</td>\n",
       "      <td>619</td>\n",
       "      <td></td>\n",
       "      <td>47</td>\n",
       "    </tr>\n",
       "  </tbody>\n",
       "</table>\n",
       "</div>"
      ],
      "text/plain": [
       "    chr    start      end   id cpg_label  cpg_count\n",
       "0  chr1  3531624  3531843  611                   27\n",
       "1  chr1  3670619  3671074  613                   34\n",
       "2  chr1  3671654  3672156  613                   45\n",
       "3  chr1  4491701  4493673  619                  165\n",
       "4  chr1  4496947  4497608  619                   47"
      ]
     },
     "execution_count": 30,
     "metadata": {},
     "output_type": "execute_result"
    }
   ],
   "source": [
    "# Read CpG islands bed file with tab separator and proper column names\n",
    "cpg_islands = pd.read_csv('../../DATA/cpg_islands.bed', sep='\\t', \n",
    "                         names=['chr', 'start', 'end', 'id', 'cpg_label', 'cpg_count'])\n",
    "\n",
    "# Remove the \"CpG:\" prefix from cpg_label column\n",
    "cpg_islands['cpg_label'] = cpg_islands['cpg_label'].str.replace('CpG:', '')\n",
    "\n",
    "print(cpg_islands.shape)\n",
    "cpg_islands.head()"
   ]
  },
  {
   "cell_type": "code",
   "execution_count": 31,
   "metadata": {},
   "outputs": [
    {
     "data": {
      "text/plain": [
       "['mecp2_cpg_enrichment_parallel/chunk_2.csv',\n",
       " 'mecp2_cpg_enrichment_parallel/chunk_3.csv',\n",
       " 'mecp2_cpg_enrichment_parallel/chunk_8.csv',\n",
       " 'mecp2_cpg_enrichment_parallel/chunk_0.csv',\n",
       " 'mecp2_cpg_enrichment_parallel/chunk_4.csv',\n",
       " 'mecp2_cpg_enrichment_parallel/chunk_1.csv',\n",
       " 'mecp2_cpg_enrichment_parallel/chunk_5.csv',\n",
       " 'mecp2_cpg_enrichment_parallel/chunk_7.csv',\n",
       " 'mecp2_cpg_enrichment_parallel/chunk_6.csv',\n",
       " 'mecp2_cpg_enrichment_parallel/chunk_9.csv']"
      ]
     },
     "execution_count": 31,
     "metadata": {},
     "output_type": "execute_result"
    }
   ],
   "source": [
    "# Get list of all chunk files\n",
    "chunk_files = glob.glob('mecp2_cpg_enrichment_parallel/chunk_*.csv')\n",
    "chunk_files"
   ]
  },
  {
   "cell_type": "code",
   "execution_count": 32,
   "metadata": {},
   "outputs": [
    {
     "name": "stdout",
     "output_type": "stream",
     "text": [
      "Total regions analyzed: 15032\n"
     ]
    }
   ],
   "source": [
    "# Read and concatenate all chunks\n",
    "df_parallel = pd.concat([pd.read_csv(f) for f in chunk_files], ignore_index=True)\n",
    "\n",
    "# Sort by chromosome and start position\n",
    "df_parallel = df_parallel.sort_values(['chr', 'start'])\n",
    "\n",
    "print(f\"Total regions analyzed: {len(df_parallel)}\")"
   ]
  },
  {
   "cell_type": "code",
   "execution_count": 33,
   "metadata": {},
   "outputs": [
    {
     "data": {
      "text/html": [
       "<div>\n",
       "<style scoped>\n",
       "    .dataframe tbody tr th:only-of-type {\n",
       "        vertical-align: middle;\n",
       "    }\n",
       "\n",
       "    .dataframe tbody tr th {\n",
       "        vertical-align: top;\n",
       "    }\n",
       "\n",
       "    .dataframe thead th {\n",
       "        text-align: right;\n",
       "    }\n",
       "</style>\n",
       "<table border=\"1\" class=\"dataframe\">\n",
       "  <thead>\n",
       "    <tr style=\"text-align: right;\">\n",
       "      <th></th>\n",
       "      <th>chr</th>\n",
       "      <th>start</th>\n",
       "      <th>end</th>\n",
       "      <th>exo_signal</th>\n",
       "      <th>endo_signal</th>\n",
       "      <th>enrichment</th>\n",
       "      <th>pvalue</th>\n",
       "      <th>binding_type</th>\n",
       "      <th>peak_width_exo</th>\n",
       "      <th>peak_width_endo</th>\n",
       "      <th>significant</th>\n",
       "    </tr>\n",
       "  </thead>\n",
       "  <tbody>\n",
       "    <tr>\n",
       "      <th>4777</th>\n",
       "      <td>chr1</td>\n",
       "      <td>3531624</td>\n",
       "      <td>3531843</td>\n",
       "      <td>0.000000</td>\n",
       "      <td>17.214411</td>\n",
       "      <td>0.000000</td>\n",
       "      <td>1.000000</td>\n",
       "      <td>endo_only</td>\n",
       "      <td>0.000000</td>\n",
       "      <td>416.0</td>\n",
       "      <td>False</td>\n",
       "    </tr>\n",
       "    <tr>\n",
       "      <th>4778</th>\n",
       "      <td>chr1</td>\n",
       "      <td>3670619</td>\n",
       "      <td>3671074</td>\n",
       "      <td>21.441080</td>\n",
       "      <td>119.642541</td>\n",
       "      <td>0.179210</td>\n",
       "      <td>0.060298</td>\n",
       "      <td>both</td>\n",
       "      <td>462.666667</td>\n",
       "      <td>1554.0</td>\n",
       "      <td>False</td>\n",
       "    </tr>\n",
       "    <tr>\n",
       "      <th>4779</th>\n",
       "      <td>chr1</td>\n",
       "      <td>3671654</td>\n",
       "      <td>3672156</td>\n",
       "      <td>114.589139</td>\n",
       "      <td>119.642541</td>\n",
       "      <td>0.957762</td>\n",
       "      <td>0.060298</td>\n",
       "      <td>both</td>\n",
       "      <td>671.333333</td>\n",
       "      <td>1554.0</td>\n",
       "      <td>False</td>\n",
       "    </tr>\n",
       "    <tr>\n",
       "      <th>4780</th>\n",
       "      <td>chr1</td>\n",
       "      <td>4496947</td>\n",
       "      <td>4497608</td>\n",
       "      <td>10.886892</td>\n",
       "      <td>20.508762</td>\n",
       "      <td>0.530841</td>\n",
       "      <td>1.000000</td>\n",
       "      <td>both</td>\n",
       "      <td>551.000000</td>\n",
       "      <td>393.0</td>\n",
       "      <td>False</td>\n",
       "    </tr>\n",
       "    <tr>\n",
       "      <th>4781</th>\n",
       "      <td>chr1</td>\n",
       "      <td>4571641</td>\n",
       "      <td>4572075</td>\n",
       "      <td>36.039438</td>\n",
       "      <td>12.499547</td>\n",
       "      <td>2.883260</td>\n",
       "      <td>0.353367</td>\n",
       "      <td>both</td>\n",
       "      <td>382.750000</td>\n",
       "      <td>345.0</td>\n",
       "      <td>False</td>\n",
       "    </tr>\n",
       "  </tbody>\n",
       "</table>\n",
       "</div>"
      ],
      "text/plain": [
       "       chr    start      end  exo_signal  endo_signal  enrichment    pvalue  \\\n",
       "4777  chr1  3531624  3531843    0.000000    17.214411    0.000000  1.000000   \n",
       "4778  chr1  3670619  3671074   21.441080   119.642541    0.179210  0.060298   \n",
       "4779  chr1  3671654  3672156  114.589139   119.642541    0.957762  0.060298   \n",
       "4780  chr1  4496947  4497608   10.886892    20.508762    0.530841  1.000000   \n",
       "4781  chr1  4571641  4572075   36.039438    12.499547    2.883260  0.353367   \n",
       "\n",
       "     binding_type  peak_width_exo  peak_width_endo  significant  \n",
       "4777    endo_only        0.000000            416.0        False  \n",
       "4778         both      462.666667           1554.0        False  \n",
       "4779         both      671.333333           1554.0        False  \n",
       "4780         both      551.000000            393.0        False  \n",
       "4781         both      382.750000            345.0        False  "
      ]
     },
     "execution_count": 33,
     "metadata": {},
     "output_type": "execute_result"
    }
   ],
   "source": [
    "df_parallel.head()"
   ]
  },
  {
   "cell_type": "code",
   "execution_count": 34,
   "metadata": {},
   "outputs": [
    {
     "data": {
      "text/plain": [
       "(15028, 11)"
      ]
     },
     "execution_count": 34,
     "metadata": {},
     "output_type": "execute_result"
    }
   ],
   "source": [
    "df_parallel = df_parallel[df_parallel['chr'].isin([f'chr{i}' for i in range(1,20)] + ['chrX', 'chrY'])]\n",
    "df_parallel.shape"
   ]
  },
  {
   "cell_type": "code",
   "execution_count": 35,
   "metadata": {},
   "outputs": [],
   "source": [
    "df_parallel['significant'] = True"
   ]
  },
  {
   "cell_type": "code",
   "execution_count": 36,
   "metadata": {},
   "outputs": [],
   "source": [
    "df_parallel.to_csv('mecp2_cpg_enrichment_parallel/mecp2_cpg_enrichment_parallel.csv', index=False)"
   ]
  },
  {
   "cell_type": "code",
   "execution_count": 37,
   "metadata": {},
   "outputs": [],
   "source": [
    "# df_parallel = df_parallel[(df_parallel['exo_signal'] > 4.0) | (df_parallel['endo_signal'] > 4.0)]"
   ]
  },
  {
   "cell_type": "code",
   "execution_count": 38,
   "metadata": {},
   "outputs": [
    {
     "data": {
      "text/plain": [
       "(13209, 11)"
      ]
     },
     "execution_count": 38,
     "metadata": {},
     "output_type": "execute_result"
    }
   ],
   "source": [
    "df_both = df_parallel[df_parallel['binding_type'] == \"both\"]\n",
    "df_both.shape"
   ]
  },
  {
   "cell_type": "code",
   "execution_count": 39,
   "metadata": {},
   "outputs": [
    {
     "data": {
      "text/html": [
       "<div>\n",
       "<style scoped>\n",
       "    .dataframe tbody tr th:only-of-type {\n",
       "        vertical-align: middle;\n",
       "    }\n",
       "\n",
       "    .dataframe tbody tr th {\n",
       "        vertical-align: top;\n",
       "    }\n",
       "\n",
       "    .dataframe thead th {\n",
       "        text-align: right;\n",
       "    }\n",
       "</style>\n",
       "<table border=\"1\" class=\"dataframe\">\n",
       "  <thead>\n",
       "    <tr style=\"text-align: right;\">\n",
       "      <th></th>\n",
       "      <th>chr</th>\n",
       "      <th>start</th>\n",
       "      <th>end</th>\n",
       "      <th>exo_signal</th>\n",
       "      <th>endo_signal</th>\n",
       "      <th>enrichment</th>\n",
       "      <th>pvalue</th>\n",
       "      <th>binding_type</th>\n",
       "      <th>peak_width_exo</th>\n",
       "      <th>peak_width_endo</th>\n",
       "      <th>significant</th>\n",
       "    </tr>\n",
       "  </thead>\n",
       "  <tbody>\n",
       "    <tr>\n",
       "      <th>12733</th>\n",
       "      <td>chr7</td>\n",
       "      <td>123369426</td>\n",
       "      <td>123369630</td>\n",
       "      <td>2976.203129</td>\n",
       "      <td>8.750610</td>\n",
       "      <td>340.113789</td>\n",
       "      <td>0.039143</td>\n",
       "      <td>both</td>\n",
       "      <td>1106.200000</td>\n",
       "      <td>433.0</td>\n",
       "      <td>True</td>\n",
       "    </tr>\n",
       "    <tr>\n",
       "      <th>14571</th>\n",
       "      <td>chr9</td>\n",
       "      <td>119339620</td>\n",
       "      <td>119340000</td>\n",
       "      <td>1647.147421</td>\n",
       "      <td>13.874465</td>\n",
       "      <td>118.717907</td>\n",
       "      <td>0.039143</td>\n",
       "      <td>both</td>\n",
       "      <td>1054.400000</td>\n",
       "      <td>441.0</td>\n",
       "      <td>True</td>\n",
       "    </tr>\n",
       "    <tr>\n",
       "      <th>8955</th>\n",
       "      <td>chr11</td>\n",
       "      <td>103117220</td>\n",
       "      <td>103117987</td>\n",
       "      <td>1387.366007</td>\n",
       "      <td>15.728703</td>\n",
       "      <td>88.206001</td>\n",
       "      <td>0.027168</td>\n",
       "      <td>both</td>\n",
       "      <td>996.400000</td>\n",
       "      <td>436.0</td>\n",
       "      <td>True</td>\n",
       "    </tr>\n",
       "    <tr>\n",
       "      <th>10394</th>\n",
       "      <td>chr3</td>\n",
       "      <td>93555092</td>\n",
       "      <td>93555367</td>\n",
       "      <td>362.668182</td>\n",
       "      <td>4.184631</td>\n",
       "      <td>86.666707</td>\n",
       "      <td>0.039143</td>\n",
       "      <td>both</td>\n",
       "      <td>1041.000000</td>\n",
       "      <td>264.0</td>\n",
       "      <td>True</td>\n",
       "    </tr>\n",
       "    <tr>\n",
       "      <th>1201</th>\n",
       "      <td>chr14</td>\n",
       "      <td>118611620</td>\n",
       "      <td>118611930</td>\n",
       "      <td>731.500263</td>\n",
       "      <td>8.522529</td>\n",
       "      <td>85.831356</td>\n",
       "      <td>0.034350</td>\n",
       "      <td>both</td>\n",
       "      <td>1171.166667</td>\n",
       "      <td>369.0</td>\n",
       "      <td>True</td>\n",
       "    </tr>\n",
       "  </tbody>\n",
       "</table>\n",
       "</div>"
      ],
      "text/plain": [
       "         chr      start        end   exo_signal  endo_signal  enrichment  \\\n",
       "12733   chr7  123369426  123369630  2976.203129     8.750610  340.113789   \n",
       "14571   chr9  119339620  119340000  1647.147421    13.874465  118.717907   \n",
       "8955   chr11  103117220  103117987  1387.366007    15.728703   88.206001   \n",
       "10394   chr3   93555092   93555367   362.668182     4.184631   86.666707   \n",
       "1201   chr14  118611620  118611930   731.500263     8.522529   85.831356   \n",
       "\n",
       "         pvalue binding_type  peak_width_exo  peak_width_endo  significant  \n",
       "12733  0.039143         both     1106.200000            433.0         True  \n",
       "14571  0.039143         both     1054.400000            441.0         True  \n",
       "8955   0.027168         both      996.400000            436.0         True  \n",
       "10394  0.039143         both     1041.000000            264.0         True  \n",
       "1201   0.034350         both     1171.166667            369.0         True  "
      ]
     },
     "execution_count": 39,
     "metadata": {},
     "output_type": "execute_result"
    }
   ],
   "source": [
    "df_both = df_both.sort_values('enrichment', ascending=False)\n",
    "df_both.head()"
   ]
  },
  {
   "cell_type": "code",
   "execution_count": 40,
   "metadata": {},
   "outputs": [
    {
     "data": {
      "text/html": [
       "<div>\n",
       "<style scoped>\n",
       "    .dataframe tbody tr th:only-of-type {\n",
       "        vertical-align: middle;\n",
       "    }\n",
       "\n",
       "    .dataframe tbody tr th {\n",
       "        vertical-align: top;\n",
       "    }\n",
       "\n",
       "    .dataframe thead th {\n",
       "        text-align: right;\n",
       "    }\n",
       "</style>\n",
       "<table border=\"1\" class=\"dataframe\">\n",
       "  <thead>\n",
       "    <tr style=\"text-align: right;\">\n",
       "      <th></th>\n",
       "      <th>chr</th>\n",
       "      <th>start</th>\n",
       "      <th>end</th>\n",
       "      <th>exo_signal</th>\n",
       "      <th>endo_signal</th>\n",
       "      <th>enrichment</th>\n",
       "      <th>pvalue</th>\n",
       "      <th>binding_type</th>\n",
       "      <th>peak_width_exo</th>\n",
       "      <th>peak_width_endo</th>\n",
       "      <th>significant</th>\n",
       "    </tr>\n",
       "  </thead>\n",
       "  <tbody>\n",
       "    <tr>\n",
       "      <th>12733</th>\n",
       "      <td>chr7</td>\n",
       "      <td>123369426</td>\n",
       "      <td>123369630</td>\n",
       "      <td>2976.203129</td>\n",
       "      <td>8.750610</td>\n",
       "      <td>340.113789</td>\n",
       "      <td>0.039143</td>\n",
       "      <td>both</td>\n",
       "      <td>1106.200000</td>\n",
       "      <td>433.0</td>\n",
       "      <td>True</td>\n",
       "    </tr>\n",
       "    <tr>\n",
       "      <th>14571</th>\n",
       "      <td>chr9</td>\n",
       "      <td>119339620</td>\n",
       "      <td>119340000</td>\n",
       "      <td>1647.147421</td>\n",
       "      <td>13.874465</td>\n",
       "      <td>118.717907</td>\n",
       "      <td>0.039143</td>\n",
       "      <td>both</td>\n",
       "      <td>1054.400000</td>\n",
       "      <td>441.0</td>\n",
       "      <td>True</td>\n",
       "    </tr>\n",
       "    <tr>\n",
       "      <th>8955</th>\n",
       "      <td>chr11</td>\n",
       "      <td>103117220</td>\n",
       "      <td>103117987</td>\n",
       "      <td>1387.366007</td>\n",
       "      <td>15.728703</td>\n",
       "      <td>88.206001</td>\n",
       "      <td>0.027168</td>\n",
       "      <td>both</td>\n",
       "      <td>996.400000</td>\n",
       "      <td>436.0</td>\n",
       "      <td>True</td>\n",
       "    </tr>\n",
       "    <tr>\n",
       "      <th>10394</th>\n",
       "      <td>chr3</td>\n",
       "      <td>93555092</td>\n",
       "      <td>93555367</td>\n",
       "      <td>362.668182</td>\n",
       "      <td>4.184631</td>\n",
       "      <td>86.666707</td>\n",
       "      <td>0.039143</td>\n",
       "      <td>both</td>\n",
       "      <td>1041.000000</td>\n",
       "      <td>264.0</td>\n",
       "      <td>True</td>\n",
       "    </tr>\n",
       "    <tr>\n",
       "      <th>1201</th>\n",
       "      <td>chr14</td>\n",
       "      <td>118611620</td>\n",
       "      <td>118611930</td>\n",
       "      <td>731.500263</td>\n",
       "      <td>8.522529</td>\n",
       "      <td>85.831356</td>\n",
       "      <td>0.034350</td>\n",
       "      <td>both</td>\n",
       "      <td>1171.166667</td>\n",
       "      <td>369.0</td>\n",
       "      <td>True</td>\n",
       "    </tr>\n",
       "  </tbody>\n",
       "</table>\n",
       "</div>"
      ],
      "text/plain": [
       "         chr      start        end   exo_signal  endo_signal  enrichment  \\\n",
       "12733   chr7  123369426  123369630  2976.203129     8.750610  340.113789   \n",
       "14571   chr9  119339620  119340000  1647.147421    13.874465  118.717907   \n",
       "8955   chr11  103117220  103117987  1387.366007    15.728703   88.206001   \n",
       "10394   chr3   93555092   93555367   362.668182     4.184631   86.666707   \n",
       "1201   chr14  118611620  118611930   731.500263     8.522529   85.831356   \n",
       "\n",
       "         pvalue binding_type  peak_width_exo  peak_width_endo  significant  \n",
       "12733  0.039143         both     1106.200000            433.0         True  \n",
       "14571  0.039143         both     1054.400000            441.0         True  \n",
       "8955   0.027168         both      996.400000            436.0         True  \n",
       "10394  0.039143         both     1041.000000            264.0         True  \n",
       "1201   0.034350         both     1171.166667            369.0         True  "
      ]
     },
     "execution_count": 40,
     "metadata": {},
     "output_type": "execute_result"
    }
   ],
   "source": [
    "df_both.head()"
   ]
  },
  {
   "cell_type": "code",
   "execution_count": 41,
   "metadata": {},
   "outputs": [],
   "source": [
    "df_both.to_csv('mecp2_cpg_enrichment_parallel/mecp2_cpg_enrichment_both.csv', index=False)"
   ]
  }
 ],
 "metadata": {
  "kernelspec": {
   "display_name": "Python (snakemake)",
   "language": "python",
   "name": "snakemake"
  },
  "language_info": {
   "codemirror_mode": {
    "name": "ipython",
    "version": 3
   },
   "file_extension": ".py",
   "mimetype": "text/x-python",
   "name": "python",
   "nbconvert_exporter": "python",
   "pygments_lexer": "ipython3",
   "version": "3.11.11"
  }
 },
 "nbformat": 4,
 "nbformat_minor": 2
}
