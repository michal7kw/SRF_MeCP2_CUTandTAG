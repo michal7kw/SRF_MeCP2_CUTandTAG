{
 "cells": [
  {
   "cell_type": "markdown",
   "metadata": {},
   "source": [
    "# Environment"
   ]
  },
  {
   "cell_type": "code",
   "execution_count": 49,
   "metadata": {},
   "outputs": [],
   "source": [
    "import pandas as pd\n",
    "import matplotlib.pyplot as plt\n",
    "import subprocess\n",
    "import os\n",
    "from pathlib import Path\n",
    "import pandas as pd\n",
    "import matplotlib.pyplot as plt\n",
    "import subprocess\n",
    "import pickle\n",
    "import os\n",
    "from pathlib import Path\n",
    "import mygene\n",
    "\n",
    "wd_dir = '/beegfs/scratch/ric.broccoli/kubacki.michal/SRF_CUTandTAG/iterative_alternative/notebooks'\n",
    "os.chdir(wd_dir)\n",
    "root_dir = \"/beegfs/scratch/ric.broccoli/kubacki.michal/SRF_CUTandTAG/iterative_alternative\"\n",
    "data_dir = f\"{root_dir}/../DATA\"\n",
    "aligned_dir = f\"{root_dir}/results/aligned\"\n",
    "peaks_dir = f\"{root_dir}/results\"\n",
    "\n",
    "current_dir = os.getcwd()\n",
    "\n",
    "# Always reload functions\n",
    "import importlib\n",
    "import sys\n",
    "sys.path.append('../../scripts')\n",
    "import functions_Coverage\n",
    "importlib.reload(functions_Coverage)\n",
    "from functions_Coverage import *"
   ]
  },
  {
   "cell_type": "code",
   "execution_count": 50,
   "metadata": {},
   "outputs": [],
   "source": [
    "cpg_file = f\"{data_dir}/cpg_islands.bed\""
   ]
  },
  {
   "cell_type": "code",
   "execution_count": 51,
   "metadata": {},
   "outputs": [
    {
     "data": {
      "text/html": [
       "<div>\n",
       "<style scoped>\n",
       "    .dataframe tbody tr th:only-of-type {\n",
       "        vertical-align: middle;\n",
       "    }\n",
       "\n",
       "    .dataframe tbody tr th {\n",
       "        vertical-align: top;\n",
       "    }\n",
       "\n",
       "    .dataframe thead th {\n",
       "        text-align: right;\n",
       "    }\n",
       "</style>\n",
       "<table border=\"1\" class=\"dataframe\">\n",
       "  <thead>\n",
       "    <tr style=\"text-align: right;\">\n",
       "      <th></th>\n",
       "      <th>0</th>\n",
       "      <th>1</th>\n",
       "      <th>2</th>\n",
       "      <th>3</th>\n",
       "      <th>4</th>\n",
       "      <th>5</th>\n",
       "    </tr>\n",
       "  </thead>\n",
       "  <tbody>\n",
       "    <tr>\n",
       "      <th>0</th>\n",
       "      <td>chr1</td>\n",
       "      <td>3531624</td>\n",
       "      <td>3531843</td>\n",
       "      <td>611</td>\n",
       "      <td>CpG:</td>\n",
       "      <td>27</td>\n",
       "    </tr>\n",
       "    <tr>\n",
       "      <th>1</th>\n",
       "      <td>chr1</td>\n",
       "      <td>3670619</td>\n",
       "      <td>3671074</td>\n",
       "      <td>613</td>\n",
       "      <td>CpG:</td>\n",
       "      <td>34</td>\n",
       "    </tr>\n",
       "    <tr>\n",
       "      <th>2</th>\n",
       "      <td>chr1</td>\n",
       "      <td>3671654</td>\n",
       "      <td>3672156</td>\n",
       "      <td>613</td>\n",
       "      <td>CpG:</td>\n",
       "      <td>45</td>\n",
       "    </tr>\n",
       "    <tr>\n",
       "      <th>3</th>\n",
       "      <td>chr1</td>\n",
       "      <td>4491701</td>\n",
       "      <td>4493673</td>\n",
       "      <td>619</td>\n",
       "      <td>CpG:</td>\n",
       "      <td>165</td>\n",
       "    </tr>\n",
       "    <tr>\n",
       "      <th>4</th>\n",
       "      <td>chr1</td>\n",
       "      <td>4496947</td>\n",
       "      <td>4497608</td>\n",
       "      <td>619</td>\n",
       "      <td>CpG:</td>\n",
       "      <td>47</td>\n",
       "    </tr>\n",
       "  </tbody>\n",
       "</table>\n",
       "</div>"
      ],
      "text/plain": [
       "      0        1        2    3     4    5\n",
       "0  chr1  3531624  3531843  611  CpG:   27\n",
       "1  chr1  3670619  3671074  613  CpG:   34\n",
       "2  chr1  3671654  3672156  613  CpG:   45\n",
       "3  chr1  4491701  4493673  619  CpG:  165\n",
       "4  chr1  4496947  4497608  619  CpG:   47"
      ]
     },
     "execution_count": 51,
     "metadata": {},
     "output_type": "execute_result"
    }
   ],
   "source": [
    "# Read cpg_file\n",
    "cpg_df = pd.read_csv(cpg_file, sep='\\t', header=None)\n",
    "cpg_df.head()"
   ]
  },
  {
   "cell_type": "code",
   "execution_count": 52,
   "metadata": {},
   "outputs": [],
   "source": [
    "# Directly assign endogenous samples from data\n",
    "endo_samples_nsc = pd.DataFrame({\n",
    "    'SampleID': ['NSCM1', 'NSCM2', 'NSCM3'],\n",
    "    'Tissue': ['NSC', 'NSC', 'NSC'],\n",
    "    'Factor': ['Endo', 'Endo', 'Endo'],\n",
    "    'Condition': ['Endogenous', 'Endogenous', 'Endogenous'],\n",
    "    'Replicate': [1, 2, 3],\n",
    "    'bamReads': [\n",
    "        f'{aligned_dir}/NSCM1.bed',\n",
    "        f'{aligned_dir}/NSCM2.bed',\n",
    "        f'{aligned_dir}/NSCM3.bed'\n",
    "    ],\n",
    "    'Peaks': [\n",
    "        f'{peaks_dir}/NSCM1_peaks.narrowPeak',\n",
    "        f'{peaks_dir}/NSCM2_peaks.narrowPeak',\n",
    "        f'{peaks_dir}/NSCM3_peaks.narrowPeak'\n",
    "    ],\n",
    "    'PeakCaller': ['narrow', 'narrow', 'narrow']\n",
    "})\n",
    "\n",
    "endo_samples_neurons = pd.DataFrame({\n",
    "    'SampleID': ['NeuM2', 'NeuM3'],\n",
    "    'Tissue': ['Neuron', 'Neuron'],\n",
    "    'Factor': ['Endo', 'Endo'],\n",
    "    'Condition': ['Endogenous', 'Endogenous'],\n",
    "    'Replicate': [2, 3],\n",
    "    'bamReads': [\n",
    "        f'{root_dir}/results/aligned/NeuM2.bed',\n",
    "        f'{root_dir}/results/aligned/NeuM3.bed'\n",
    "    ],\n",
    "    'Peaks': [\n",
    "        f'{results_dir}/peaks/NeuM2_peaks.narrowPeak',\n",
    "        f'{results_dir}/peaks/NeuM3_peaks.narrowPeak'\n",
    "    ],\n",
    "    'PeakCaller': ['narrow', 'narrow']\n",
    "})\n"
   ]
  },
  {
   "cell_type": "code",
   "execution_count": 53,
   "metadata": {},
   "outputs": [],
   "source": [
    "# Create DataFrames for exogenous samples\n",
    "exo_samples_nsc = pd.DataFrame({\n",
    "    'SampleID': ['NSCv1', 'NSCv2', 'NSCv3'],\n",
    "    'Tissue': ['NSC', 'NSC', 'NSC'],\n",
    "    'Factor': ['Virus', 'Virus', 'Virus'],\n",
    "    'Condition': ['Exogenous', 'Exogenous', 'Exogenous'],\n",
    "    'Replicate': [1, 2, 3],\n",
    "    'bamReads': [\n",
    "        f'{root_dir}/results/aligned/NSCv1.bam',\n",
    "        f'{root_dir}/results/aligned/NSCv2.bam',\n",
    "        f'{root_dir}/results/aligned/NSCv3.bam'\n",
    "    ],\n",
    "    'Peaks': [\n",
    "        f'{results_dir}/peaks/NSCv1_peaks.narrowPeak',\n",
    "        f'{results_dir}/peaks/NSCv2_peaks.narrowPeak',\n",
    "        f'{results_dir}/peaks/NSCv3_peaks.narrowPeak'\n",
    "    ],\n",
    "    'PeakCaller': ['narrow', 'narrow', 'narrow']\n",
    "})\n",
    "\n",
    "exo_samples_neurons = pd.DataFrame({\n",
    "    'SampleID': ['NeuV1', 'NeuV2', 'NeuV3'],\n",
    "    'Tissue': ['Neuron', 'Neuron', 'Neuron'],\n",
    "    'Factor': ['Virus', 'Virus', 'Virus'],\n",
    "    'Condition': ['Exogenous', 'Exogenous', 'Exogenous'],\n",
    "    'Replicate': [1, 2, 3],\n",
    "    'bamReads': [\n",
    "        f'{root_dir}/results/aligned/NeuV1.bam',\n",
    "        f'{root_dir}/results/aligned/NeuV2.bam',\n",
    "        f'{root_dir}/results/aligned/NeuV3.bam'\n",
    "    ],\n",
    "    'Peaks': [\n",
    "        f'{results_dir}/peaks/NeuV1_peaks.narrowPeak',\n",
    "        f'{results_dir}/peaks/NeuV2_peaks.narrowPeak',\n",
    "        f'{results_dir}/peaks/NeuV3_peaks.narrowPeak'\n",
    "    ],\n",
    "    'PeakCaller': ['narrow', 'narrow', 'narrow']\n",
    "})"
   ]
  },
  {
   "cell_type": "code",
   "execution_count": 54,
   "metadata": {},
   "outputs": [
    {
     "name": "stdout",
     "output_type": "stream",
     "text": [
      "(3, 8)\n",
      "(3, 8)\n",
      "(3, 8)\n",
      "(2, 8)\n"
     ]
    }
   ],
   "source": [
    "print(exo_samples_nsc.shape)\n",
    "print(endo_samples_nsc.shape)\n",
    "\n",
    "print(exo_samples_neurons.shape)\n",
    "print(endo_samples_neurons.shape)"
   ]
  },
  {
   "cell_type": "markdown",
   "metadata": {},
   "source": [
    "# All cpg islands"
   ]
  },
  {
   "cell_type": "markdown",
   "metadata": {},
   "source": [
    "## Key differences in the two approaches:\n",
    "\n",
    "### 1. First Implementation (`per CpG Coverage`):\n",
    "- Calculates coverage as: overlap_length / cpg_length * 100\n",
    "- The coverage is based on how much of the CpG island is covered by the peak \n",
    "- If multiple CpG islands overlap with a peak, it keeps all coverage values\n",
    "\n",
    "### 2. Second Implementation (`per Peak Coverage`):\n",
    "- Also calculates coverage as: overlap_length / cpg_length * 100\n",
    "- However, it maintains a per-peak tracking system where it:\n",
    "  - Groups all overlaps by peak ID\n",
    "  - Takes the maximum coverage value for each peak\n",
    "  - Only keeps peaks that meet the coverage threshold\n",
    "  - Reports the coverage statistics only for qualified peaks\n",
    "\n",
    "---\n",
    "\n",
    "### Peak vs CpG Island Perspective\n",
    "- First implementation keeps all overlap values, even if multiple CpG islands overlap with the same peak\n",
    "- Second implementation tracks coverage per peak and only keeps the maximum coverage value for each peak\n",
    "\n",
    "---\n",
    "\n",
    "### Key Structural Differences \n",
    "1. Return Value Structure\n",
    "   - First implementation: Returns a simple list of coverage percentages\n",
    "   - Second implementation: Returns a detailed dictionary with peak-specific information including:\n",
    "     - Chromosome\n",
    "     - Start/end positions\n",
    "     - List of all CpG overlaps for each peak\n",
    "     - Maximum coverage\n",
    "     - Total number of overlaps\n",
    "\n",
    "### Peak Identity Tracking\n",
    "   - First implementation: Doesn't track individual peaks or their locations\n",
    "   - Second implementation: Creates unique peak IDs using format \"chromosome:start-end\"\n",
    "   - Second implementation maintains peak context throughout processing\n",
    "\n",
    "--- \n",
    "\n",
    "### Errata\n",
    "\n",
    "1. Coverage Calculation\n",
    "   - First (Old) implementation: Calculates coverage using peak dimensions\n",
    "   - First (New) implementation: Identifies CpG regions by looking for 'CpG:' marker"
   ]
  },
  {
   "cell_type": "markdown",
   "metadata": {},
   "source": [
    "## NSC"
   ]
  },
  {
   "cell_type": "markdown",
   "metadata": {},
   "source": [
    "### Per CpG Coverage"
   ]
  },
  {
   "cell_type": "code",
   "execution_count": 55,
   "metadata": {},
   "outputs": [
    {
     "name": "stdout",
     "output_type": "stream",
     "text": [
      "0    /beegfs/scratch/ric.broccoli/kubacki.michal/SR...\n",
      "1    /beegfs/scratch/ric.broccoli/kubacki.michal/SR...\n",
      "2    /beegfs/scratch/ric.broccoli/kubacki.michal/SR...\n"
     ]
    }
   ],
   "source": [
    "print(exo_samples_nsc['Peaks'].to_string())\n"
   ]
  },
  {
   "cell_type": "code",
   "execution_count": 56,
   "metadata": {},
   "outputs": [
    {
     "name": "stdout",
     "output_type": "stream",
     "text": [
      "Filtered /beegfs/scratch/ric.broccoli/kubacki.michal/SRF_CUTandTAG/iterative_alternative/../DATA/cpg_islands.bed: kept 16009/17017 peaks (94.1%)\n",
      "Filtered /beegfs/scratch/ric.broccoli/kubacki.michal/SRF_CUTandTAG/iterative_alternative/results_alternative/peaks/NSCv1_peaks.narrowPeak: kept 402117/402224 peaks (100.0%)\n",
      "Filtered /beegfs/scratch/ric.broccoli/kubacki.michal/SRF_CUTandTAG/iterative_alternative/results_alternative/peaks/NSCv2_peaks.narrowPeak: kept 387100/387201 peaks (100.0%)\n",
      "Filtered /beegfs/scratch/ric.broccoli/kubacki.michal/SRF_CUTandTAG/iterative_alternative/results_alternative/peaks/NSCv3_peaks.narrowPeak: kept 392440/392537 peaks (100.0%)\n"
     ]
    }
   ],
   "source": [
    "# %%capture\n",
    "exo_coverage_nsc = []\n",
    "\n",
    "# First filter the CpG file once (no need to do it for each peak file)\n",
    "temp_cpg = \"temp_filtered_cpg.bed\"\n",
    "filter_standard_chromosomes(input_file=cpg_file, output_file=temp_cpg)\n",
    "\n",
    "try:\n",
    "    # Process each peak file\n",
    "    for peak_file in exo_samples_nsc['Peaks']:\n",
    "        # Create temporary filtered peak file\n",
    "        temp_peak = \"temp_filtered_peaks.bed\"\n",
    "        filter_standard_chromosomes(peak_file, temp_peak)\n",
    "        \n",
    "        # Calculate coverage using filtered peaks and filtered CpG file\n",
    "        coverage = calculate_peak_cpg_coverage(temp_peak, temp_cpg, extend=100, genome_size_file=f\"{data_dir}/genome.size\")\n",
    "        exo_coverage_nsc.extend(coverage)\n",
    "        \n",
    "        # Clean up peak file\n",
    "        if os.path.exists(temp_peak):\n",
    "            os.remove(temp_peak)\n",
    "finally:\n",
    "    # Clean up CpG file\n",
    "    if os.path.exists(temp_cpg):\n",
    "        os.remove(temp_cpg)"
   ]
  },
  {
   "cell_type": "code",
   "execution_count": 57,
   "metadata": {},
   "outputs": [
    {
     "data": {
      "text/plain": [
       "[3.8461538461538463,\n",
       " 32.05128205128205,\n",
       " 10.589318600368323,\n",
       " 75.39432176656152,\n",
       " 69.59247648902821,\n",
       " 64.11290322580645,\n",
       " 97.6513098464318,\n",
       " 14.697193500738553,\n",
       " 54.35745937961596,\n",
       " 30.703012912482063]"
      ]
     },
     "execution_count": 57,
     "metadata": {},
     "output_type": "execute_result"
    }
   ],
   "source": [
    "exo_coverage_nsc[:10]"
   ]
  },
  {
   "cell_type": "code",
   "execution_count": 58,
   "metadata": {},
   "outputs": [
    {
     "name": "stdout",
     "output_type": "stream",
     "text": [
      "Filtered /beegfs/scratch/ric.broccoli/kubacki.michal/SRF_CUTandTAG/iterative_alternative/../DATA/cpg_islands.bed: kept 16009/17017 peaks (94.1%)\n",
      "Filtered /beegfs/scratch/ric.broccoli/kubacki.michal/SRF_CUTandTAG/iterative_alternative/results_alternative/peaks/NSCM1_peaks.narrowPeak: kept 367305/367425 peaks (100.0%)\n",
      "Filtered /beegfs/scratch/ric.broccoli/kubacki.michal/SRF_CUTandTAG/iterative_alternative/results_alternative/peaks/NSCM2_peaks.narrowPeak: kept 308446/308542 peaks (100.0%)\n",
      "Filtered /beegfs/scratch/ric.broccoli/kubacki.michal/SRF_CUTandTAG/iterative_alternative/results_alternative/peaks/NSCM3_peaks.narrowPeak: kept 271036/271096 peaks (100.0%)\n"
     ]
    }
   ],
   "source": [
    "# %%capture\n",
    "endo_coverage_nsc = []\n",
    "\n",
    "# First filter the CpG file once (no need to do it for each peak file)\n",
    "temp_cpg = \"temp_filtered_cpg.bed\"\n",
    "filter_standard_chromosomes(input_file=cpg_file, output_file=temp_cpg)\n",
    "\n",
    "try:\n",
    "    # Process each peak file\n",
    "    for peak_file in endo_samples_nsc['Peaks']:\n",
    "        # Create temporary filtered peak file\n",
    "        temp_peak = \"temp_filtered_peaks.bed\"\n",
    "        filter_standard_chromosomes(peak_file, temp_peak)\n",
    "        \n",
    "        # Calculate coverage using filtered peaks and filtered CpG file\n",
    "        coverage = calculate_peak_cpg_coverage(temp_peak, temp_cpg, extend=100, genome_size_file=f\"{data_dir}/genome.size\")\n",
    "        endo_coverage_nsc.extend(coverage)\n",
    "        \n",
    "        # Clean up peak file\n",
    "        if os.path.exists(temp_peak):\n",
    "            os.remove(temp_peak)\n",
    "finally:\n",
    "    # Clean up CpG file\n",
    "    if os.path.exists(temp_cpg):\n",
    "        os.remove(temp_cpg)"
   ]
  },
  {
   "cell_type": "code",
   "execution_count": 59,
   "metadata": {},
   "outputs": [
    {
     "data": {
      "text/plain": [
       "[69.59247648902821,\n",
       " 43.145161290322584,\n",
       " 55.19421860885275,\n",
       " 17.163504968383016,\n",
       " 12.112259970457902,\n",
       " 48.35007173601148,\n",
       " 15.48956661316212,\n",
       " 24.228675136116152,\n",
       " 22.323049001814883,\n",
       " 85.71428571428571]"
      ]
     },
     "execution_count": 59,
     "metadata": {},
     "output_type": "execute_result"
    }
   ],
   "source": [
    "endo_coverage_nsc[:10]\n"
   ]
  },
  {
   "cell_type": "code",
   "execution_count": 60,
   "metadata": {},
   "outputs": [
    {
     "data": {
      "image/png": "[encoded data removed]",
      "text/plain": [
       "<Figure size 1600x600 with 2 Axes>"
      ]
     },
     "metadata": {},
     "output_type": "display_data"
    }
   ],
   "source": [
    "# Create the visualization\n",
    "plot_coverage_histograms(exo_coverage_nsc, endo_coverage_nsc, min_coverage=0, n_bins=30)"
   ]
  },
  {
   "cell_type": "code",
   "execution_count": 61,
   "metadata": {},
   "outputs": [
    {
     "data": {
      "image/png": "[encoded data removed]",
      "text/plain": [
       "<Figure size 1600x600 with 1 Axes>"
      ]
     },
     "metadata": {},
     "output_type": "display_data"
    }
   ],
   "source": [
    "plot_coverage_histograms_overlayed(exo_coverage_nsc, endo_coverage_nsc, min_coverage=0, n_bins=30)"
   ]
  },
  {
   "cell_type": "code",
   "execution_count": 62,
   "metadata": {},
   "outputs": [],
   "source": [
    "os.makedirs(f'{results_dir}/coverage', exist_ok=True)\n",
    "coverage_dir = f'{results_dir}/coverage'"
   ]
  },
  {
   "cell_type": "code",
   "execution_count": 63,
   "metadata": {},
   "outputs": [],
   "source": [
    "# Save the lists to files\n",
    "with open(f'{coverage_dir}/exo_coverage_nsc.pkl', 'wb') as f:\n",
    "    pickle.dump(exo_coverage_nsc, f)\n",
    "\n",
    "with open(f'{coverage_dir}/endo_coverage_nsc.pkl', 'wb') as f:\n",
    "    pickle.dump(endo_coverage_nsc, f)\n"
   ]
  },
  {
   "cell_type": "code",
   "execution_count": 64,
   "metadata": {},
   "outputs": [],
   "source": [
    "# Load the lists back\n",
    "with open(f'{coverage_dir}/exo_coverage_nsc.pkl', 'rb') as f:\n",
    "    exo_coverage_nsc = pickle.load(f)\n",
    "\n",
    "with open(f'{coverage_dir}/endo_coverage_nsc.pkl', 'rb') as f:\n",
    "    endo_coverage_nsc = pickle.load(f)"
   ]
  },
  {
   "cell_type": "markdown",
   "metadata": {},
   "source": [
    "### Per Peak Coverage"
   ]
  },
  {
   "cell_type": "code",
   "execution_count": 123,
   "metadata": {},
   "outputs": [],
   "source": [
    "%%capture\n",
    "exo_coverage_nsc = []\n",
    "for peak_file in exo_samples_nsc['Peaks']:\n",
    "    try:\n",
    "        # Create temporary filtered peak file\n",
    "        temp_peak = \"temp_filtered_peaks.bed\"\n",
    "        filter_standard_chromosomes(peak_file, temp_peak)\n",
    "        \n",
    "        # Calculate coverage using filtered peaks\n",
    "        peak_coverages = calculate_peak_cpg_coverage_per_peak(temp_peak, cpg_file, extend=100)\n",
    "        \n",
    "        # Extract coverage values, using 0.0 for peaks with no CpG overlap\n",
    "        coverage_values = [info['max_coverage'] for info in peak_coverages.values()]\n",
    "        exo_coverage_nsc.extend(coverage_values)\n",
    "        \n",
    "        # Clean up\n",
    "        subprocess.run(\"rm temp_filtered_peaks.bed\", shell=True)\n",
    "        \n",
    "    except Exception as e:\n",
    "        print(f\"Error processing {peak_file}: {str(e)}\")\n",
    "        continue"
   ]
  },
  {
   "cell_type": "code",
   "execution_count": 124,
   "metadata": {},
   "outputs": [
    {
     "data": {
      "text/plain": [
       "[38.44621513944223,\n",
       " 11.663286004056795,\n",
       " 100.0,\n",
       " 78.53881278538812,\n",
       " 69.30147058823529,\n",
       " 100.0,\n",
       " 14.384748700173311,\n",
       " 63.77816291161178,\n",
       " 22.937625754527165,\n",
       " 40.72657743785851]"
      ]
     },
     "execution_count": 124,
     "metadata": {},
     "output_type": "execute_result"
    }
   ],
   "source": [
    "exo_coverage_nsc[:10]"
   ]
  },
  {
   "cell_type": "code",
   "execution_count": 125,
   "metadata": {},
   "outputs": [],
   "source": [
    "%%capture\n",
    "endo_coverage_nsc = []\n",
    "for peak_file in endo_samples_nsc['Peaks']:\n",
    "    try:\n",
    "        # Create temporary filtered peak file\n",
    "        temp_peak = \"temp_filtered_peaks.bed\"\n",
    "        filter_standard_chromosomes(peak_file, temp_peak)\n",
    "        \n",
    "        # Calculate coverage using filtered peaks\n",
    "        peak_coverages = calculate_peak_cpg_coverage_per_peak(temp_peak, cpg_file, extend=100)\n",
    "        \n",
    "        # Extract coverage values, using 0.0 for peaks with no CpG overlap\n",
    "        coverage_values = [info['max_coverage'] for info in peak_coverages.values()]\n",
    "        endo_coverage_nsc.extend(coverage_values)\n",
    "        \n",
    "        # Clean up\n",
    "        subprocess.run(\"rm temp_filtered_peaks.bed\", shell=True)\n",
    "    except Exception as e:\n",
    "        print(f\"Error processing {peak_file}: {str(e)}\")\n",
    "        continue"
   ]
  },
  {
   "cell_type": "code",
   "execution_count": 126,
   "metadata": {},
   "outputs": [
    {
     "data": {
      "text/plain": [
       "[8.72210953346856,\n",
       " 78.53881278538812,\n",
       " 56.61764705882353,\n",
       " 58.65490628445424,\n",
       " 17.089305402425577,\n",
       " 14.211438474870016,\n",
       " 100.0,\n",
       " 18.451242829827915,\n",
       " 29.60088691796009,\n",
       " 17.627494456762747]"
      ]
     },
     "execution_count": 126,
     "metadata": {},
     "output_type": "execute_result"
    }
   ],
   "source": [
    "endo_coverage_nsc[:10]"
   ]
  },
  {
   "cell_type": "code",
   "execution_count": 127,
   "metadata": {},
   "outputs": [
    {
     "data": {
      "image/png": "[encoded data removed]",
      "text/plain": [
       "<Figure size 1600x600 with 2 Axes>"
      ]
     },
     "metadata": {},
     "output_type": "display_data"
    }
   ],
   "source": [
    "# Create the visualization\n",
    "plot_coverage_histograms(exo_coverage_nsc, endo_coverage_nsc, min_coverage=0, n_bins=30)"
   ]
  },
  {
   "cell_type": "code",
   "execution_count": 128,
   "metadata": {},
   "outputs": [
    {
     "data": {
      "image/png": "[encoded data removed]",
      "text/plain": [
       "<Figure size 1600x600 with 1 Axes>"
      ]
     },
     "metadata": {},
     "output_type": "display_data"
    }
   ],
   "source": [
    "plot_coverage_histograms_overlayed(exo_coverage_nsc, endo_coverage_nsc, min_coverage=0, n_bins=30)"
   ]
  },
  {
   "cell_type": "markdown",
   "metadata": {},
   "source": [
    "## Neurons\n"
   ]
  },
  {
   "cell_type": "markdown",
   "metadata": {},
   "source": [
    "### Per CpG Coverage"
   ]
  },
  {
   "cell_type": "code",
   "execution_count": 129,
   "metadata": {},
   "outputs": [],
   "source": [
    "%%capture\n",
    "exo_coverage_neurons = []\n",
    "\n",
    "# First filter the CpG file once (no need to do it for each peak file)\n",
    "temp_cpg = \"temp_filtered_cpg.bed\"\n",
    "filter_standard_chromosomes(input_file=cpg_file, output_file=temp_cpg)\n",
    "\n",
    "try:\n",
    "    # Process each peak file\n",
    "    for peak_file in exo_samples_neurons['Peaks']:\n",
    "        # Create temporary filtered peak file\n",
    "        temp_peak = \"temp_filtered_peaks.bed\"\n",
    "        filter_standard_chromosomes(peak_file, temp_peak)\n",
    "        \n",
    "        # Calculate coverage using filtered peaks and filtered CpG file\n",
    "        coverage = calculate_peak_cpg_coverage(temp_peak, temp_cpg, extend=100)\n",
    "        exo_coverage_neurons.extend(coverage)\n",
    "        \n",
    "        # Clean up peak file\n",
    "        if os.path.exists(temp_peak):\n",
    "            os.remove(temp_peak)\n",
    "finally:\n",
    "    # Clean up CpG file\n",
    "    if os.path.exists(temp_cpg):\n",
    "        os.remove(temp_cpg)"
   ]
  },
  {
   "cell_type": "code",
   "execution_count": 130,
   "metadata": {},
   "outputs": [
    {
     "data": {
      "text/plain": [
       "[89.31297709923665,\n",
       " 100.0,\n",
       " 89.31297709923665,\n",
       " 100.0,\n",
       " 89.31297709923665,\n",
       " 100.0,\n",
       " 89.31297709923665,\n",
       " 100.0,\n",
       " 89.31297709923665,\n",
       " 100.0]"
      ]
     },
     "execution_count": 130,
     "metadata": {},
     "output_type": "execute_result"
    }
   ],
   "source": [
    "exo_coverage_neurons[:10]"
   ]
  },
  {
   "cell_type": "code",
   "execution_count": 131,
   "metadata": {},
   "outputs": [],
   "source": [
    "%%capture\n",
    "endo_coverage_neurons = []\n",
    "\n",
    "# First filter the CpG file once (no need to do it for each peak file)\n",
    "temp_cpg = \"temp_filtered_cpg.bed\"\n",
    "filter_standard_chromosomes(cpg_file, temp_cpg)\n",
    "\n",
    "try:\n",
    "    # Process each peak file\n",
    "    for peak_file in endo_samples_nsc['Peaks']:\n",
    "        # Create temporary filtered peak file\n",
    "        temp_peak = \"temp_filtered_peaks.bed\"\n",
    "        filter_standard_chromosomes(peak_file, temp_peak)\n",
    "        \n",
    "        # Calculate coverage using filtered peaks and filtered CpG file\n",
    "        coverage = calculate_peak_cpg_coverage(temp_peak, temp_cpg, extend=100)\n",
    "        endo_coverage_neurons.extend(coverage)\n",
    "        \n",
    "        # Clean up peak file\n",
    "        if os.path.exists(temp_peak):\n",
    "            os.remove(temp_peak)\n",
    "finally:\n",
    "    # Clean up CpG file\n",
    "    if os.path.exists(temp_cpg):\n",
    "        os.remove(temp_cpg)"
   ]
  },
  {
   "cell_type": "code",
   "execution_count": 132,
   "metadata": {},
   "outputs": [
    {
     "data": {
      "text/plain": [
       "[12.393162393162394,\n",
       " 7.918968692449356,\n",
       " 69.59247648902821,\n",
       " 43.145161290322584,\n",
       " 55.19421860885275,\n",
       " 17.163504968383016,\n",
       " 12.112259970457902,\n",
       " 93.2568149210904,\n",
       " 15.48956661316212,\n",
       " 24.228675136116152]"
      ]
     },
     "execution_count": 132,
     "metadata": {},
     "output_type": "execute_result"
    }
   ],
   "source": [
    "endo_coverage_neurons[:10]\n"
   ]
  },
  {
   "cell_type": "code",
   "execution_count": 133,
   "metadata": {},
   "outputs": [
    {
     "data": {
      "image/png": "[encoded data removed]",
      "text/plain": [
       "<Figure size 1600x600 with 2 Axes>"
      ]
     },
     "metadata": {},
     "output_type": "display_data"
    }
   ],
   "source": [
    "# Create the visualization\n",
    "plot_coverage_histograms(exo_coverage_neurons, endo_coverage_neurons, min_coverage=50, n_bins=30)"
   ]
  },
  {
   "cell_type": "code",
   "execution_count": 134,
   "metadata": {},
   "outputs": [
    {
     "data": {
      "image/png": "[encoded data removed]",
      "text/plain": [
       "<Figure size 1600x600 with 1 Axes>"
      ]
     },
     "metadata": {},
     "output_type": "display_data"
    }
   ],
   "source": [
    "plot_coverage_histograms_overlayed(exo_coverage_neurons, endo_coverage_neurons, min_coverage=0, n_bins=30)"
   ]
  },
  {
   "cell_type": "code",
   "execution_count": 135,
   "metadata": {},
   "outputs": [],
   "source": [
    "# Save the lists to files\n",
    "with open(f'{coverage_dir}/exo_coverage_neurons.pkl', 'wb') as f:\n",
    "    pickle.dump(exo_coverage_neurons, f)\n",
    "\n",
    "with open(f'{coverage_dir}/endo_coverage_neurons.pkl', 'wb') as f:\n",
    "    pickle.dump(endo_coverage_neurons, f)"
   ]
  },
  {
   "cell_type": "code",
   "execution_count": 136,
   "metadata": {},
   "outputs": [],
   "source": [
    "\n",
    "# Load the lists back\n",
    "with open(f'{coverage_dir}/exo_coverage_neurons.pkl', 'rb') as f:\n",
    "    exo_coverage_neurons = pickle.load(f)\n",
    "\n",
    "with open(f'{coverage_dir}/endo_coverage_neurons.pkl', 'rb') as f:\n",
    "    endo_coverage_nsc = pickle.load(f)"
   ]
  },
  {
   "cell_type": "markdown",
   "metadata": {},
   "source": [
    "# Only with the common peaks"
   ]
  },
  {
   "cell_type": "markdown",
   "metadata": {},
   "source": [
    "### NSC\n"
   ]
  },
  {
   "cell_type": "code",
   "execution_count": 137,
   "metadata": {},
   "outputs": [
    {
     "name": "stdout",
     "output_type": "stream",
     "text": [
      "Number of genes with both promoter types: 2231\n",
      "Example genes: ['Aak1', 'Abat', 'Abca1', 'Abca3', 'Abca4']\n"
     ]
    }
   ],
   "source": [
    "# Read the gene list\n",
    "genes_df_nsc = pd.read_csv(f\"{root_dir}/DATA/allgenes_NSC_total.csv\")\n",
    "\n",
    "# Filter for genes that have both types of promoters\n",
    "common_genes_nsc = genes_df_nsc[\n",
    "    (genes_df_nsc['Endogenous_Promoter'] == True) & \n",
    "    (genes_df_nsc['Exogenous_Promoter'] == True)\n",
    "]\n",
    "print(f\"Number of genes with both promoter types: {len(common_genes_nsc)}\")\n",
    "print(\"Example genes:\", common_genes_nsc['gene'].head().tolist())"
   ]
  },
  {
   "cell_type": "code",
   "execution_count": 138,
   "metadata": {},
   "outputs": [
    {
     "data": {
      "text/html": [
       "<div>\n",
       "<style scoped>\n",
       "    .dataframe tbody tr th:only-of-type {\n",
       "        vertical-align: middle;\n",
       "    }\n",
       "\n",
       "    .dataframe tbody tr th {\n",
       "        vertical-align: top;\n",
       "    }\n",
       "\n",
       "    .dataframe thead th {\n",
       "        text-align: right;\n",
       "    }\n",
       "</style>\n",
       "<table border=\"1\" class=\"dataframe\">\n",
       "  <thead>\n",
       "    <tr style=\"text-align: right;\">\n",
       "      <th></th>\n",
       "      <th>gene</th>\n",
       "      <th>baseMean</th>\n",
       "      <th>log2FoldChange</th>\n",
       "      <th>Direction</th>\n",
       "      <th>Endogenous_Promoter</th>\n",
       "      <th>Exogenous_Promoter</th>\n",
       "    </tr>\n",
       "  </thead>\n",
       "  <tbody>\n",
       "    <tr>\n",
       "      <th>0</th>\n",
       "      <td>Aak1</td>\n",
       "      <td>9040.147360</td>\n",
       "      <td>0.523064</td>\n",
       "      <td>UP</td>\n",
       "      <td>True</td>\n",
       "      <td>True</td>\n",
       "    </tr>\n",
       "    <tr>\n",
       "      <th>2</th>\n",
       "      <td>Abat</td>\n",
       "      <td>2381.129589</td>\n",
       "      <td>1.737878</td>\n",
       "      <td>UP</td>\n",
       "      <td>True</td>\n",
       "      <td>True</td>\n",
       "    </tr>\n",
       "    <tr>\n",
       "      <th>3</th>\n",
       "      <td>Abca1</td>\n",
       "      <td>1217.144188</td>\n",
       "      <td>2.799356</td>\n",
       "      <td>UP</td>\n",
       "      <td>True</td>\n",
       "      <td>True</td>\n",
       "    </tr>\n",
       "    <tr>\n",
       "      <th>5</th>\n",
       "      <td>Abca3</td>\n",
       "      <td>1274.604870</td>\n",
       "      <td>1.025460</td>\n",
       "      <td>UP</td>\n",
       "      <td>True</td>\n",
       "      <td>True</td>\n",
       "    </tr>\n",
       "    <tr>\n",
       "      <th>6</th>\n",
       "      <td>Abca4</td>\n",
       "      <td>107.938485</td>\n",
       "      <td>-1.498484</td>\n",
       "      <td>DOWN</td>\n",
       "      <td>True</td>\n",
       "      <td>True</td>\n",
       "    </tr>\n",
       "  </tbody>\n",
       "</table>\n",
       "</div>"
      ],
      "text/plain": [
       "    gene     baseMean  log2FoldChange Direction  Endogenous_Promoter  \\\n",
       "0   Aak1  9040.147360        0.523064        UP                 True   \n",
       "2   Abat  2381.129589        1.737878        UP                 True   \n",
       "3  Abca1  1217.144188        2.799356        UP                 True   \n",
       "5  Abca3  1274.604870        1.025460        UP                 True   \n",
       "6  Abca4   107.938485       -1.498484      DOWN                 True   \n",
       "\n",
       "   Exogenous_Promoter  \n",
       "0                True  \n",
       "2                True  \n",
       "3                True  \n",
       "5                True  \n",
       "6                True  "
      ]
     },
     "execution_count": 138,
     "metadata": {},
     "output_type": "execute_result"
    }
   ],
   "source": [
    "common_genes_nsc.head()\n"
   ]
  },
  {
   "cell_type": "code",
   "execution_count": 139,
   "metadata": {},
   "outputs": [],
   "source": [
    "%%capture\n",
    "exo_coverage_nsc = []\n",
    "\n",
    "# First filter the CpG file once (no need to do it for each peak file)\n",
    "temp_cpg = \"temp_filtered_cpg.bed\"\n",
    "filter_standard_chromosomes(cpg_file, temp_cpg)\n",
    "\n",
    "try:\n",
    "    # Process each peak file\n",
    "    for peak_file in exo_samples_nsc['Peaks']:\n",
    "        # Create temporary filtered peak file\n",
    "        temp_peak = \"temp_filtered_peaks.bed\"\n",
    "        filter_standard_chromosomes(peak_file, temp_peak)\n",
    "        \n",
    "        # Calculate coverage using filtered peaks and filtered CpG file\n",
    "        coverage = calculate_peak_cpg_coverage(temp_peak, temp_cpg, extend=100)\n",
    "        exo_coverage_nsc.extend(coverage)\n",
    "        \n",
    "        # Clean up peak file\n",
    "        if os.path.exists(temp_peak):\n",
    "            os.remove(temp_peak)\n",
    "finally:\n",
    "    # Clean up CpG file\n",
    "    if os.path.exists(temp_cpg):\n",
    "        os.remove(temp_cpg)"
   ]
  },
  {
   "cell_type": "code",
   "execution_count": 140,
   "metadata": {},
   "outputs": [
    {
     "data": {
      "text/plain": [
       "[3.8461538461538463,\n",
       " 32.05128205128205,\n",
       " 10.589318600368323,\n",
       " 75.39432176656152,\n",
       " 69.59247648902821,\n",
       " 64.11290322580645,\n",
       " 97.6513098464318,\n",
       " 14.697193500738553,\n",
       " 54.35745937961596,\n",
       " 30.703012912482063]"
      ]
     },
     "execution_count": 140,
     "metadata": {},
     "output_type": "execute_result"
    }
   ],
   "source": [
    "exo_coverage_nsc[:10]\n"
   ]
  },
  {
   "cell_type": "code",
   "execution_count": 141,
   "metadata": {},
   "outputs": [],
   "source": [
    "%%capture\n",
    "endo_coverage_nsc = []\n",
    "\n",
    "# First filter the CpG file once (no need to do it for each peak file)\n",
    "temp_cpg = \"temp_filtered_cpg.bed\"\n",
    "filter_standard_chromosomes(cpg_file, temp_cpg)\n",
    "\n",
    "try:\n",
    "    # Process each peak file\n",
    "    for peak_file in endo_samples_nsc['Peaks']:\n",
    "        # Create temporary filtered peak file\n",
    "        temp_peak = \"temp_filtered_peaks.bed\"\n",
    "        filter_standard_chromosomes(peak_file, temp_peak)\n",
    "        \n",
    "        # Calculate coverage using filtered peaks and filtered CpG file\n",
    "        coverage = calculate_peak_cpg_coverage(temp_peak, temp_cpg, extend=100)\n",
    "        endo_coverage_nsc.extend(coverage)\n",
    "        \n",
    "        # Clean up peak file\n",
    "        if os.path.exists(temp_peak):\n",
    "            os.remove(temp_peak)\n",
    "finally:\n",
    "    # Clean up CpG file\n",
    "    if os.path.exists(temp_cpg):\n",
    "        os.remove(temp_cpg)"
   ]
  },
  {
   "cell_type": "code",
   "execution_count": 142,
   "metadata": {},
   "outputs": [
    {
     "data": {
      "image/png": "[encoded data removed]",
      "text/plain": [
       "<Figure size 1600x600 with 2 Axes>"
      ]
     },
     "metadata": {},
     "output_type": "display_data"
    }
   ],
   "source": [
    "# Create the visualization\n",
    "plot_coverage_histograms(exo_coverage_nsc, endo_coverage_nsc, min_coverage=50, n_bins=20)"
   ]
  },
  {
   "cell_type": "code",
   "execution_count": 143,
   "metadata": {},
   "outputs": [
    {
     "data": {
      "image/png": "[encoded data removed]",
      "text/plain": [
       "<Figure size 1600x600 with 1 Axes>"
      ]
     },
     "metadata": {},
     "output_type": "display_data"
    }
   ],
   "source": [
    "plot_coverage_histograms_overlayed(exo_coverage_nsc, endo_coverage_nsc, min_coverage=0, n_bins=20)"
   ]
  },
  {
   "cell_type": "code",
   "execution_count": 144,
   "metadata": {},
   "outputs": [],
   "source": [
    "# Save the lists to files\n",
    "with open(f'{coverage_dir}/selected_exo_coverage_nsc.pkl', 'wb') as f:\n",
    "    pickle.dump(exo_coverage_nsc, f)\n",
    "\n",
    "with open(f'{coverage_dir}/selected_endo_coverage_nsc.pkl', 'wb') as f:\n",
    "    pickle.dump(endo_coverage_nsc, f)"
   ]
  },
  {
   "cell_type": "code",
   "execution_count": 145,
   "metadata": {},
   "outputs": [],
   "source": [
    "# Load the lists back\n",
    "with open(f'{coverage_dir}/selected_exo_coverage_nsc.pkl', 'rb') as f:\n",
    "    exo_coverage_nsc = pickle.load(f)\n",
    "\n",
    "with open(f'{coverage_dir}/selected_endo_coverage_nsc.pkl', 'rb') as f:\n",
    "    endo_coverage_nsc = pickle.load(f)"
   ]
  },
  {
   "cell_type": "markdown",
   "metadata": {},
   "source": [
    "### Neurons\n"
   ]
  },
  {
   "cell_type": "code",
   "execution_count": 146,
   "metadata": {},
   "outputs": [
    {
     "name": "stdout",
     "output_type": "stream",
     "text": [
      "Number of genes with both promoter types: 285\n",
      "Example genes: ['Abcc4', 'Adamts10', 'Adamtsl2', 'Adgrl2', 'Adrb1']\n"
     ]
    }
   ],
   "source": [
    "# Read the gene list\n",
    "genes_df_neurons = pd.read_csv(f\"{root_dir}/DATA/allgenes_NEU_total.csv\")\n",
    "\n",
    "# Filter for genes that have both types of promoters\n",
    "common_genes_neurons = genes_df_neurons[\n",
    "    (genes_df_neurons['Endogenous_Promoter'] == True) & \n",
    "    (genes_df_neurons['Exogenous_Promoter'] == True)\n",
    "]\n",
    "print(f\"Number of genes with both promoter types: {len(common_genes_neurons)}\")\n",
    "print(\"Example genes:\", common_genes_neurons['gene'].head().tolist())"
   ]
  },
  {
   "cell_type": "code",
   "execution_count": 147,
   "metadata": {},
   "outputs": [],
   "source": [
    "%%capture\n",
    "exo_coverage_neurons = []\n",
    "for peak_file in exo_samples_neurons['Peaks']:\n",
    "    filtered_peaks = get_common_peaks(peak_file, common_genes_neurons, f\"{root_dir}/DATA/genes.bed\")\n",
    "    coverage = calculate_peak_cpg_coverage(filtered_peaks, cpg_file,)\n",
    "    exo_coverage_neurons.extend(coverage)\n",
    "    subprocess.run(\"rm temp_filtered_peaks.bed\", shell=True)"
   ]
  },
  {
   "cell_type": "code",
   "execution_count": 148,
   "metadata": {},
   "outputs": [
    {
     "data": {
      "text/plain": [
       "[]"
      ]
     },
     "execution_count": 148,
     "metadata": {},
     "output_type": "execute_result"
    }
   ],
   "source": [
    "exo_coverage_neurons[:10]"
   ]
  },
  {
   "cell_type": "code",
   "execution_count": 149,
   "metadata": {},
   "outputs": [],
   "source": [
    "%%capture\n",
    "endo_coverage_neurons = []\n",
    "for peak_file in endo_samples_neurons['Peaks']:\n",
    "    filtered_peaks = get_common_peaks(peak_file, common_genes_neurons, f\"{root_dir}/DATA/genes.bed\")\n",
    "    coverage = calculate_peak_cpg_coverage(filtered_peaks, cpg_file)\n",
    "    endo_coverage_neurons.extend(coverage)\n",
    "    subprocess.run(\"rm temp_filtered_peaks.bed\", shell=True)"
   ]
  },
  {
   "cell_type": "code",
   "execution_count": 150,
   "metadata": {},
   "outputs": [
    {
     "data": {
      "text/plain": [
       "[]"
      ]
     },
     "execution_count": 150,
     "metadata": {},
     "output_type": "execute_result"
    }
   ],
   "source": [
    "endo_coverage_neurons[:10]"
   ]
  },
  {
   "cell_type": "code",
   "execution_count": 151,
   "metadata": {},
   "outputs": [
    {
     "name": "stdout",
     "output_type": "stream",
     "text": [
      "Warning: Coverage lists are empty, cannot plot histograms\n"
     ]
    }
   ],
   "source": [
    "if len(exo_coverage_neurons) > 0 and len(endo_coverage_neurons) > 0:\n",
    "    plot_coverage_histograms(exo_coverage_neurons, endo_coverage_neurons, min_coverage=50, n_bins=20)\n",
    "else:\n",
    "    print(\"Warning: Coverage lists are empty, cannot plot histograms\")"
   ]
  },
  {
   "cell_type": "code",
   "execution_count": 152,
   "metadata": {},
   "outputs": [
    {
     "name": "stdout",
     "output_type": "stream",
     "text": [
      "Warning: Coverage lists are empty, cannot plot histograms\n"
     ]
    }
   ],
   "source": [
    "if len(exo_coverage_neurons) > 0 and len(endo_coverage_neurons) > 0:\n",
    "    plot_coverage_histograms_overlayed(exo_coverage_neurons, endo_coverage_neurons, min_coverage=0, n_bins=20)\n",
    "else:\n",
    "    print(\"Warning: Coverage lists are empty, cannot plot histograms\")"
   ]
  },
  {
   "cell_type": "code",
   "execution_count": 153,
   "metadata": {},
   "outputs": [],
   "source": [
    "# Save the lists to files\n",
    "with open(f'{coverage_dir}/selected_exo_coverage_neurons.pkl', 'wb') as f:\n",
    "    pickle.dump(exo_coverage_neurons, f)    \n",
    "\n",
    "with open(f'{coverage_dir}/selected_endo_coverage_neurons.pkl', 'wb') as f:\n",
    "    pickle.dump(endo_coverage_neurons, f)"
   ]
  },
  {
   "cell_type": "code",
   "execution_count": 154,
   "metadata": {},
   "outputs": [],
   "source": [
    "# Load the lists back\n",
    "with open(f'{coverage_dir}/selected_exo_coverage_neurons.pkl', 'rb') as f:\n",
    "    exo_coverage_neurons = pickle.load(f)\n",
    "\n",
    "with open(f'{coverage_dir}/selected_endo_coverage_neurons.pkl', 'rb') as f:\n",
    "    endo_coverage_neurons = pickle.load(f)"
   ]
  },
  {
   "cell_type": "markdown",
   "metadata": {},
   "source": [
    "# DE expression bins"
   ]
  },
  {
   "cell_type": "code",
   "execution_count": 155,
   "metadata": {},
   "outputs": [],
   "source": [
    "DEA_NEU = pd.read_csv(f\"{root_dir}/DATA/DEA_NEU.csv\", header=0)\n",
    "DEA_NSC = pd.read_csv(f\"{root_dir}/DATA/DEA_NSC.csv\", header=0)"
   ]
  },
  {
   "cell_type": "code",
   "execution_count": 156,
   "metadata": {},
   "outputs": [
    {
     "data": {
      "text/html": [
       "<div>\n",
       "<style scoped>\n",
       "    .dataframe tbody tr th:only-of-type {\n",
       "        vertical-align: middle;\n",
       "    }\n",
       "\n",
       "    .dataframe tbody tr th {\n",
       "        vertical-align: top;\n",
       "    }\n",
       "\n",
       "    .dataframe thead th {\n",
       "        text-align: right;\n",
       "    }\n",
       "</style>\n",
       "<table border=\"1\" class=\"dataframe\">\n",
       "  <thead>\n",
       "    <tr style=\"text-align: right;\">\n",
       "      <th></th>\n",
       "      <th>gene</th>\n",
       "      <th>baseMean</th>\n",
       "      <th>log2FoldChange</th>\n",
       "      <th>lfcSE</th>\n",
       "      <th>stat</th>\n",
       "      <th>pvalue</th>\n",
       "      <th>padj</th>\n",
       "    </tr>\n",
       "  </thead>\n",
       "  <tbody>\n",
       "    <tr>\n",
       "      <th>0</th>\n",
       "      <td>Mir5125</td>\n",
       "      <td>128.824113</td>\n",
       "      <td>0.000073</td>\n",
       "      <td>0.189117</td>\n",
       "      <td>0.000383</td>\n",
       "      <td>0.999694</td>\n",
       "      <td>0.999694</td>\n",
       "    </tr>\n",
       "    <tr>\n",
       "      <th>1</th>\n",
       "      <td>Trim68</td>\n",
       "      <td>98.639563</td>\n",
       "      <td>0.000133</td>\n",
       "      <td>0.215486</td>\n",
       "      <td>0.000617</td>\n",
       "      <td>0.999508</td>\n",
       "      <td>0.999614</td>\n",
       "    </tr>\n",
       "    <tr>\n",
       "      <th>2</th>\n",
       "      <td>Frrs1</td>\n",
       "      <td>442.946120</td>\n",
       "      <td>0.000097</td>\n",
       "      <td>0.109825</td>\n",
       "      <td>0.000883</td>\n",
       "      <td>0.999295</td>\n",
       "      <td>0.999556</td>\n",
       "    </tr>\n",
       "    <tr>\n",
       "      <th>3</th>\n",
       "      <td>Notch4</td>\n",
       "      <td>60.968185</td>\n",
       "      <td>0.000246</td>\n",
       "      <td>0.266300</td>\n",
       "      <td>0.000925</td>\n",
       "      <td>0.999262</td>\n",
       "      <td>0.999556</td>\n",
       "    </tr>\n",
       "    <tr>\n",
       "      <th>4</th>\n",
       "      <td>Ano6</td>\n",
       "      <td>5982.860518</td>\n",
       "      <td>0.000074</td>\n",
       "      <td>0.070708</td>\n",
       "      <td>0.001043</td>\n",
       "      <td>0.999168</td>\n",
       "      <td>0.999503</td>\n",
       "    </tr>\n",
       "  </tbody>\n",
       "</table>\n",
       "</div>"
      ],
      "text/plain": [
       "      gene     baseMean  log2FoldChange     lfcSE      stat    pvalue  \\\n",
       "0  Mir5125   128.824113        0.000073  0.189117  0.000383  0.999694   \n",
       "1   Trim68    98.639563        0.000133  0.215486  0.000617  0.999508   \n",
       "2    Frrs1   442.946120        0.000097  0.109825  0.000883  0.999295   \n",
       "3   Notch4    60.968185        0.000246  0.266300  0.000925  0.999262   \n",
       "4     Ano6  5982.860518        0.000074  0.070708  0.001043  0.999168   \n",
       "\n",
       "       padj  \n",
       "0  0.999694  \n",
       "1  0.999614  \n",
       "2  0.999556  \n",
       "3  0.999556  \n",
       "4  0.999503  "
      ]
     },
     "execution_count": 156,
     "metadata": {},
     "output_type": "execute_result"
    }
   ],
   "source": [
    "DEA_NSC.head()"
   ]
  },
  {
   "cell_type": "code",
   "execution_count": 157,
   "metadata": {},
   "outputs": [],
   "source": [
    "# Calculate quantiles and assign expression levels\n",
    "q33_, q66_ = DEA_NSC['baseMean'].quantile([0.33, 0.66])\n",
    "DEA_NSC['expression_level'] = DEA_NSC['baseMean'].apply(lambda x: get_expression_level(x, q33_, q66_))\n",
    "\n",
    "q33, q66 = DEA_NEU['baseMean'].quantile([0.33, 0.66])\n",
    "DEA_NEU['expression_level'] = DEA_NEU['baseMean'].apply(lambda x: get_expression_level(x, q33, q66))"
   ]
  },
  {
   "cell_type": "markdown",
   "metadata": {},
   "source": [
    "## UP"
   ]
  },
  {
   "cell_type": "code",
   "execution_count": 158,
   "metadata": {},
   "outputs": [],
   "source": [
    "DEA_NEU_up = DEA_NEU[(DEA_NEU['padj'] < 0.05) & (DEA_NEU['log2FoldChange'] > 0)]\n",
    "DEA_NSC_up = DEA_NSC[(DEA_NSC['padj'] < 0.05) & (DEA_NSC['log2FoldChange'] > 0)]"
   ]
  },
  {
   "cell_type": "markdown",
   "metadata": {},
   "source": [
    "### NSC"
   ]
  },
  {
   "cell_type": "code",
   "execution_count": 159,
   "metadata": {},
   "outputs": [],
   "source": [
    "# Calculate quantiles for expression binning\n",
    "# q33, q66 = DEA_NSC_up['baseMean'].quantile([0.33, 0.66])"
   ]
  },
  {
   "cell_type": "code",
   "execution_count": 160,
   "metadata": {},
   "outputs": [],
   "source": [
    "# # Let's see the distribution\n",
    "# print(\"Expression level boundaries:\")\n",
    "# print(f\"Low: baseMean <= {q33:.2f}\")\n",
    "# print(f\"Medium: {q33:.2f} < baseMean <= {q66:.2f}\")\n",
    "# print(f\"High: baseMean > {q66:.2f}\")\n",
    "# print(\"\\nNumber of genes in each category:\")\n",
    "# print(DEA_NSC_up['expression_level'].value_counts())"
   ]
  },
  {
   "cell_type": "code",
   "execution_count": 161,
   "metadata": {},
   "outputs": [],
   "source": [
    "DEA_NSC_up_high = DEA_NSC_up[DEA_NSC_up.expression_level == 'High']\n",
    "DEA_NSC_up_medium = DEA_NSC_up[DEA_NSC_up.expression_level == 'Medium']\n",
    "DEA_NSC_up_low = DEA_NSC_up[DEA_NSC_up.expression_level == 'Low']"
   ]
  },
  {
   "cell_type": "code",
   "execution_count": 162,
   "metadata": {},
   "outputs": [],
   "source": [
    "%%capture\n",
    "# Calculate coverage for filtered peaks\n",
    "exo_coverage_up_high = []\n",
    "for peak_file in exo_samples_nsc['Peaks']:\n",
    "    filtered_peaks = get_common_peaks(peak_file, DEA_NSC_up_high, f\"{root_dir}/DATA/genes.bed\")\n",
    "    coverage = calculate_peak_cpg_coverage(filtered_peaks, cpg_file,)\n",
    "    exo_coverage_up_high.extend(coverage)\n",
    "    subprocess.run(\"rm temp_filtered_peaks.bed\", shell=True)\n",
    "\n",
    "# Calculate coverage for filtered peaks\n",
    "exo_coverage_up_medium = []\n",
    "for peak_file in exo_samples_nsc['Peaks']:\n",
    "    filtered_peaks = get_common_peaks(peak_file, DEA_NSC_up_medium, f\"{root_dir}/DATA/genes.bed\")\n",
    "    coverage = calculate_peak_cpg_coverage(filtered_peaks, cpg_file,)\n",
    "    exo_coverage_up_medium.extend(coverage)\n",
    "    subprocess.run(\"rm temp_filtered_peaks.bed\", shell=True)\n",
    "    \n",
    "# Calculate coverage for filtered peaks\n",
    "exo_coverage_up_low = []\n",
    "for peak_file in exo_samples_nsc['Peaks']:\n",
    "    filtered_peaks = get_common_peaks(peak_file, DEA_NSC_up_low, f\"{root_dir}/DATA/genes.bed\")\n",
    "    coverage = calculate_peak_cpg_coverage(filtered_peaks, cpg_file,)\n",
    "    exo_coverage_up_low.extend(coverage)\n",
    "    subprocess.run(\"rm temp_filtered_peaks.bed\", shell=True)"
   ]
  },
  {
   "cell_type": "code",
   "execution_count": 163,
   "metadata": {},
   "outputs": [],
   "source": [
    "%%capture\n",
    "# Calculate coverage for filtered peaks\n",
    "endo_coverage_up_high = []\n",
    "for peak_file in endo_samples_nsc['Peaks']:\n",
    "    filtered_peaks = get_common_peaks(peak_file, DEA_NSC_up_high, f\"{root_dir}/DATA/genes.bed\")\n",
    "    coverage = calculate_peak_cpg_coverage(filtered_peaks, cpg_file,)\n",
    "    endo_coverage_up_high.extend(coverage)\n",
    "    subprocess.run(\"rm temp_filtered_peaks.bed\", shell=True)\n",
    "\n",
    "# Calculate coverage for filtered peaks\n",
    "endo_coverage_up_medium = []\n",
    "for peak_file in endo_samples_nsc['Peaks']:\n",
    "    filtered_peaks = get_common_peaks(peak_file, DEA_NSC_up_medium, f\"{root_dir}/DATA/genes.bed\")\n",
    "    coverage = calculate_peak_cpg_coverage(filtered_peaks, cpg_file,)\n",
    "    endo_coverage_up_medium.extend(coverage)\n",
    "    subprocess.run(\"rm temp_filtered_peaks.bed\", shell=True)\n",
    "\n",
    "# Calculate coverage for filtered peaks\n",
    "endo_coverage_up_low = []\n",
    "for peak_file in endo_samples_nsc['Peaks']:\n",
    "    filtered_peaks = get_common_peaks(peak_file, DEA_NSC_up_low, f\"{root_dir}/DATA/genes.bed\")\n",
    "    coverage = calculate_peak_cpg_coverage(filtered_peaks, cpg_file,)\n",
    "    endo_coverage_up_low.extend(coverage)\n",
    "    subprocess.run(\"rm temp_filtered_peaks.bed\", shell=True)\n"
   ]
  },
  {
   "cell_type": "code",
   "execution_count": 164,
   "metadata": {},
   "outputs": [],
   "source": [
    "# Exogenous\n",
    "if len(exo_coverage_up_high) > 0 and len(exo_coverage_up_medium) > 0 and len(exo_coverage_up_low) > 0:\n",
    "    fig = plot_coverage_histograms_expression(exo_coverage_up_high, exo_coverage_up_medium, exo_coverage_up_low, min_coverage=0, p_t = 80, n_bins=15)\n",
    "    plt.show()\n"
   ]
  },
  {
   "cell_type": "code",
   "execution_count": 165,
   "metadata": {},
   "outputs": [],
   "source": [
    "# Endogenous\n",
    "if len(endo_coverage_up_high) > 0 and len(endo_coverage_up_medium) > 0 and len(endo_coverage_up_low) > 0:\n",
    "    fig = plot_coverage_histograms_expression(endo_coverage_up_high, endo_coverage_up_medium, endo_coverage_up_low, min_coverage=0, p_t = 80, n_bins=25)\n",
    "    plt.show()\n"
   ]
  },
  {
   "cell_type": "code",
   "execution_count": 166,
   "metadata": {},
   "outputs": [],
   "source": [
    "# Save the lists to files\n",
    "with open(f'{coverage_dir}/expression_coverage_up_high_nsc.pkl', 'wb') as f:\n",
    "    pickle.dump(exo_coverage_up_high, f)\n",
    "\n",
    "with open(f'{coverage_dir}/expression_coverage_up_medium_nsc.pkl', 'wb') as f:\n",
    "    pickle.dump(exo_coverage_up_medium, f)\n",
    "\n",
    "with open(f'{coverage_dir}/expression_coverage_up_low_nsc.pkl', 'wb') as f:\n",
    "    pickle.dump(exo_coverage_up_low, f)"
   ]
  },
  {
   "cell_type": "markdown",
   "metadata": {},
   "source": [
    "### Neurons\n"
   ]
  },
  {
   "cell_type": "code",
   "execution_count": 167,
   "metadata": {},
   "outputs": [],
   "source": [
    "# Calculate quantiles for expression binning\n",
    "# q33, q66 = DEA_NEU_up['baseMean'].quantile([0.33, 0.66])"
   ]
  },
  {
   "cell_type": "code",
   "execution_count": 168,
   "metadata": {},
   "outputs": [],
   "source": [
    "%%capture\n",
    "#  Add expression level column to DEA_NSC\n",
    "DEA_NEU_up['expression_level'] = DEA_NEU_up['baseMean'].apply(lambda x: get_expression_level(x, q33_, q66_))"
   ]
  },
  {
   "cell_type": "code",
   "execution_count": 169,
   "metadata": {},
   "outputs": [],
   "source": [
    "# # Let's see the distribution\n",
    "# print(\"Expression level boundaries:\")\n",
    "# print(f\"Low: baseMean <= {q33:.2f}\")\n",
    "# print(f\"Medium: {q33:.2f} < baseMean <= {q66:.2f}\")\n",
    "# print(f\"High: baseMean > {q66:.2f}\")\n",
    "# print(\"\\nNumber of genes in each category:\")\n",
    "# print(DEA_NSC_up['expression_level'].value_counts())"
   ]
  },
  {
   "cell_type": "code",
   "execution_count": 170,
   "metadata": {},
   "outputs": [],
   "source": [
    "DEA_NEU_up_high = DEA_NEU_up[DEA_NEU_up.expression_level == 'High']\n",
    "DEA_NEU_up_medium = DEA_NEU_up[DEA_NEU_up.expression_level == 'Medium']\n",
    "DEA_NEU_up_low = DEA_NEU_up[DEA_NEU_up.expression_level == 'Low']"
   ]
  },
  {
   "cell_type": "code",
   "execution_count": 171,
   "metadata": {},
   "outputs": [],
   "source": [
    "%%capture\n",
    "# Calculate coverage for filtered peaks\n",
    "exo_coverage_up_high = []\n",
    "for peak_file in exo_samples_neurons['Peaks']:\n",
    "    filtered_peaks = get_common_peaks(peak_file, DEA_NEU_up_high, f\"{root_dir}/DATA/genes.bed\")\n",
    "    coverage = calculate_peak_cpg_coverage(filtered_peaks, cpg_file,)\n",
    "    exo_coverage_up_high.extend(coverage)\n",
    "    subprocess.run(\"rm temp_filtered_peaks.bed\", shell=True)\n",
    "\n",
    "# Calculate coverage for filtered peaks\n",
    "exo_coverage_up_medium = []\n",
    "for peak_file in exo_samples_neurons['Peaks']:\n",
    "    filtered_peaks = get_common_peaks(peak_file, DEA_NEU_up_medium, f\"{root_dir}/DATA/genes.bed\")\n",
    "    coverage = calculate_peak_cpg_coverage(filtered_peaks, cpg_file,)\n",
    "    exo_coverage_up_medium.extend(coverage)\n",
    "    subprocess.run(\"rm temp_filtered_peaks.bed\", shell=True)\n",
    "    \n",
    "# Calculate coverage for filtered peaks\n",
    "exo_coverage_up_low = []\n",
    "for peak_file in exo_samples_neurons['Peaks']:\n",
    "    filtered_peaks = get_common_peaks(peak_file, DEA_NEU_up_low, f\"{root_dir}/DATA/genes.bed\")\n",
    "    coverage = calculate_peak_cpg_coverage(filtered_peaks, cpg_file,)\n",
    "    exo_coverage_up_low.extend(coverage)\n",
    "    subprocess.run(\"rm temp_filtered_peaks.bed\", shell=True)"
   ]
  },
  {
   "cell_type": "code",
   "execution_count": 172,
   "metadata": {},
   "outputs": [],
   "source": [
    "%%capture\n",
    "# Calculate coverage for filtered peaks\n",
    "endo_coverage_up_high = []\n",
    "for peak_file in endo_samples_neurons['Peaks']:\n",
    "    filtered_peaks = get_common_peaks(peak_file, DEA_NEU_up_high, f\"{root_dir}/DATA/genes.bed\")\n",
    "    coverage = calculate_peak_cpg_coverage(filtered_peaks, cpg_file,)\n",
    "    endo_coverage_up_high.extend(coverage)\n",
    "    subprocess.run(\"rm temp_filtered_peaks.bed\", shell=True)\n",
    "\n",
    "# Calculate coverage for filtered peaks\n",
    "endo_coverage_up_medium = []\n",
    "for peak_file in endo_samples_neurons['Peaks']:\n",
    "    filtered_peaks = get_common_peaks(peak_file, DEA_NEU_up_medium, f\"{root_dir}/DATA/genes.bed\")\n",
    "    coverage = calculate_peak_cpg_coverage(filtered_peaks, cpg_file,)\n",
    "    endo_coverage_up_medium.extend(coverage)\n",
    "    subprocess.run(\"rm temp_filtered_peaks.bed\", shell=True)\n",
    "\n",
    "# Calculate coverage for filtered peaks\n",
    "endo_coverage_up_low = []\n",
    "for peak_file in endo_samples_neurons['Peaks']:\n",
    "    filtered_peaks = get_common_peaks(peak_file, DEA_NEU_up_low, f\"{root_dir}/DATA/genes.bed\")\n",
    "    coverage = calculate_peak_cpg_coverage(filtered_peaks, cpg_file,)\n",
    "    endo_coverage_up_low.extend(coverage)\n",
    "    subprocess.run(\"rm temp_filtered_peaks.bed\", shell=True)\n"
   ]
  },
  {
   "cell_type": "code",
   "execution_count": 173,
   "metadata": {},
   "outputs": [],
   "source": [
    "# Exogenous\n",
    "if len(exo_coverage_up_high) > 0 and len(exo_coverage_up_medium) > 0 and len(exo_coverage_up_low) > 0:\n",
    "    fig = plot_coverage_histograms_expression(exo_coverage_up_high, exo_coverage_up_medium, exo_coverage_up_low, min_coverage=0, p_t = 80, n_bins=15)\n",
    "    plt.show()\n"
   ]
  },
  {
   "cell_type": "code",
   "execution_count": 174,
   "metadata": {},
   "outputs": [],
   "source": [
    "# Endogenous\n",
    "if len(endo_coverage_up_high) > 0 and len(endo_coverage_up_medium) > 0 and len(endo_coverage_up_low) > 0:\n",
    "    fig = plot_coverage_histograms_expression(endo_coverage_up_high, endo_coverage_up_medium, endo_coverage_up_low, min_coverage=0, p_t = 80, n_bins=25)\n",
    "    plt.show()\n"
   ]
  },
  {
   "cell_type": "code",
   "execution_count": 175,
   "metadata": {},
   "outputs": [],
   "source": [
    "# Save the lists to files\n",
    "with open(f'{coverage_dir}/expression_coverage_up_high_neurons.pkl', 'wb') as f:\n",
    "    pickle.dump(exo_coverage_up_high, f)\n",
    "\n",
    "with open(f'{coverage_dir}/expression_coverage_up_medium_neurons.pkl', 'wb') as f:\n",
    "    pickle.dump(exo_coverage_up_medium, f)\n",
    "\n",
    "with open(f'{coverage_dir}/expression_coverage_up_low_neurons.pkl', 'wb') as f:\n",
    "    pickle.dump(exo_coverage_up_low, f)"
   ]
  },
  {
   "cell_type": "markdown",
   "metadata": {},
   "source": [
    "## Down"
   ]
  },
  {
   "cell_type": "code",
   "execution_count": 176,
   "metadata": {},
   "outputs": [],
   "source": [
    "DEA_NEU_down = DEA_NEU[(DEA_NEU['padj'] < 0.05) & (DEA_NEU['log2FoldChange'] < 0)]\n",
    "DEA_NSC_down = DEA_NSC[(DEA_NSC['padj'] < 0.05) & (DEA_NSC['log2FoldChange'] < 0)]"
   ]
  },
  {
   "cell_type": "markdown",
   "metadata": {},
   "source": [
    "### NSC\n"
   ]
  },
  {
   "cell_type": "code",
   "execution_count": 177,
   "metadata": {},
   "outputs": [],
   "source": [
    "# # Calculate quantiles for expression binning\n",
    "# q33, q66 = DEA_NSC_down['baseMean'].quantile([0.33, 0.66])"
   ]
  },
  {
   "cell_type": "code",
   "execution_count": 178,
   "metadata": {},
   "outputs": [],
   "source": [
    "# # Let's see the distribution\n",
    "# print(\"Expression level boundaries:\")\n",
    "# print(f\"Low: baseMean <= {q33:.2f}\")\n",
    "# print(f\"Medium: {q33:.2f} < baseMean <= {q66:.2f}\")\n",
    "# print(f\"High: baseMean > {q66:.2f}\")\n",
    "# print(\"\\nNumber of genes in each category:\")\n",
    "# print(DEA_NSC_down['expression_level'].value_counts())"
   ]
  },
  {
   "cell_type": "code",
   "execution_count": 179,
   "metadata": {},
   "outputs": [],
   "source": [
    "DEA_NSC_down_high = DEA_NSC_down[DEA_NSC_down.expression_level == 'High']\n",
    "DEA_NSC_down_medium = DEA_NSC_down[DEA_NSC_down.expression_level == 'Medium']\n",
    "DEA_NSC_down_low = DEA_NSC_down[DEA_NSC_down.expression_level == 'Low']"
   ]
  },
  {
   "cell_type": "code",
   "execution_count": 180,
   "metadata": {},
   "outputs": [],
   "source": [
    "%%capture\n",
    "exo_coverage_down_high = []\n",
    "for peak_file in exo_samples_nsc['Peaks']:\n",
    "    filtered_peaks = get_common_peaks(peak_file, DEA_NSC_down_high, f\"{root_dir}/DATA/genes.bed\")\n",
    "    coverage = calculate_peak_cpg_coverage(filtered_peaks, cpg_file,)\n",
    "    exo_coverage_down_high.extend(coverage)\n",
    "    subprocess.run(\"rm temp_filtered_peaks.bed\", shell=True)\n",
    "\n",
    "# Calculate coverage for filtered peaks\n",
    "exo_coverage_down_medium = []\n",
    "for peak_file in exo_samples_nsc['Peaks']:\n",
    "    filtered_peaks = get_common_peaks(peak_file, DEA_NSC_down_medium, f\"{root_dir}/DATA/genes.bed\")\n",
    "    coverage = calculate_peak_cpg_coverage(filtered_peaks, cpg_file,)\n",
    "    exo_coverage_down_medium.extend(coverage)\n",
    "    subprocess.run(\"rm temp_filtered_peaks.bed\", shell=True)\n",
    "\n",
    "# Calculate coverage for filtered peaks\n",
    "exo_coverage_down_low = []\n",
    "for peak_file in exo_samples_nsc['Peaks']:\n",
    "    filtered_peaks = get_common_peaks(peak_file, DEA_NSC_down_low, f\"{root_dir}/DATA/genes.bed\")\n",
    "    coverage = calculate_peak_cpg_coverage(filtered_peaks, cpg_file,)\n",
    "    exo_coverage_down_low.extend(coverage)\n",
    "    subprocess.run(\"rm temp_filtered_peaks.bed\", shell=True)"
   ]
  },
  {
   "cell_type": "code",
   "execution_count": 181,
   "metadata": {},
   "outputs": [],
   "source": [
    "%%capture\n",
    "# Calculate coverage for filtered peaks\n",
    "endo_coverage_down_high = []\n",
    "for peak_file in endo_samples_nsc['Peaks']:\n",
    "    filtered_peaks = get_common_peaks(peak_file, DEA_NSC_down_high, f\"{root_dir}/DATA/genes.bed\")\n",
    "    coverage = calculate_peak_cpg_coverage(filtered_peaks, cpg_file,)\n",
    "    endo_coverage_down_high.extend(coverage)\n",
    "    subprocess.run(\"rm temp_filtered_peaks.bed\", shell=True)\n",
    "\n",
    "# Calculate coverage for filtered peaks\n",
    "endo_coverage_down_medium = []\n",
    "for peak_file in endo_samples_nsc['Peaks']:\n",
    "    filtered_peaks = get_common_peaks(peak_file, DEA_NSC_down_medium, f\"{root_dir}/DATA/genes.bed\")\n",
    "    coverage = calculate_peak_cpg_coverage(filtered_peaks, cpg_file,)\n",
    "    endo_coverage_down_medium.extend(coverage)\n",
    "    subprocess.run(\"rm temp_filtered_peaks.bed\", shell=True)\n",
    "\n",
    "# Calculate coverage for filtered peaks\n",
    "endo_coverage_down_low = []\n",
    "for peak_file in endo_samples_nsc['Peaks']:\n",
    "    filtered_peaks = get_common_peaks(peak_file, DEA_NSC_down_low, f\"{root_dir}/DATA/genes.bed\")\n",
    "    coverage = calculate_peak_cpg_coverage(filtered_peaks, cpg_file,)\n",
    "    endo_coverage_down_low.extend(coverage)\n",
    "    subprocess.run(\"rm temp_filtered_peaks.bed\", shell=True)\n"
   ]
  },
  {
   "cell_type": "code",
   "execution_count": 182,
   "metadata": {},
   "outputs": [],
   "source": [
    "# Exogenous\n",
    "if len(exo_coverage_down_high) > 0 and len(exo_coverage_down_medium) > 0 and len(exo_coverage_down_low) > 0:\n",
    "    fig = plot_coverage_histograms_expression(exo_coverage_down_high, exo_coverage_down_medium, exo_coverage_down_low, min_coverage=0, p_t = 80, n_bins=15)\n",
    "    plt.show()\n"
   ]
  },
  {
   "cell_type": "code",
   "execution_count": 183,
   "metadata": {},
   "outputs": [],
   "source": [
    "# Endogenous\n",
    "if len(endo_coverage_down_high) > 0 and len(endo_coverage_down_medium) > 0 and len(endo_coverage_down_low) > 0:\n",
    "    fig = plot_coverage_histograms_expression(endo_coverage_down_high, endo_coverage_down_medium, endo_coverage_down_low, min_coverage=0, p_t = 80, n_bins=15)\n",
    "    plt.show()\n"
   ]
  },
  {
   "cell_type": "markdown",
   "metadata": {},
   "source": [
    "### Neurons"
   ]
  },
  {
   "cell_type": "code",
   "execution_count": 184,
   "metadata": {},
   "outputs": [],
   "source": [
    "# # Calculate quantiles for expression binning\n",
    "# q33, q66 = DEA_NEU_down['baseMean'].quantile([0.33, 0.66])\n"
   ]
  },
  {
   "cell_type": "code",
   "execution_count": 185,
   "metadata": {},
   "outputs": [],
   "source": [
    "# Let's see the distribution\n",
    "# print(\"Expression level boundaries:\")\n",
    "# print(f\"Low: baseMean <= {q33:.2f}\")\n",
    "# print(f\"Medium: {q33:.2f} < baseMean <= {q66:.2f}\")\n",
    "# print(f\"High: baseMean > {q66:.2f}\")\n",
    "# print(\"\\nNumber of genes in each category:\")\n",
    "# print(DEA_NEU_down['expression_level'].value_counts())\n",
    "\n",
    "DEA_NEU_down_high = DEA_NEU_down[DEA_NEU_down.expression_level == 'High']\n",
    "DEA_NEU_down_medium = DEA_NEU_down[DEA_NEU_down.expression_level == 'Medium']\n",
    "DEA_NEU_down_low = DEA_NEU_down[DEA_NEU_down.expression_level == 'Low']"
   ]
  },
  {
   "cell_type": "code",
   "execution_count": 186,
   "metadata": {},
   "outputs": [],
   "source": [
    "%%capture\n",
    "exo_coverage_down_high = []\n",
    "for peak_file in exo_samples_neurons['Peaks']:\n",
    "    filtered_peaks = get_common_peaks(peak_file, DEA_NEU_down_high, f\"{root_dir}/DATA/genes.bed\")\n",
    "    coverage = calculate_peak_cpg_coverage(filtered_peaks, cpg_file,)\n",
    "    exo_coverage_down_high.extend(coverage)\n",
    "    subprocess.run(\"rm temp_filtered_peaks.bed\", shell=True)\n",
    "\n",
    "# Calculate coverage for filtered peaks\n",
    "exo_coverage_down_medium = []\n",
    "for peak_file in exo_samples_neurons['Peaks']:\n",
    "    filtered_peaks = get_common_peaks(peak_file, DEA_NEU_down_medium, f\"{root_dir}/DATA/genes.bed\")\n",
    "    coverage = calculate_peak_cpg_coverage(filtered_peaks, cpg_file,)\n",
    "    exo_coverage_down_medium.extend(coverage)\n",
    "    subprocess.run(\"rm temp_filtered_peaks.bed\", shell=True)\n",
    "\n",
    "# Calculate coverage for filtered peaks\n",
    "exo_coverage_down_low = []\n",
    "for peak_file in exo_samples_neurons['Peaks']:\n",
    "    filtered_peaks = get_common_peaks(peak_file, DEA_NEU_down_low, f\"{root_dir}/DATA/genes.bed\")\n",
    "    coverage = calculate_peak_cpg_coverage(filtered_peaks, cpg_file,)\n",
    "    exo_coverage_down_low.extend(coverage)\n",
    "    subprocess.run(\"rm temp_filtered_peaks.bed\", shell=True)"
   ]
  },
  {
   "cell_type": "code",
   "execution_count": 187,
   "metadata": {},
   "outputs": [],
   "source": [
    "%%capture\n",
    "# Calculate coverage for filtered peaks\n",
    "endo_coverage_down_high = []\n",
    "for peak_file in endo_samples_neurons['Peaks']:\n",
    "    filtered_peaks = get_common_peaks(peak_file, DEA_NEU_down_high, f\"{root_dir}/DATA/genes.bed\")\n",
    "    coverage = calculate_peak_cpg_coverage(filtered_peaks, cpg_file,)\n",
    "    endo_coverage_down_high.extend(coverage)\n",
    "    subprocess.run(\"rm temp_filtered_peaks.bed\", shell=True)\n",
    "\n",
    "# Calculate coverage for filtered peaks\n",
    "endo_coverage_down_medium = []\n",
    "for peak_file in endo_samples_neurons['Peaks']:\n",
    "    filtered_peaks = get_common_peaks(peak_file, DEA_NEU_down_medium, f\"{root_dir}/DATA/genes.bed\")\n",
    "    coverage = calculate_peak_cpg_coverage(filtered_peaks, cpg_file,)\n",
    "    endo_coverage_down_medium.extend(coverage)\n",
    "    subprocess.run(\"rm temp_filtered_peaks.bed\", shell=True)\n",
    "\n",
    "# Calculate coverage for filtered peaks\n",
    "endo_coverage_down_low = []\n",
    "for peak_file in endo_samples_neurons['Peaks']:\n",
    "    filtered_peaks = get_common_peaks(peak_file, DEA_NEU_down_low, f\"{root_dir}/DATA/genes.bed\")\n",
    "    coverage = calculate_peak_cpg_coverage(filtered_peaks, cpg_file,)\n",
    "    endo_coverage_down_low.extend(coverage)\n",
    "    subprocess.run(\"rm temp_filtered_peaks.bed\", shell=True)\n"
   ]
  },
  {
   "cell_type": "code",
   "execution_count": 188,
   "metadata": {},
   "outputs": [],
   "source": [
    "# Exogenous\n",
    "if len(exo_coverage_down_high) > 0 and len(exo_coverage_down_medium) > 0 and len(exo_coverage_down_low) > 0:\n",
    "    fig = plot_coverage_histograms_expression(exo_coverage_down_high, exo_coverage_down_medium, exo_coverage_down_low, min_coverage=0, p_t = 80, n_bins=15)\n",
    "    plt.show()\n"
   ]
  },
  {
   "cell_type": "code",
   "execution_count": 189,
   "metadata": {},
   "outputs": [],
   "source": [
    "# Endogenous\n",
    "if len(endo_coverage_down_high) > 0 and len(endo_coverage_down_medium) > 0 and len(endo_coverage_down_low) > 0:\n",
    "    fig = plot_coverage_histograms_expression(endo_coverage_down_high, endo_coverage_down_medium, endo_coverage_down_low, min_coverage=0, p_t = 80, n_bins=15)\n",
    "    plt.show()\n"
   ]
  },
  {
   "cell_type": "markdown",
   "metadata": {},
   "source": [
    "## Not DE"
   ]
  },
  {
   "cell_type": "markdown",
   "metadata": {},
   "source": [
    "### NSC"
   ]
  },
  {
   "cell_type": "code",
   "execution_count": 190,
   "metadata": {},
   "outputs": [],
   "source": [
    "DEA_NEU_not_de = DEA_NEU[DEA_NEU['padj'] > 0.05]\n",
    "DEA_NSC_not_de = DEA_NSC[DEA_NSC['padj'] > 0.05]"
   ]
  },
  {
   "cell_type": "code",
   "execution_count": 191,
   "metadata": {},
   "outputs": [],
   "source": [
    "# Calculate quantiles for expression binning\n",
    "# q33, q66 = DEA_NSC_not_de['baseMean'].quantile([0.33, 0.66])"
   ]
  },
  {
   "cell_type": "code",
   "execution_count": 192,
   "metadata": {},
   "outputs": [],
   "source": [
    "# # Let's see the distribution\n",
    "# print(\"Expression level boundaries:\")\n",
    "# print(f\"Low: baseMean <= {q33:.2f}\")\n",
    "# print(f\"Medium: {q33:.2f} < baseMean <= {q66:.2f}\")\n",
    "# print(f\"High: baseMean > {q66:.2f}\")\n",
    "# print(\"\\nNumber of genes in each category:\")\n",
    "# print(DEA_NSC_not_de['expression_level'].value_counts())"
   ]
  },
  {
   "cell_type": "code",
   "execution_count": 193,
   "metadata": {},
   "outputs": [],
   "source": [
    "DEA_NSC_not_de_high = DEA_NSC_not_de[DEA_NSC_not_de.expression_level == 'High']\n",
    "DEA_NSC_not_de_medium = DEA_NSC_not_de[DEA_NSC_not_de.expression_level == 'Medium']\n",
    "DEA_NSC_not_de_low = DEA_NSC_not_de[DEA_NSC_not_de.expression_level == 'Low']"
   ]
  },
  {
   "cell_type": "code",
   "execution_count": 194,
   "metadata": {},
   "outputs": [],
   "source": [
    "%%capture\n",
    "exo_coverage_not_de_high = []\n",
    "for peak_file in exo_samples_nsc['Peaks']:\n",
    "    filtered_peaks = get_common_peaks(peak_file, DEA_NSC_not_de_high, f\"{root_dir}/DATA/genes.bed\")\n",
    "    coverage = calculate_peak_cpg_coverage(filtered_peaks, cpg_file,)\n",
    "    exo_coverage_not_de_high.extend(coverage)\n",
    "    subprocess.run(\"rm temp_filtered_peaks.bed\", shell=True)\n",
    "\n",
    "# Calculate coverage for filtered peaks\n",
    "exo_coverage_not_de_medium = []\n",
    "for peak_file in exo_samples_nsc['Peaks']:\n",
    "    filtered_peaks = get_common_peaks(peak_file, DEA_NSC_not_de_medium, f\"{root_dir}/DATA/genes.bed\")\n",
    "    coverage = calculate_peak_cpg_coverage(filtered_peaks, cpg_file,)\n",
    "    exo_coverage_not_de_medium.extend(coverage)\n",
    "    subprocess.run(\"rm temp_filtered_peaks.bed\", shell=True)\n",
    "\n",
    "# Calculate coverage for filtered peaks\n",
    "exo_coverage_not_de_low = []\n",
    "for peak_file in exo_samples_nsc['Peaks']:\n",
    "    filtered_peaks = get_common_peaks(peak_file, DEA_NSC_not_de_low, f\"{root_dir}/DATA/genes.bed\")\n",
    "    coverage = calculate_peak_cpg_coverage(filtered_peaks, cpg_file,)\n",
    "    exo_coverage_not_de_low.extend(coverage)\n",
    "    subprocess.run(\"rm temp_filtered_peaks.bed\", shell=True)"
   ]
  },
  {
   "cell_type": "code",
   "execution_count": 195,
   "metadata": {},
   "outputs": [],
   "source": [
    "%%capture\n",
    "# Calculate coverage for filtered peaks\n",
    "endo_coverage_not_de_high = []\n",
    "for peak_file in endo_samples_nsc['Peaks']:\n",
    "    filtered_peaks = get_common_peaks(peak_file, DEA_NSC_not_de_high, f\"{root_dir}/DATA/genes.bed\")\n",
    "    coverage = calculate_peak_cpg_coverage(filtered_peaks, cpg_file,)\n",
    "    endo_coverage_not_de_high.extend(coverage)\n",
    "    subprocess.run(\"rm temp_filtered_peaks.bed\", shell=True)\n",
    "\n",
    "# Calculate coverage for filtered peaks\n",
    "endo_coverage_not_de_medium = []\n",
    "for peak_file in endo_samples_nsc['Peaks']:\n",
    "    filtered_peaks = get_common_peaks(peak_file, DEA_NSC_not_de_medium, f\"{root_dir}/DATA/genes.bed\")\n",
    "    coverage = calculate_peak_cpg_coverage(filtered_peaks, cpg_file,)\n",
    "    endo_coverage_not_de_medium.extend(coverage)\n",
    "    subprocess.run(\"rm temp_filtered_peaks.bed\", shell=True)\n",
    "\n",
    "# Calculate coverage for filtered peaks\n",
    "endo_coverage_not_de_low = []\n",
    "for peak_file in endo_samples_nsc['Peaks']:\n",
    "    filtered_peaks = get_common_peaks(peak_file, DEA_NSC_not_de_low, f\"{root_dir}/DATA/genes.bed\")\n",
    "    coverage = calculate_peak_cpg_coverage(filtered_peaks, cpg_file,)\n",
    "    endo_coverage_not_de_low.extend(coverage)\n",
    "    subprocess.run(\"rm temp_filtered_peaks.bed\", shell=True)\n"
   ]
  },
  {
   "cell_type": "code",
   "execution_count": 196,
   "metadata": {},
   "outputs": [],
   "source": [
    "# Exogenous\n",
    "if len(exo_coverage_not_de_high) > 0 and len(exo_coverage_not_de_medium) > 0 and len(exo_coverage_not_de_low) > 0:\n",
    "    fig = plot_coverage_histograms_expression(exo_coverage_not_de_high, exo_coverage_not_de_medium, exo_coverage_not_de_low, min_coverage=0, p_t = 80, n_bins=15)\n",
    "    plt.show()\n"
   ]
  },
  {
   "cell_type": "code",
   "execution_count": 197,
   "metadata": {},
   "outputs": [],
   "source": [
    "# Endogenous\n",
    "if len(endo_coverage_not_de_high) > 0 and len(endo_coverage_not_de_medium) > 0 and len(endo_coverage_not_de_low) > 0:\n",
    "    fig = plot_coverage_histograms_expression(endo_coverage_not_de_high, endo_coverage_not_de_medium, endo_coverage_not_de_low, min_coverage=0, p_t = 80, n_bins=15)\n",
    "    plt.show()\n"
   ]
  },
  {
   "cell_type": "markdown",
   "metadata": {},
   "source": [
    "# Plot peaks signals"
   ]
  },
  {
   "cell_type": "code",
   "execution_count": 198,
   "metadata": {},
   "outputs": [],
   "source": [
    "import gzip\n",
    "import numpy as np\n",
    "\n",
    "def plot_peak_signals(peak_file, bigwig_files, window_size=1000, num_peaks=5):\n",
    "    \"\"\"\n",
    "    Plot signal profiles for selected peaks across multiple bigWig files\n",
    "    \"\"\"\n",
    "    import gzip  # Add this import at the top\n",
    "    \n",
    "    # Select random peaks\n",
    "    cmd = f\"shuf -n {num_peaks} {peak_file} > temp_random_peaks.bed\"\n",
    "    subprocess.run(cmd, shell=True)\n",
    "    \n",
    "    # Center peaks and extend by window_size\n",
    "    half_window = window_size // 2\n",
    "    signals = {}\n",
    "    \n",
    "    for bw_file in bigwig_files:\n",
    "        # Use deepTools computeMatrix to get signal values\n",
    "        matrix_file = \"temp_matrix.gz\"\n",
    "        cmd = (f\"computeMatrix reference-point\"\n",
    "               f\" --referencePoint center\"\n",
    "               f\" -b {half_window} -a {half_window}\"\n",
    "               f\" -R temp_random_peaks.bed\"\n",
    "               f\" -S {bw_file}\"\n",
    "               f\" --skipZeros\"\n",
    "               f\" -o {matrix_file}\")\n",
    "        \n",
    "        # Run command and check for errors\n",
    "        result = subprocess.run(cmd, shell=True, capture_output=True, text=True)\n",
    "        if result.returncode != 0:\n",
    "            print(f\"Error running computeMatrix for {bw_file}:\")\n",
    "            print(result.stderr)\n",
    "            continue\n",
    "            \n",
    "        try:\n",
    "            # Read the gzipped matrix\n",
    "            data = []\n",
    "            with gzip.open(matrix_file, 'rt') as f:\n",
    "                for line in f:\n",
    "                    if not line.startswith(('@', '#')):\n",
    "                        values = line.strip().split('\\t')[6:]  # Skip region info columns\n",
    "                        data.append([float(x) for x in values])\n",
    "            \n",
    "            if data:  # Only store if we got some data\n",
    "                signals[os.path.basename(bw_file)] = np.array(data)\n",
    "            \n",
    "        except Exception as e:\n",
    "            print(f\"Error processing matrix file for {bw_file}:\")\n",
    "            print(str(e))\n",
    "            continue\n",
    "        finally:\n",
    "            # Clean up matrix file\n",
    "            if os.path.exists(matrix_file):\n",
    "                os.remove(matrix_file)\n",
    "    \n",
    "    if not signals:\n",
    "        print(\"No valid signal data was obtained.\")\n",
    "        return\n",
    "        \n",
    "    # Create figure\n",
    "    fig, axes = plt.subplots(num_peaks, 1, figsize=(10, 3*num_peaks))\n",
    "    if num_peaks == 1:\n",
    "        axes = [axes]\n",
    "    \n",
    "    # Create x-axis values (distance from center)\n",
    "    bins = signals[list(signals.keys())[0]].shape[1]\n",
    "    x = np.linspace(-half_window, half_window, bins)\n",
    "    \n",
    "    # Plot each peak\n",
    "    for i in range(num_peaks):\n",
    "        for bw_file, signal in signals.items():\n",
    "            if i < len(signal):  # Make sure we have enough peaks\n",
    "                axes[i].plot(x, signal[i], label=os.path.basename(bw_file))\n",
    "                \n",
    "        axes[i].axvline(x=0, color='gray', linestyle='--', alpha=0.5)\n",
    "        axes[i].set_xlabel('Distance from peak center (bp)')\n",
    "        axes[i].set_ylabel('Signal')\n",
    "        axes[i].legend()\n",
    "    \n",
    "    plt.tight_layout()\n",
    "    plt.show()\n",
    "    \n",
    "    # # Final cleanup\n",
    "    # if os.path.exists(\"temp_random_peaks.bed\"):\n",
    "    #     os.remove(\"temp_random_peaks.bed\")\n",
    "\n"
   ]
  },
  {
   "cell_type": "code",
   "execution_count": 204,
   "metadata": {},
   "outputs": [
    {
     "name": "stderr",
     "output_type": "stream",
     "text": [
      "2 input query terms found dup hits:\t[('Rmrp', 2), ('Slc2a4rg-ps', 2)]\n",
      "14 input query terms found no hit:\t['Atp5c1', 'Atp5g2', 'Atp5l', 'Atp5mpl', 'Atp5o', 'C77080', 'Cbwd1', 'Kirrel', 'Nars', 'Phb', 'Rars'\n"
     ]
    },
    {
     "name": "stdout",
     "output_type": "stream",
     "text": [
      "Converted 2217 genes to Ensembl IDs\n",
      "Filtered results/peaks/NeuV1_peaks.narrowPeak: kept 66834/530336 peaks (12.6%)\n"
     ]
    }
   ],
   "source": [
    "# Get peaks for genes with both promoter types\n",
    "filtered_peaks = get_common_peaks(exo_samples['Peaks'].iloc[0], common_genes_nsc, f\"{root_dir}/DATA/genes.bed\")\n",
    "\n",
    "# Save peaks to file - handle string output from get_common_peaks\n",
    "with open(f\"{root_dir}/results/filtered_peaks.bed\", 'w') as f:\n",
    "    f.write(filtered_peaks)\n",
    "\n",
    "# Load peaks back\n",
    "filtered_peaks = pd.read_csv(f\"{root_dir}/results/filtered_peaks.bed\", sep='\\t', names=['chrom', 'start', 'end', 'name', 'score', 'strand'])"
   ]
  },
  {
   "cell_type": "code",
   "execution_count": 205,
   "metadata": {},
   "outputs": [],
   "source": [
    "# Use the function\n",
    "bigwig_dir = f\"{root_dir}/results/bigwig\"\n",
    "bigwig_files = [\n",
    "    f\"{bigwig_dir}/Exogenous_Neuron.bw\",\n",
    "    f\"{bigwig_dir}/Endogenous_Neuron.bw\"\n",
    "]"
   ]
  },
  {
   "cell_type": "code",
   "execution_count": 207,
   "metadata": {},
   "outputs": [],
   "source": [
    "# Plot the signals\n",
    "plot_peak_signals(filtered_peaks, bigwig_files, window_size=2000, num_peaks=20)"
   ]
  },
  {
   "cell_type": "code",
   "execution_count": null,
   "metadata": {},
   "outputs": [],
   "source": []
  }
 ],
 "metadata": {
  "kernelspec": {
   "display_name": "Python (snakemake)",
   "language": "python",
   "name": "snakemake"
  },
  "language_info": {
   "codemirror_mode": {
    "name": "ipython",
    "version": 3
   },
   "file_extension": ".py",
   "mimetype": "text/x-python",
   "name": "python",
   "nbconvert_exporter": "python",
   "pygments_lexer": "ipython3",
   "version": "3.11.10"
  }
 },
 "nbformat": 4,
 "nbformat_minor": 2
}
