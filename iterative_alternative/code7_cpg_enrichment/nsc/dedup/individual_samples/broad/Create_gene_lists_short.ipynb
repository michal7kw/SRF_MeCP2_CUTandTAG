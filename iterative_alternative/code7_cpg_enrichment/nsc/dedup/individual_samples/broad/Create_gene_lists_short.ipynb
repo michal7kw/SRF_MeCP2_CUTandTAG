{
 "cells": [
  {
   "cell_type": "code",
   "execution_count": 1,
   "metadata": {},
   "outputs": [],
   "source": [
    "import pandas as pd\n",
    "import pybedtools\n",
    "import os"
   ]
  },
  {
   "cell_type": "markdown",
   "metadata": {},
   "source": [
    "# Not integrated"
   ]
  },
  {
   "cell_type": "markdown",
   "metadata": {},
   "source": [
    "## Align2"
   ]
  },
  {
   "cell_type": "markdown",
   "metadata": {},
   "source": [
    "### analyze_mecp2_cpg_enrichment_align2_005"
   ]
  },
  {
   "cell_type": "code",
   "execution_count": 2,
   "metadata": {},
   "outputs": [
    {
     "name": "stdout",
     "output_type": "stream",
     "text": [
      "analyze_mecp2_cpg_enrichment:\n",
      "Total number of peaks: 13713\n",
      "Saved both peaks (9361 rows) to mecp2_cpg_enrichment_parallel_both.csv\n",
      "Saved exo_only peaks (3500 rows) to mecp2_cpg_enrichment_parallel_exo_only.csv\n",
      "Saved endo_only peaks (852 rows) to mecp2_cpg_enrichment_parallel_endo_only.csv\n"
     ]
    }
   ],
   "source": [
    "os.chdir('/beegfs/scratch/ric.broccoli/kubacki.michal/SRF_MeCP2_CUTandTAG/iterative_alternative/analyze_mecp2_cpg_enrichment_align2_005/NSC/mecp2_cpg_enrichment_parallel')\n",
    "\n",
    "# Read the CSV file\n",
    "df = pd.read_csv('mecp2_cpg_enrichment_parallel.csv')\n",
    "\n",
    "# Create three dataframes based on binding_type\n",
    "binding_types_df = {\n",
    "    'both': df[df['binding_type'] == 'both'],\n",
    "    'exo_only': df[df['binding_type'] == 'exo_only'],\n",
    "    'endo_only': df[df['binding_type'] == 'endo_only']\n",
    "}\n",
    "\n",
    "print(\"analyze_mecp2_cpg_enrichment:\")\n",
    "print(f\"Total number of peaks: {len(df)}\")\n",
    "# Save each dataframe\n",
    "for binding_type, df_subset in binding_types_df.items():\n",
    "    output_file = f\"mecp2_cpg_enrichment_parallel_{binding_type}.csv\"\n",
    "    df_subset.to_csv(output_file, index=False)\n",
    "    print(f\"Saved {binding_type} peaks ({len(df_subset)} rows) to {output_file}\")"
   ]
  },
  {
   "cell_type": "markdown",
   "metadata": {},
   "source": [
    "### analyze_mecp2_cpg_enrichment_align2_005_consistent_peaks"
   ]
  },
  {
   "cell_type": "code",
   "execution_count": 4,
   "metadata": {},
   "outputs": [
    {
     "name": "stdout",
     "output_type": "stream",
     "text": [
      "analyze_mecp2_cpg_enrichment_only_consistent_peaks\n",
      "Total number of peaks: 4552\n",
      "Saved both peaks (2603 rows) to mecp2_cpg_enrichment_parallel_both.csv\n",
      "Saved exo_only peaks (816 rows) to mecp2_cpg_enrichment_parallel_exo_only.csv\n",
      "Saved endo_only peaks (1133 rows) to mecp2_cpg_enrichment_parallel_endo_only.csv\n"
     ]
    }
   ],
   "source": [
    "os.chdir('/beegfs/scratch/ric.broccoli/kubacki.michal/SRF_MeCP2_CUTandTAG/iterative_alternative/analyze_mecp2_cpg_enrichment_align2_005_consistent_peaks/NSC/mecp2_cpg_enrichment_parallel')\n",
    "\n",
    "# Read the CSV file\n",
    "df = pd.read_csv('mecp2_cpg_enrichment_parallel.csv')\n",
    "\n",
    "# Create three dataframes based on binding_type\n",
    "binding_types_df = {\n",
    "    'both': df[df['binding_type'] == 'both'],\n",
    "    'exo_only': df[df['binding_type'] == 'exo_only'],\n",
    "    'endo_only': df[df['binding_type'] == 'endo_only']\n",
    "}\n",
    "\n",
    "print(\"analyze_mecp2_cpg_enrichment_only_consistent_peaks\")\n",
    "print(f\"Total number of peaks: {len(df)}\")\n",
    "# Save each dataframe\n",
    "for binding_type, df_subset in binding_types_df.items():\n",
    "    output_file = f\"mecp2_cpg_enrichment_parallel_{binding_type}.csv\"\n",
    "    df_subset.to_csv(output_file, index=False)\n",
    "    print(f\"Saved {binding_type} peaks ({len(df_subset)} rows) to {output_file}\")"
   ]
  },
  {
   "cell_type": "markdown",
   "metadata": {},
   "source": [
    "## Align1"
   ]
  },
  {
   "cell_type": "markdown",
   "metadata": {},
   "source": [
    "### analyze_mecp2_cpg_enrichment_align1_005"
   ]
  },
  {
   "cell_type": "code",
   "execution_count": 5,
   "metadata": {},
   "outputs": [
    {
     "name": "stdout",
     "output_type": "stream",
     "text": [
      "analyze_mecp2_cpg_enrichment:\n",
      "Total number of peaks: 14649\n",
      "Saved both peaks (12425 rows) to mecp2_cpg_enrichment_parallel_both.csv\n",
      "Saved exo_only peaks (1123 rows) to mecp2_cpg_enrichment_parallel_exo_only.csv\n",
      "Saved endo_only peaks (1101 rows) to mecp2_cpg_enrichment_parallel_endo_only.csv\n"
     ]
    }
   ],
   "source": [
    "os.chdir('/beegfs/scratch/ric.broccoli/kubacki.michal/SRF_MeCP2_CUTandTAG/iterative_alternative/analyze_mecp2_cpg_enrichment_align1_005/NSC/mecp2_cpg_enrichment_parallel')\n",
    "\n",
    "# Read the CSV file\n",
    "df = pd.read_csv('mecp2_cpg_enrichment_parallel.csv')\n",
    "\n",
    "# Create three dataframes based on binding_type\n",
    "binding_types_df = {\n",
    "    'both': df[df['binding_type'] == 'both'],\n",
    "    'exo_only': df[df['binding_type'] == 'exo_only'],\n",
    "    'endo_only': df[df['binding_type'] == 'endo_only']\n",
    "}\n",
    "\n",
    "print(\"analyze_mecp2_cpg_enrichment:\")\n",
    "print(f\"Total number of peaks: {len(df)}\")\n",
    "# Save each dataframe\n",
    "for binding_type, df_subset in binding_types_df.items():\n",
    "    output_file = f\"mecp2_cpg_enrichment_parallel_{binding_type}.csv\"\n",
    "    df_subset.to_csv(output_file, index=False)\n",
    "    print(f\"Saved {binding_type} peaks ({len(df_subset)} rows) to {output_file}\")"
   ]
  },
  {
   "cell_type": "markdown",
   "metadata": {},
   "source": [
    "### analyze_mecp2_cpg_enrichment_align1_005_consistent_peaks"
   ]
  },
  {
   "cell_type": "code",
   "execution_count": 6,
   "metadata": {},
   "outputs": [
    {
     "name": "stdout",
     "output_type": "stream",
     "text": [
      "analyze_mecp2_cpg_enrichment_only_consistent_peaks\n",
      "Total number of peaks: 14467\n",
      "Saved both peaks (12337 rows) to mecp2_cpg_enrichment_parallel_both.csv\n",
      "Saved exo_only peaks (1343 rows) to mecp2_cpg_enrichment_parallel_exo_only.csv\n",
      "Saved endo_only peaks (787 rows) to mecp2_cpg_enrichment_parallel_endo_only.csv\n"
     ]
    }
   ],
   "source": [
    "os.chdir('/beegfs/scratch/ric.broccoli/kubacki.michal/SRF_MeCP2_CUTandTAG/iterative_alternative/analyze_mecp2_cpg_enrichment_align1_005_consistent_peaks/NSC/mecp2_cpg_enrichment_parallel')\n",
    "\n",
    "# Read the CSV file\n",
    "df = pd.read_csv('mecp2_cpg_enrichment_parallel.csv')\n",
    "\n",
    "# Create three dataframes based on binding_type\n",
    "binding_types_df = {\n",
    "    'both': df[df['binding_type'] == 'both'],\n",
    "    'exo_only': df[df['binding_type'] == 'exo_only'],\n",
    "    'endo_only': df[df['binding_type'] == 'endo_only']\n",
    "}\n",
    "\n",
    "print(\"analyze_mecp2_cpg_enrichment_only_consistent_peaks\")\n",
    "print(f\"Total number of peaks: {len(df)}\")\n",
    "# Save each dataframe\n",
    "for binding_type, df_subset in binding_types_df.items():\n",
    "    output_file = f\"mecp2_cpg_enrichment_parallel_{binding_type}.csv\"\n",
    "    df_subset.to_csv(output_file, index=False)\n",
    "    print(f\"Saved {binding_type} peaks ({len(df_subset)} rows) to {output_file}\")"
   ]
  },
  {
   "cell_type": "markdown",
   "metadata": {},
   "source": [
    "# Integrated"
   ]
  },
  {
   "cell_type": "code",
   "execution_count": 8,
   "metadata": {},
   "outputs": [],
   "source": [
    "os.chdir('/beegfs/scratch/ric.broccoli/kubacki.michal/SRF_MeCP2_CUTandTAG/iterative_alternative/analyze_mecp2_cpg_enrichment_align2_005_consistent_peaks/NSC/integrated')\n",
    "\n",
    "\n",
    "# Read the CSV file\n",
    "df = pd.read_csv('mecp2_enriched_genes.csv')\n",
    "\n",
    "# Create three dataframes based on binding_type\n",
    "binding_types_df = {\n",
    "    'both': df[df['binding_type'] == 'both'],\n",
    "    'exo_only': df[df['binding_type'] == 'exo_only'],\n",
    "    'endo_only': df[df['binding_type'] == 'endo_only']\n",
    "}\n",
    "\n",
    "# Save each dataframe\n",
    "for binding_type, df_subset in binding_types_df.items():\n",
    "    output_file = f\"mecp2_enriched_genes_{binding_type}.csv\"\n",
    "    df_subset.to_csv(output_file, index=False)\n",
    "    print(f\"Saved {binding_type} peaks ({len(df_subset)} rows) to {output_file}\")"
   ]
  },
  {
   "cell_type": "code",
   "execution_count": null,
   "metadata": {},
   "outputs": [],
   "source": []
  }
 ],
 "metadata": {
  "kernelspec": {
   "display_name": "Python (snakemake)",
   "language": "python",
   "name": "snakemake"
  },
  "language_info": {
   "codemirror_mode": {
    "name": "ipython",
    "version": 3
   },
   "file_extension": ".py",
   "mimetype": "text/x-python",
   "name": "python",
   "nbconvert_exporter": "python",
   "pygments_lexer": "ipython3",
   "version": "3.11.11"
  }
 },
 "nbformat": 4,
 "nbformat_minor": 2
}
