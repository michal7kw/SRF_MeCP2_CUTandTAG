{
 "cells": [
  {
   "cell_type": "code",
   "execution_count": 52,
   "metadata": {},
   "outputs": [],
   "source": [
    "import pandas as pd\n",
    "import os\n",
    "\n",
    "wd_dir = '/beegfs/scratch/ric.broccoli/kubacki.michal/SRF_CUTandTAG'\n",
    "os.chdir(wd_dir)\n",
    "\n",
    "# Get the current working directory\n",
    "current_dir = os.getcwd()"
   ]
  },
  {
   "cell_type": "code",
   "execution_count": 53,
   "metadata": {},
   "outputs": [],
   "source": [
    "def clean_intergenic_records(input_file, output_file):\n",
    "    \"\"\"\n",
    "    Remove records labeled as 'Intergenic' in the gene_symbol column,\n",
    "    rename columns, and save the cleaned data to a new CSV file.\n",
    "    \n",
    "    Parameters:\n",
    "    input_file (str): Path to input CSV file\n",
    "    output_file (str): Path to output CSV file\n",
    "    \"\"\"\n",
    "    # Read the CSV file\n",
    "    df = pd.read_csv(input_file)\n",
    "    \n",
    "    # Remove rows where gene_symbol is 'Intergenic'\n",
    "    df_cleaned = df[df['gene_symbol'] != 'Intergenic']\n",
    "    \n",
    "    # Rename columns\n",
    "    df_cleaned = df_cleaned.rename(columns={\n",
    "        'gene': 'location',\n",
    "        'gene_symbol': 'gene'\n",
    "    })\n",
    "    \n",
    "    # Save the cleaned dataframe to a new CSV file\n",
    "    df_cleaned.to_csv(output_file, index=False)\n",
    "    \n",
    "    # Print summary of removal\n",
    "    removed_count = len(df) - len(df_cleaned)\n",
    "    print(f\"Processed {input_file}:\")\n",
    "    print(f\"- Original records: {len(df)}\")\n",
    "    print(f\"- Records removed: {removed_count}\")\n",
    "    print(f\"- Records remaining: {len(df_cleaned)}\")\n",
    "    print(f\"- Cleaned file saved as: {output_file}\\n\")"
   ]
  },
  {
   "cell_type": "code",
   "execution_count": 54,
   "metadata": {},
   "outputs": [
    {
     "name": "stdout",
     "output_type": "stream",
     "text": [
      "Processed custom_pipeline/results/Neuron_peak_analysis_annotated.csv:\n",
      "- Original records: 94013\n",
      "- Records removed: 35512\n",
      "- Records remaining: 58501\n",
      "- Cleaned file saved as: custom_pipeline/results/Neuron_peak_analysis_annotated_clean.csv\n",
      "\n",
      "Processed custom_pipeline/results/NSC_peak_analysis_annotated.csv:\n",
      "- Original records: 25357\n",
      "- Records removed: 7666\n",
      "- Records remaining: 17691\n",
      "- Cleaned file saved as: custom_pipeline/results/NSC_peak_analysis_annotated_clean.csv\n",
      "\n"
     ]
    }
   ],
   "source": [
    "sufix = '_clean'\n",
    "\n",
    "# Process both files\n",
    "files_to_process = [\n",
    "    ('custom_pipeline/results/Neuron_peak_analysis_annotated.csv', f'custom_pipeline/results/Neuron_peak_analysis_annotated{sufix}.csv'),\n",
    "    ('custom_pipeline/results/NSC_peak_analysis_annotated.csv', f'custom_pipeline/results/NSC_peak_analysis_annotated{sufix}.csv')\n",
    "]\n",
    "\n",
    "for input_file, output_file in files_to_process:\n",
    "    try:\n",
    "        clean_intergenic_records(input_file, output_file)\n",
    "    except Exception as e:\n",
    "        print(f\"Error processing {input_file}: {str(e)}\")"
   ]
  },
  {
   "cell_type": "code",
   "execution_count": null,
   "metadata": {},
   "outputs": [],
   "source": []
  }
 ],
 "metadata": {
  "kernelspec": {
   "display_name": "jupyter",
   "language": "python",
   "name": "jupyter"
  },
  "language_info": {
   "codemirror_mode": {
    "name": "ipython",
    "version": 3
   },
   "file_extension": ".py",
   "mimetype": "text/x-python",
   "name": "python",
   "nbconvert_exporter": "python",
   "pygments_lexer": "ipython3",
   "version": "3.11.10"
  }
 },
 "nbformat": 4,
 "nbformat_minor": 2
}
