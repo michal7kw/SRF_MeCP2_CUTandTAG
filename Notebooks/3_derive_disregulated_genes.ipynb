{
 "cells": [
  {
   "cell_type": "code",
   "execution_count": 55,
   "metadata": {},
   "outputs": [],
   "source": [
    "import pandas as pd\n",
    "import numpy as np\n",
    "import os\n",
    "\n",
    "wd_dir = '/beegfs/scratch/ric.broccoli/kubacki.michal/SRF_CUTandTAG'\n",
    "os.chdir(wd_dir)"
   ]
  },
  {
   "cell_type": "code",
   "execution_count": 56,
   "metadata": {},
   "outputs": [],
   "source": [
    "def categorize_deseq_genes(file_path, log2fc_threshold=0, padj_threshold=0.05):\n",
    "    \"\"\"\n",
    "    Categorize genes from DESeq2 results into up-regulated, down-regulated, and not dysregulated lists.\n",
    "    \n",
    "    Parameters:\n",
    "    -----------\n",
    "    file_path : str\n",
    "        Path to the CSV file containing DESeq2 results\n",
    "    log2fc_threshold : float\n",
    "        Absolute log2 fold change threshold (default: 0)\n",
    "    padj_threshold : float\n",
    "        Adjusted p-value threshold (default: 0.05)\n",
    "        \n",
    "    Returns:\n",
    "    --------\n",
    "    tuple\n",
    "        Lists of upregulated, downregulated, and not dysregulated gene names\n",
    "    \"\"\"\n",
    "    # Read the CSV file\n",
    "    df = pd.read_csv(file_path)\n",
    "    \n",
    "    # Create masks for different categories\n",
    "    significant = df['padj'] < padj_threshold\n",
    "    upregulated = (df['log2FoldChange'] > log2fc_threshold) & significant\n",
    "    downregulated = (df['log2FoldChange'] < -log2fc_threshold) & significant\n",
    "    not_dysregulated = ~significant\n",
    "    \n",
    "    # Create lists of gene names for each category\n",
    "    up_genes = df.loc[upregulated, 'gene'].tolist()\n",
    "    down_genes = df.loc[downregulated, 'gene'].tolist()\n",
    "    unchanged_genes = df.loc[not_dysregulated, 'gene'].tolist()\n",
    "    \n",
    "    # Print summary statistics\n",
    "    print(f\"Total genes analyzed: {len(df)}\")\n",
    "    print(f\"Upregulated genes: {len(up_genes)}\")\n",
    "    print(f\"Downregulated genes: {len(down_genes)}\")\n",
    "    print(f\"Not dysregulated genes: {len(unchanged_genes)}\")\n",
    "    \n",
    "    return up_genes, down_genes, unchanged_genes"
   ]
  },
  {
   "cell_type": "code",
   "execution_count": 57,
   "metadata": {},
   "outputs": [
    {
     "name": "stdout",
     "output_type": "stream",
     "text": [
      "Total genes analyzed: 12945\n",
      "Upregulated genes: 234\n",
      "Downregulated genes: 317\n",
      "Not dysregulated genes: 10830\n",
      "\n",
      "First few genes from each category:\n",
      "Upregulated: ['Cox6a2', 'Gm6142', 'Mapkapk5', 'Gucy2g', 'Gm20900'] 234\n",
      "Downregulated: ['Etohd2', 'Ankrd63', 'Vwc2l', 'Six3', 'Gpc6'] 317\n",
      "Not dysregulated: ['H2afy2', 'Lurap1l', 'Tcea1', 'Igdcc4', 'Kdm6a'] 10830\n",
      "\n",
      "Gene lists have been saved to CSV files in custom_pipeline/DATA/\n"
     ]
    }
   ],
   "source": [
    "# You can adjust these thresholds as needed\n",
    "LOG2FC_THRESHOLD = 0.5\n",
    "PADJ_THRESHOLD = 0.05\n",
    "\n",
    "file_path = \"custom_pipeline/DATA/DEA_NEU.csv\" \n",
    "\n",
    "# Get the categorized gene lists\n",
    "upregulated, downregulated, not_dysregulated = categorize_deseq_genes(\n",
    "    file_path,\n",
    "    log2fc_threshold=LOG2FC_THRESHOLD,\n",
    "    padj_threshold=PADJ_THRESHOLD\n",
    ")\n",
    "\n",
    "# Example of how to work with the results\n",
    "print(\"\\nFirst few genes from each category:\")\n",
    "print(\"Upregulated:\", upregulated[:5], len(upregulated))\n",
    "print(\"Downregulated:\", downregulated[:5], len(downregulated))\n",
    "print(\"Not dysregulated:\", not_dysregulated[:5], len(not_dysregulated))\n",
    "\n",
    "# Save gene lists to CSV files\n",
    "pd.DataFrame(upregulated, columns=['gene']).to_csv('custom_pipeline/DATA/neuron_upregulated_genes.csv', index=False)\n",
    "pd.DataFrame(downregulated, columns=['gene']).to_csv('custom_pipeline/DATA/neuron_downregulated_genes.csv', index=False)\n",
    "pd.DataFrame(not_dysregulated, columns=['gene']).to_csv('custom_pipeline/DATA/neuron_not_dysregulated_genes.csv', index=False)\n",
    "\n",
    "print(\"\\nGene lists have been saved to CSV files in custom_pipeline/DATA/\")"
   ]
  },
  {
   "cell_type": "code",
   "execution_count": 58,
   "metadata": {},
   "outputs": [
    {
     "name": "stdout",
     "output_type": "stream",
     "text": [
      "Total genes analyzed: 14245\n",
      "Upregulated genes: 2743\n",
      "Downregulated genes: 2587\n",
      "Not dysregulated genes: 5337\n",
      "\n",
      "First few genes from each category:\n",
      "Upregulated: ['Gm36501', 'Gm17494', '4921511C10Rik', 'Gm9316', 'Gm48606'] 2743\n",
      "Downregulated: ['Wipf3', 'Paqr9', 'Srpk3', 'Bbs5', 'Rsf1os2'] 2587\n",
      "Not dysregulated: ['Mir5125', 'Trim68', 'Frrs1', 'Notch4', 'Ano6'] 5337\n",
      "\n",
      "Gene lists have been saved to CSV files in custom_pipeline/DATA/\n"
     ]
    }
   ],
   "source": [
    "# You can adjust these thresholds as needed\n",
    "LOG2FC_THRESHOLD = 0.5\n",
    "PADJ_THRESHOLD = 0.05\n",
    "\n",
    "file_path = \"custom_pipeline/DATA/DEA_NSC.csv\" \n",
    "\n",
    "# Get the categorized gene lists\n",
    "upregulated, downregulated, not_dysregulated = categorize_deseq_genes(\n",
    "    file_path,\n",
    "    log2fc_threshold=LOG2FC_THRESHOLD,\n",
    "    padj_threshold=PADJ_THRESHOLD\n",
    ")\n",
    "\n",
    "# Example of how to work with the results\n",
    "print(\"\\nFirst few genes from each category:\")\n",
    "print(\"Upregulated:\", upregulated[:5], len(upregulated))\n",
    "print(\"Downregulated:\", downregulated[:5], len(downregulated))\n",
    "print(\"Not dysregulated:\", not_dysregulated[:5], len(not_dysregulated))\n",
    "\n",
    "# Save gene lists to CSV files\n",
    "pd.DataFrame(upregulated, columns=['gene']).to_csv('custom_pipeline/DATA/nsc_upregulated_genes.csv', index=False)\n",
    "pd.DataFrame(downregulated, columns=['gene']).to_csv('custom_pipeline/DATA/nsc_downregulated_genes.csv', index=False)\n",
    "pd.DataFrame(not_dysregulated, columns=['gene']).to_csv('custom_pipeline/DATA/nsc_not_dysregulated_genes.csv', index=False)\n",
    "\n",
    "print(\"\\nGene lists have been saved to CSV files in custom_pipeline/DATA/\")"
   ]
  },
  {
   "cell_type": "code",
   "execution_count": null,
   "metadata": {},
   "outputs": [],
   "source": []
  }
 ],
 "metadata": {
  "kernelspec": {
   "display_name": "jupyter",
   "language": "python",
   "name": "jupyter"
  }
 },
 "nbformat": 4,
 "nbformat_minor": 2
}
