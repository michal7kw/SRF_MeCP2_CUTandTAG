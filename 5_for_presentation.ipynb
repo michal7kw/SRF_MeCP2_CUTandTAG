{
 "cells": [
  {
   "cell_type": "markdown",
   "metadata": {},
   "source": [
    "# Environment"
   ]
  },
  {
   "cell_type": "code",
   "execution_count": 1,
   "metadata": {},
   "outputs": [],
   "source": [
    "# Read the DEA results\n",
    "import pandas as pd\n",
    "import numpy as np"
   ]
  },
  {
   "cell_type": "markdown",
   "metadata": {},
   "source": [
    "### Prepare an Excel file with all deregulated genes, including their Fold Change, p-Value, and Reads Expression. (Parameters to exclude: reads < 50 and Fold Change < 0.5)."
   ]
  },
  {
   "cell_type": "code",
   "execution_count": 7,
   "metadata": {},
   "outputs": [
    {
     "name": "stdout",
     "output_type": "stream",
     "text": [
      "Number of genes passing filters: 277\n",
      "Results saved to deregulated_genes_NEU.xlsx\n"
     ]
    },
    {
     "name": "stderr",
     "output_type": "stream",
     "text": [
      "/tmp/ipykernel_117577/2998645860.py:15: SettingWithCopyWarning: \n",
      "A value is trying to be set on a copy of a slice from a DataFrame.\n",
      "Try using .loc[row_indexer,col_indexer] = value instead\n",
      "\n",
      "See the caveats in the documentation: https://pandas.pydata.org/pandas-docs/stable/user_guide/indexing.html#returning-a-view-versus-a-copy\n",
      "  filtered_df['abs_log2FC'] = abs(filtered_df['log2FoldChange'])\n"
     ]
    },
    {
     "data": {
      "text/html": [
       "<div>\n",
       "<style scoped>\n",
       "    .dataframe tbody tr th:only-of-type {\n",
       "        vertical-align: middle;\n",
       "    }\n",
       "\n",
       "    .dataframe tbody tr th {\n",
       "        vertical-align: top;\n",
       "    }\n",
       "\n",
       "    .dataframe thead th {\n",
       "        text-align: right;\n",
       "    }\n",
       "</style>\n",
       "<table border=\"1\" class=\"dataframe\">\n",
       "  <thead>\n",
       "    <tr style=\"text-align: right;\">\n",
       "      <th></th>\n",
       "      <th>gene</th>\n",
       "      <th>baseMean</th>\n",
       "      <th>log2FoldChange</th>\n",
       "      <th>lfcSE</th>\n",
       "      <th>stat</th>\n",
       "      <th>pvalue</th>\n",
       "      <th>padj</th>\n",
       "    </tr>\n",
       "  </thead>\n",
       "  <tbody>\n",
       "    <tr>\n",
       "      <th>10777</th>\n",
       "      <td>Mrc1</td>\n",
       "      <td>62.810688</td>\n",
       "      <td>-2.212044</td>\n",
       "      <td>0.835467</td>\n",
       "      <td>-2.647672</td>\n",
       "      <td>0.008105</td>\n",
       "      <td>0.055136</td>\n",
       "    </tr>\n",
       "    <tr>\n",
       "      <th>10065</th>\n",
       "      <td>Stab1</td>\n",
       "      <td>390.918228</td>\n",
       "      <td>-2.174690</td>\n",
       "      <td>0.969861</td>\n",
       "      <td>-2.242270</td>\n",
       "      <td>0.024944</td>\n",
       "      <td>0.126481</td>\n",
       "    </tr>\n",
       "    <tr>\n",
       "      <th>9957</th>\n",
       "      <td>Cd5l</td>\n",
       "      <td>125.059724</td>\n",
       "      <td>-2.110901</td>\n",
       "      <td>0.962613</td>\n",
       "      <td>-2.192887</td>\n",
       "      <td>0.028316</td>\n",
       "      <td>0.138304</td>\n",
       "    </tr>\n",
       "    <tr>\n",
       "      <th>10119</th>\n",
       "      <td>Hk3</td>\n",
       "      <td>56.060637</td>\n",
       "      <td>-2.105650</td>\n",
       "      <td>0.927547</td>\n",
       "      <td>-2.270127</td>\n",
       "      <td>0.023200</td>\n",
       "      <td>0.119985</td>\n",
       "    </tr>\n",
       "    <tr>\n",
       "      <th>10459</th>\n",
       "      <td>Abcc3</td>\n",
       "      <td>59.076599</td>\n",
       "      <td>-1.950015</td>\n",
       "      <td>0.793889</td>\n",
       "      <td>-2.456283</td>\n",
       "      <td>0.014038</td>\n",
       "      <td>0.082795</td>\n",
       "    </tr>\n",
       "  </tbody>\n",
       "</table>\n",
       "</div>"
      ],
      "text/plain": [
       "        gene    baseMean  log2FoldChange     lfcSE      stat    pvalue  \\\n",
       "10777   Mrc1   62.810688       -2.212044  0.835467 -2.647672  0.008105   \n",
       "10065  Stab1  390.918228       -2.174690  0.969861 -2.242270  0.024944   \n",
       "9957    Cd5l  125.059724       -2.110901  0.962613 -2.192887  0.028316   \n",
       "10119    Hk3   56.060637       -2.105650  0.927547 -2.270127  0.023200   \n",
       "10459  Abcc3   59.076599       -1.950015  0.793889 -2.456283  0.014038   \n",
       "\n",
       "           padj  \n",
       "10777  0.055136  \n",
       "10065  0.126481  \n",
       "9957   0.138304  \n",
       "10119  0.119985  \n",
       "10459  0.082795  "
      ]
     },
     "execution_count": 7,
     "metadata": {},
     "output_type": "execute_result"
    }
   ],
   "source": [
    "# Read the DEA file\n",
    "dea_df = pd.read_csv('/beegfs/scratch/ric.broccoli/kubacki.michal/SRF_CUTandTAG/DATA/DEA_NEU.csv')\n",
    "\n",
    "# Filter based on criteria:\n",
    "# 1. Reads (baseMean) >= 50\n",
    "# 2. Absolute log2FoldChange >= 0.5\n",
    "# 3. padj > 0.05\n",
    "filtered_df = dea_df[\n",
    "    (dea_df['baseMean'] >= 50) & \n",
    "    (abs(dea_df['log2FoldChange']) >= 0.5) &\n",
    "    (dea_df['padj'] > 0.05)\n",
    "]\n",
    "\n",
    "# Sort by absolute fold change\n",
    "filtered_df['abs_log2FC'] = abs(filtered_df['log2FoldChange'])\n",
    "filtered_df = filtered_df.sort_values('abs_log2FC', ascending=False)\n",
    "\n",
    "# Drop the helper column\n",
    "filtered_df = filtered_df.drop('abs_log2FC', axis=1)\n",
    "\n",
    "# Save to Excel\n",
    "output_file = 'deregulated_genes_NEU.xlsx'\n",
    "filtered_df.to_excel(output_file, index=False)\n",
    "\n",
    "print(f\"Number of genes passing filters: {len(filtered_df)}\")\n",
    "print(f\"Results saved to {output_file}\")\n",
    "\n",
    "# Display first few rows\n",
    "filtered_df.head()\n"
   ]
  },
  {
   "cell_type": "code",
   "execution_count": 8,
   "metadata": {},
   "outputs": [
    {
     "name": "stdout",
     "output_type": "stream",
     "text": [
      "Number of genes passing filters: 190\n",
      "Results saved to deregulated_genes_NSC.xlsx\n"
     ]
    },
    {
     "name": "stderr",
     "output_type": "stream",
     "text": [
      "/tmp/ipykernel_117577/3594197199.py:15: SettingWithCopyWarning: \n",
      "A value is trying to be set on a copy of a slice from a DataFrame.\n",
      "Try using .loc[row_indexer,col_indexer] = value instead\n",
      "\n",
      "See the caveats in the documentation: https://pandas.pydata.org/pandas-docs/stable/user_guide/indexing.html#returning-a-view-versus-a-copy\n",
      "  filtered_df['abs_log2FC'] = abs(filtered_df['log2FoldChange'])\n"
     ]
    },
    {
     "data": {
      "text/html": [
       "<div>\n",
       "<style scoped>\n",
       "    .dataframe tbody tr th:only-of-type {\n",
       "        vertical-align: middle;\n",
       "    }\n",
       "\n",
       "    .dataframe tbody tr th {\n",
       "        vertical-align: top;\n",
       "    }\n",
       "\n",
       "    .dataframe thead th {\n",
       "        text-align: right;\n",
       "    }\n",
       "</style>\n",
       "<table border=\"1\" class=\"dataframe\">\n",
       "  <thead>\n",
       "    <tr style=\"text-align: right;\">\n",
       "      <th></th>\n",
       "      <th>gene</th>\n",
       "      <th>baseMean</th>\n",
       "      <th>log2FoldChange</th>\n",
       "      <th>lfcSE</th>\n",
       "      <th>stat</th>\n",
       "      <th>pvalue</th>\n",
       "      <th>padj</th>\n",
       "    </tr>\n",
       "  </thead>\n",
       "  <tbody>\n",
       "    <tr>\n",
       "      <th>5011</th>\n",
       "      <td>mt-Rnr1</td>\n",
       "      <td>128735.621400</td>\n",
       "      <td>-2.205665</td>\n",
       "      <td>1.017778</td>\n",
       "      <td>-2.167139</td>\n",
       "      <td>0.030224</td>\n",
       "      <td>0.073425</td>\n",
       "    </tr>\n",
       "    <tr>\n",
       "      <th>3409</th>\n",
       "      <td>Rny3</td>\n",
       "      <td>231.937597</td>\n",
       "      <td>-0.884791</td>\n",
       "      <td>0.627751</td>\n",
       "      <td>-1.409463</td>\n",
       "      <td>0.158698</td>\n",
       "      <td>0.291576</td>\n",
       "    </tr>\n",
       "    <tr>\n",
       "      <th>5280</th>\n",
       "      <td>Scarna6</td>\n",
       "      <td>52.264515</td>\n",
       "      <td>-0.861636</td>\n",
       "      <td>0.373226</td>\n",
       "      <td>-2.308620</td>\n",
       "      <td>0.020965</td>\n",
       "      <td>0.053399</td>\n",
       "    </tr>\n",
       "    <tr>\n",
       "      <th>5160</th>\n",
       "      <td>5730414N17Rik</td>\n",
       "      <td>50.717258</td>\n",
       "      <td>0.768789</td>\n",
       "      <td>0.341993</td>\n",
       "      <td>2.247971</td>\n",
       "      <td>0.024578</td>\n",
       "      <td>0.061357</td>\n",
       "    </tr>\n",
       "    <tr>\n",
       "      <th>1684</th>\n",
       "      <td>Gm42418</td>\n",
       "      <td>106.773519</td>\n",
       "      <td>-0.761254</td>\n",
       "      <td>1.107337</td>\n",
       "      <td>-0.687464</td>\n",
       "      <td>0.491791</td>\n",
       "      <td>0.660379</td>\n",
       "    </tr>\n",
       "  </tbody>\n",
       "</table>\n",
       "</div>"
      ],
      "text/plain": [
       "               gene       baseMean  log2FoldChange     lfcSE      stat  \\\n",
       "5011        mt-Rnr1  128735.621400       -2.205665  1.017778 -2.167139   \n",
       "3409           Rny3     231.937597       -0.884791  0.627751 -1.409463   \n",
       "5280        Scarna6      52.264515       -0.861636  0.373226 -2.308620   \n",
       "5160  5730414N17Rik      50.717258        0.768789  0.341993  2.247971   \n",
       "1684        Gm42418     106.773519       -0.761254  1.107337 -0.687464   \n",
       "\n",
       "        pvalue      padj  \n",
       "5011  0.030224  0.073425  \n",
       "3409  0.158698  0.291576  \n",
       "5280  0.020965  0.053399  \n",
       "5160  0.024578  0.061357  \n",
       "1684  0.491791  0.660379  "
      ]
     },
     "execution_count": 8,
     "metadata": {},
     "output_type": "execute_result"
    }
   ],
   "source": [
    "# Read the DEA file\n",
    "dea_df = pd.read_csv('/beegfs/scratch/ric.broccoli/kubacki.michal/SRF_CUTandTAG/DATA/DEA_NSC.csv')\n",
    "\n",
    "# Filter based on criteria:\n",
    "# 1. Reads (baseMean) >= 50\n",
    "# 2. Absolute log2FoldChange >= 0.5\n",
    "# 3. padj > 0.05\n",
    "filtered_df = dea_df[\n",
    "    (dea_df['baseMean'] >= 50) & \n",
    "    (abs(dea_df['log2FoldChange']) >= 0.5) &\n",
    "    (dea_df['padj'] > 0.05)\n",
    "]\n",
    "\n",
    "# Sort by absolute fold change\n",
    "filtered_df['abs_log2FC'] = abs(filtered_df['log2FoldChange'])\n",
    "filtered_df = filtered_df.sort_values('abs_log2FC', ascending=False)\n",
    "\n",
    "# Drop the helper column\n",
    "filtered_df = filtered_df.drop('abs_log2FC', axis=1)\n",
    "\n",
    "# Save to Excel\n",
    "output_file = 'deregulated_genes_NSC.xlsx'\n",
    "filtered_df.to_excel(output_file, index=False)\n",
    "\n",
    "print(f\"Number of genes passing filters: {len(filtered_df)}\")\n",
    "print(f\"Results saved to {output_file}\")\n",
    "\n",
    "# Display first few rows\n",
    "filtered_df.head()\n"
   ]
  },
  {
   "cell_type": "markdown",
   "metadata": {},
   "source": [
    "### metaprofiles - In the metaprofile include -5kb, TSS, Gene Body, 5’ UTR (+5kb)\n",
    "- showing that Mecp2 is enriched at TSSs\n",
    "- image of enrichment at CpG islands\n"
   ]
  },
  {
   "attachments": {
    "image.png": {
     "image/png": "[encoded data removed]"
    }
   },
   "cell_type": "markdown",
   "metadata": {},
   "source": [
    "![image.png](attachment:image.png)"
   ]
  },
  {
   "cell_type": "code",
   "execution_count": null,
   "metadata": {},
   "outputs": [],
   "source": [
    "# Display the PDF file\n",
    "from IPython.display import IFrame\n",
    "\n",
    "# Create an IFrame to display the PDF\n",
    "IFrame(\"/beegfs/scratch/ric.broccoli/kubacki.michal/SRF_CUTandTAG/Visualization/results/combined_tss_profiles.pdf\", width=800, height=600)\n"
   ]
  }
 ],
 "metadata": {
  "kernelspec": {
   "display_name": "Python (snakemake)",
   "language": "python",
   "name": "snakemake"
  }
 },
 "nbformat": 4,
 "nbformat_minor": 2
}
